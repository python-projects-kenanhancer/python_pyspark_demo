{
 "cells": [
  {
   "cell_type": "code",
   "execution_count": 10,
   "id": "6251d6a8fee9663d",
   "metadata": {
    "ExecuteTime": {
     "end_time": "2023-11-03T16:54:21.179871Z",
     "start_time": "2023-11-03T16:54:20.566985Z"
    },
    "collapsed": false
   },
   "outputs": [],
   "source": [
    "from pyspark.sql import SparkSession\n",
    "from pyspark.sql.functions import split, explode, concat_ws, expr, count\n",
    "\n",
    "spark = SparkSession.builder \\\n",
    "    .appName('reading-text-file') \\\n",
    "    .getOrCreate()"
   ]
  },
  {
   "cell_type": "code",
   "execution_count": 2,
   "id": "1d5a6662c860bf1d",
   "metadata": {
    "ExecuteTime": {
     "end_time": "2023-11-03T16:54:26.472567Z",
     "start_time": "2023-11-03T16:54:22.126909Z"
    },
    "collapsed": false
   },
   "outputs": [
    {
     "name": "stdout",
     "output_type": "stream",
     "text": [
      "+--------------------+\n",
      "|               value|\n",
      "+--------------------+\n",
      "|people are not as...|\n",
      "|as they walk or a...|\n",
      "|they are only as ...|\n",
      "|as they care as t...|\n",
      "|                    |\n",
      "|people shine not ...|\n",
      "|or the way they c...|\n",
      "|true beauty is mo...|\n",
      "|it's in the kindn...|\n",
      "|                    |\n",
      "|in every smile, i...|\n",
      "|in moments of joy...|\n",
      "|people are beauti...|\n",
      "|when they dare to...|\n",
      "|                    |\n",
      "|so look beyond th...|\n",
      "|the beauty in you...|\n",
      "|for we are all be...|\n",
      "|as we live, as we...|\n",
      "+--------------------+\n",
      "\n"
     ]
    }
   ],
   "source": [
    "input_path = 'data/text-file.txt'\n",
    "\n",
    "text_file_df = spark.read.text(paths=input_path)\n",
    "\n",
    "text_file_df.show()"
   ]
  },
  {
   "cell_type": "code",
   "execution_count": 4,
   "id": "aa4fda1934489a07",
   "metadata": {
    "ExecuteTime": {
     "end_time": "2023-11-03T16:54:34.369467Z",
     "start_time": "2023-11-03T16:54:32.325239Z"
    },
    "collapsed": false
   },
   "outputs": [
    {
     "name": "stdout",
     "output_type": "stream",
     "text": [
      "+--------------------+\n",
      "|      array_of_words|\n",
      "+--------------------+\n",
      "|[people, are, not...|\n",
      "|[as, they, walk, ...|\n",
      "|[they, are, only,...|\n",
      "|[as, they, care, ...|\n",
      "|                  []|\n",
      "|[people, shine, n...|\n",
      "|[or, the, way, th...|\n",
      "|[true, beauty, is...|\n",
      "|[it's, in, the, k...|\n",
      "|                  []|\n",
      "|[in, every, smile...|\n",
      "|[in, moments, of,...|\n",
      "|[people, are, bea...|\n",
      "|[when, they, dare...|\n",
      "|                  []|\n",
      "|[so, look, beyond...|\n",
      "|[the, beauty, in,...|\n",
      "|[for, we, are, al...|\n",
      "|[as, we, live,, a...|\n",
      "+--------------------+\n",
      "\n",
      "Words count is 19\n"
     ]
    }
   ],
   "source": [
    "# Split each line into words array\n",
    "array_of_words = split(str=text_file_df['value'], pattern=' ').alias('array_of_words')\n",
    "\n",
    "array_of_words_df = text_file_df.select(array_of_words)\n",
    "\n",
    "array_of_words_df.show()\n",
    "\n",
    "word_count = array_of_words_df.count()\n",
    "\n",
    "print(f'Words count is {word_count}')"
   ]
  },
  {
   "cell_type": "code",
   "execution_count": 5,
   "id": "cfc2f5f40e70ca25",
   "metadata": {
    "ExecuteTime": {
     "end_time": "2023-11-03T16:58:17.628306Z",
     "start_time": "2023-11-03T16:58:15.096576Z"
    },
    "collapsed": false
   },
   "outputs": [
    {
     "name": "stdout",
     "output_type": "stream",
     "text": [
      "+-----------------------+\n",
      "|exploded_array_of_words|\n",
      "+-----------------------+\n",
      "|                 people|\n",
      "|                    are|\n",
      "|                    not|\n",
      "|                     as|\n",
      "|              beautiful|\n",
      "|                     as|\n",
      "|                   they|\n",
      "|                  look,|\n",
      "|                     as|\n",
      "|                   they|\n",
      "|                   walk|\n",
      "|                     or|\n",
      "|                     as|\n",
      "|                   they|\n",
      "|                  talk.|\n",
      "|                   they|\n",
      "|                    are|\n",
      "|                   only|\n",
      "|                     as|\n",
      "|              beautiful|\n",
      "+-----------------------+\n",
      "only showing top 20 rows\n",
      "\n",
      "Words count is 122\n"
     ]
    }
   ],
   "source": [
    "# Split each line into words array, then explode the array to create a new row for each word\n",
    "array_of_words = split(str=text_file_df['value'], pattern=' ')\n",
    "\n",
    "exploded_array_of_words = explode(col=array_of_words).alias('exploded_array_of_words')\n",
    "\n",
    "array_of_words_df = text_file_df.select(exploded_array_of_words)\n",
    "\n",
    "array_of_words_df.show()\n",
    "\n",
    "word_count = array_of_words_df.count()\n",
    "\n",
    "print(f'Words count is {word_count}')\n",
    "\n",
    "txt_output_path = 'output/output1'\n",
    "csv_output_path = 'output/output2'\n",
    "\n",
    "array_of_words_df.write.mode('overwrite').text(path=txt_output_path)\n",
    "array_of_words_df.write.csv(path=csv_output_path, mode='overwrite', header=True)"
   ]
  },
  {
   "cell_type": "code",
   "execution_count": 6,
   "id": "a96eee1fb9cede33",
   "metadata": {
    "ExecuteTime": {
     "end_time": "2023-11-03T17:08:01.700800Z",
     "start_time": "2023-11-03T17:08:00.026691Z"
    },
    "collapsed": false
   },
   "outputs": [
    {
     "name": "stdout",
     "output_type": "stream",
     "text": [
      "+--------------------+\n",
      "|      array_of_words|\n",
      "+--------------------+\n",
      "|[people, are, not...|\n",
      "|[as, they, walk, ...|\n",
      "|[they, are, only,...|\n",
      "|[as, they, care, ...|\n",
      "|                  []|\n",
      "|[people, shine, n...|\n",
      "|[or, the, way, th...|\n",
      "|[true, beauty, is...|\n",
      "|[it's, in, the, k...|\n",
      "|                  []|\n",
      "|[in, every, smile...|\n",
      "|[in, moments, of,...|\n",
      "|[people, are, bea...|\n",
      "|[when, they, dare...|\n",
      "|                  []|\n",
      "|[so, look, beyond...|\n",
      "|[the, beauty, in,...|\n",
      "|[for, we, are, al...|\n",
      "|[as, we, live,, a...|\n",
      "+--------------------+\n",
      "\n",
      "Line: people are not as beautiful as they look,\n",
      "Line: as they walk or as they talk.\n",
      "Line: they are only as beautiful as they love,\n",
      "Line: as they care as they share.\n",
      "Line: \n",
      "Line: people shine not by the clothes they wear,\n",
      "Line: or the way they comb their hair.\n",
      "Line: true beauty is more than skin deep,\n",
      "Line: it's in the kindness that they keep.\n",
      "Line: \n",
      "Line: in every smile, in every tear,\n",
      "Line: in moments of joy and when they fear,\n",
      "Line: people are beautiful when they are true,\n",
      "Line: when they dare to be vulnerable too.\n",
      "Line: \n",
      "Line: so look beyond the surface and see,\n",
      "Line: the beauty in you, the beauty in me.\n",
      "Line: for we are all beautiful in our unique way,\n",
      "Line: as we live, as we laugh, as we pray.\n"
     ]
    }
   ],
   "source": [
    "# Split each line into an array of words\n",
    "array_of_words = split(str=text_file_df['value'], pattern='\\\\s+')\n",
    "array_of_words_df = text_file_df.select(array_of_words.alias('array_of_words'))\n",
    "array_of_words_df.show()\n",
    "\n",
    "# Convert the array of words back to a string\n",
    "string_of_words_df = array_of_words_df.select(concat_ws(\" \", \"array_of_words\").alias(\"words\"))\n",
    "# string_of_words_df.show()\n",
    "\n",
    "rows = string_of_words_df.collect()\n",
    "\n",
    "for row in rows:\n",
    "    print(f'Line: {row[\"words\"]}')\n",
    "\n",
    "# Save the DataFrame to a text file\n",
    "text_output_path = 'output/output3'\n",
    "string_of_words_df.write.mode('overwrite').text(path=text_output_path)"
   ]
  },
  {
   "cell_type": "code",
   "execution_count": 7,
   "id": "6fb327aaa71ca43b",
   "metadata": {
    "ExecuteTime": {
     "end_time": "2023-11-03T17:23:26.063130Z",
     "start_time": "2023-11-03T17:23:26.022936Z"
    },
    "collapsed": false
   },
   "outputs": [],
   "source": [
    "array_of_words = split(str=text_file_df['value'], pattern=\" \")\n",
    "\n",
    "words_df = text_file_df.select(explode(array_of_words).alias('word'))\n",
    "\n",
    "words_by_count_df = words_df.groupBy('word').count().orderBy('count', ascending=False)"
   ]
  },
  {
   "cell_type": "code",
   "execution_count": 8,
   "id": "1635e4484b1866f4",
   "metadata": {
    "ExecuteTime": {
     "end_time": "2023-11-03T17:23:29.420951Z",
     "start_time": "2023-11-03T17:23:28.398012Z"
    },
    "collapsed": false
   },
   "outputs": [
    {
     "name": "stdout",
     "output_type": "stream",
     "text": [
      "+----------+-----+\n",
      "|      word|count|\n",
      "+----------+-----+\n",
      "|      they|   13|\n",
      "|        as|   11|\n",
      "|        in|    7|\n",
      "|       the|    6|\n",
      "|       are|    5|\n",
      "|        we|    4|\n",
      "| beautiful|    4|\n",
      "|    beauty|    3|\n",
      "|      when|    3|\n",
      "|    people|    3|\n",
      "|          |    3|\n",
      "|       not|    2|\n",
      "|       and|    2|\n",
      "|     every|    2|\n",
      "|        or|    2|\n",
      "|vulnerable|    1|\n",
      "|     deep,|    1|\n",
      "|   moments|    1|\n",
      "|       joy|    1|\n",
      "|     fear,|    1|\n",
      "+----------+-----+\n",
      "only showing top 20 rows\n",
      "\n"
     ]
    }
   ],
   "source": [
    "words_by_count_df.show()"
   ]
  },
  {
   "cell_type": "code",
   "execution_count": 11,
   "id": "5d1dcab060127539",
   "metadata": {
    "ExecuteTime": {
     "end_time": "2023-11-03T17:49:36.687250Z",
     "start_time": "2023-11-03T17:49:36.493013Z"
    },
    "collapsed": false
   },
   "outputs": [
    {
     "name": "stdout",
     "output_type": "stream",
     "text": [
      "+----+-----+\n",
      "|word|count|\n",
      "+----+-----+\n",
      "|they|   13|\n",
      "|  as|   11|\n",
      "|  in|    7|\n",
      "| the|    6|\n",
      "| are|    5|\n",
      "+----+-----+\n",
      "\n"
     ]
    }
   ],
   "source": [
    "words_by_count_df.filter(words_by_count_df['count'] > 4).show()"
   ]
  },
  {
   "cell_type": "code",
   "execution_count": 12,
   "id": "679fb8c28f0a14ec",
   "metadata": {
    "ExecuteTime": {
     "end_time": "2023-11-03T17:39:46.913658Z",
     "start_time": "2023-11-03T17:39:46.536886Z"
    },
    "collapsed": false
   },
   "outputs": [
    {
     "name": "stdout",
     "output_type": "stream",
     "text": [
      "+----------+-----+\n",
      "|      word|count|\n",
      "+----------+-----+\n",
      "|      they|   13|\n",
      "|        as|   11|\n",
      "|        in|    7|\n",
      "|       the|    6|\n",
      "|       are|    5|\n",
      "|        we|    4|\n",
      "| beautiful|    4|\n",
      "|    beauty|    3|\n",
      "|      when|    3|\n",
      "|    people|    3|\n",
      "|          |    3|\n",
      "|       not|    2|\n",
      "|       and|    2|\n",
      "|     every|    2|\n",
      "|        or|    2|\n",
      "|vulnerable|    1|\n",
      "|     deep,|    1|\n",
      "|   moments|    1|\n",
      "|       joy|    1|\n",
      "|     fear,|    1|\n",
      "+----------+-----+\n",
      "only showing top 20 rows\n",
      "\n"
     ]
    }
   ],
   "source": [
    "words_df.groupBy('word').agg(count('*').alias('count')).orderBy('count', ascending=False).show()"
   ]
  },
  {
   "cell_type": "code",
   "execution_count": 13,
   "id": "c464addefd225a75",
   "metadata": {
    "ExecuteTime": {
     "end_time": "2023-11-03T18:23:52.150434Z",
     "start_time": "2023-11-03T18:23:51.685051Z"
    },
    "collapsed": false
   },
   "outputs": [
    {
     "name": "stdout",
     "output_type": "stream",
     "text": [
      "+----------+-----+\n",
      "|      word|count|\n",
      "+----------+-----+\n",
      "|      they|   13|\n",
      "|        as|   11|\n",
      "|        in|    7|\n",
      "|       the|    6|\n",
      "|       are|    5|\n",
      "|        we|    4|\n",
      "| beautiful|    4|\n",
      "|    beauty|    3|\n",
      "|      when|    3|\n",
      "|    people|    3|\n",
      "|          |    3|\n",
      "|       not|    2|\n",
      "|       and|    2|\n",
      "|     every|    2|\n",
      "|        or|    2|\n",
      "|vulnerable|    1|\n",
      "|     deep,|    1|\n",
      "|   moments|    1|\n",
      "|       joy|    1|\n",
      "|     fear,|    1|\n",
      "+----------+-----+\n",
      "only showing top 20 rows\n",
      "\n"
     ]
    }
   ],
   "source": [
    "words_by_count_df = words_df.groupBy('word') \\\n",
    "    .agg(expr('count(*) as count')) \\\n",
    "    .orderBy('count', ascending=False)\n",
    "\n",
    "words_by_count_df.show()\n",
    "\n",
    "json_output_path = 'output/words-by-count'\n",
    "words_by_count_df.write.mode('overwrite').json(path=json_output_path)"
   ]
  },
  {
   "cell_type": "code",
   "execution_count": 14,
   "id": "bb418b199a0cf474",
   "metadata": {
    "ExecuteTime": {
     "end_time": "2023-11-03T18:22:37.233357Z",
     "start_time": "2023-11-03T18:22:36.410912Z"
    },
    "collapsed": false
   },
   "outputs": [
    {
     "name": "stdout",
     "output_type": "stream",
     "text": [
      "Word: they, count: 13\n",
      "Word: as, count: 11\n",
      "Word: in, count: 7\n",
      "Word: the, count: 6\n",
      "Word: are, count: 5\n"
     ]
    }
   ],
   "source": [
    "words_by_count_df = words_df.groupBy('word').agg(expr('count(*) as count')).filter(expr('count > 4')).orderBy('count',\n",
    "                                                                                                              ascending=False)\n",
    "\n",
    "for row in words_by_count_df.collect():\n",
    "    print(f'Word: {row[\"word\"]}, count: {row[\"count\"]}')\n",
    "\n",
    "json_output_path = 'output/words-by-count-bigger-than-four'\n",
    "words_by_count_df.write.mode('overwrite').json(path=json_output_path)"
   ]
  },
  {
   "cell_type": "code",
   "execution_count": 15,
   "id": "5323288864800454",
   "metadata": {
    "ExecuteTime": {
     "end_time": "2023-11-03T17:51:45.731206Z",
     "start_time": "2023-11-03T17:51:45.595541Z"
    },
    "collapsed": false
   },
   "outputs": [
    {
     "name": "stdout",
     "output_type": "stream",
     "text": [
      "+----------+-----+\n",
      "|      word|count|\n",
      "+----------+-----+\n",
      "|      they|   13|\n",
      "|        as|   11|\n",
      "|        in|    7|\n",
      "|       the|    6|\n",
      "|       are|    5|\n",
      "|        we|    4|\n",
      "| beautiful|    4|\n",
      "|    beauty|    3|\n",
      "|      when|    3|\n",
      "|    people|    3|\n",
      "|          |    3|\n",
      "|       not|    2|\n",
      "|       and|    2|\n",
      "|     every|    2|\n",
      "|        or|    2|\n",
      "|vulnerable|    1|\n",
      "|     deep,|    1|\n",
      "|   moments|    1|\n",
      "|       joy|    1|\n",
      "|     fear,|    1|\n",
      "+----------+-----+\n",
      "only showing top 20 rows\n",
      "\n"
     ]
    }
   ],
   "source": [
    "words_df.createOrReplaceTempView(\"words_table\")\n",
    "spark.sql(\"SELECT word, COUNT(*) as count FROM words_table GROUP BY word ORDER BY count DESC\").show()"
   ]
  },
  {
   "cell_type": "code",
   "execution_count": 16,
   "id": "4dc37f4c10d66ba0",
   "metadata": {
    "ExecuteTime": {
     "end_time": "2023-11-03T17:27:32.672845Z",
     "start_time": "2023-11-03T17:27:32.506086Z"
    },
    "collapsed": false
   },
   "outputs": [
    {
     "name": "stdout",
     "output_type": "stream",
     "text": [
      "Word: they, count: 13\n",
      "Word: as, count: 11\n",
      "Word: in, count: 7\n",
      "Word: the, count: 6\n",
      "Word: are, count: 5\n"
     ]
    }
   ],
   "source": [
    "top_five_words = words_by_count_df.take(5)\n",
    "\n",
    "for row in top_five_words:\n",
    "    print(f'Word: {row[\"word\"]}, count: {row[\"count\"]}')"
   ]
  }
 ],
 "metadata": {
  "kernelspec": {
   "display_name": ".venv",
   "language": "python",
   "name": "python3"
  },
  "language_info": {
   "codemirror_mode": {
    "name": "ipython",
    "version": 3
   },
   "file_extension": ".py",
   "mimetype": "text/x-python",
   "name": "python",
   "nbconvert_exporter": "python",
   "pygments_lexer": "ipython3",
   "version": "3.13.6"
  }
 },
 "nbformat": 4,
 "nbformat_minor": 5
}
