{
 "cells": [
  {
   "cell_type": "code",
   "execution_count": 1,
   "metadata": {},
   "outputs": [
    {
     "name": "stderr",
     "output_type": "stream",
     "text": [
      "WARNING: Using incubator modules: jdk.incubator.vector\n",
      "Using Spark's default log4j profile: org/apache/spark/log4j2-defaults.properties\n",
      "25/10/14 23:15:56 WARN Utils: Your hostname, kenans-MacBook-Pro.local, resolves to a loopback address: 127.0.0.1; using 192.168.1.102 instead (on interface en0)\n",
      "25/10/14 23:15:56 WARN Utils: Set SPARK_LOCAL_IP if you need to bind to another address\n",
      "Using Spark's default log4j profile: org/apache/spark/log4j2-defaults.properties\n",
      "Setting default log level to \"WARN\".\n",
      "To adjust logging level use sc.setLogLevel(newLevel). For SparkR, use setLogLevel(newLevel).\n",
      "25/10/14 23:15:56 WARN NativeCodeLoader: Unable to load native-hadoop library for your platform... using builtin-java classes where applicable\n"
     ]
    }
   ],
   "source": [
    "from typing import List\n",
    "\n",
    "from pyspark.sql import Row, SparkSession\n",
    "from pyspark.sql.functions import struct, udf\n",
    "from pyspark.sql.types import StringType\n",
    "\n",
    "spark = SparkSession.builder.appName(\"SalesReportXML\").getOrCreate()"
   ]
  },
  {
   "cell_type": "code",
   "execution_count": 2,
   "metadata": {},
   "outputs": [],
   "source": [
    "# Sample Data\n",
    "data: List[Row] = [\n",
    "    Row(ProductID=\"001\", ProductName=\"Widget A\", QuantitySold=10, SaleDate=\"2023-11-01\"),\n",
    "    Row(ProductID=\"002\", ProductName=\"Widget B\", QuantitySold=5, SaleDate=\"2023-11-02\"),\n",
    "    Row(\n",
    "        ProductID=\"003\",\n",
    "        ProductName=\"Gadget Pro\",\n",
    "        QuantitySold=12,\n",
    "        SaleDate=\"2023-11-02\",\n",
    "    ),\n",
    "]"
   ]
  },
  {
   "cell_type": "code",
   "execution_count": 3,
   "metadata": {},
   "outputs": [
    {
     "name": "stderr",
     "output_type": "stream",
     "text": [
      "                                                                                \r"
     ]
    },
    {
     "name": "stdout",
     "output_type": "stream",
     "text": [
      "+---------+-----------+------------+----------+\n",
      "|ProductID|ProductName|QuantitySold|  SaleDate|\n",
      "+---------+-----------+------------+----------+\n",
      "|      001|   Widget A|          10|2023-11-01|\n",
      "|      002|   Widget B|           5|2023-11-02|\n",
      "|      003| Gadget Pro|          12|2023-11-02|\n",
      "+---------+-----------+------------+----------+\n",
      "\n",
      "+------------------------------------------------------------------------------------------------------------------------------------------+\n",
      "|xml                                                                                                                                       |\n",
      "+------------------------------------------------------------------------------------------------------------------------------------------+\n",
      "|<Sale><ProductID>001</ProductID><ProductName>Widget A</ProductName><QuantitySold>10</QuantitySold><SaleDate>2023-11-01</SaleDate></Sale>  |\n",
      "|<Sale><ProductID>002</ProductID><ProductName>Widget B</ProductName><QuantitySold>5</QuantitySold><SaleDate>2023-11-02</SaleDate></Sale>   |\n",
      "|<Sale><ProductID>003</ProductID><ProductName>Gadget Pro</ProductName><QuantitySold>12</QuantitySold><SaleDate>2023-11-02</SaleDate></Sale>|\n",
      "+------------------------------------------------------------------------------------------------------------------------------------------+\n",
      "\n"
     ]
    }
   ],
   "source": [
    "def row_to_xml(row: Row) -> str:\n",
    "    return f\"<Sale><ProductID>{row['ProductID']}</ProductID><ProductName>{row['ProductName']}</ProductName><QuantitySold>{row['QuantitySold']}</QuantitySold><SaleDate>{row['SaleDate']}</SaleDate></Sale>\"\n",
    "\n",
    "\n",
    "row_to_xml_udf = udf(row_to_xml, StringType())\n",
    "\n",
    "df = spark.createDataFrame(data)\n",
    "\n",
    "df.show()\n",
    "\n",
    "xml_df = df.withColumn(\"xml\", row_to_xml_udf(struct(*df.columns)))\n",
    "\n",
    "xml_df.select(\"xml\").show(truncate=False)"
   ]
  },
  {
   "cell_type": "code",
   "execution_count": 4,
   "metadata": {},
   "outputs": [
    {
     "name": "stdout",
     "output_type": "stream",
     "text": [
      "['name', 'age', 'person']\n"
     ]
    }
   ],
   "source": [
    "# Sample Data\n",
    "data = [(\"Alice\", 25), (\"Bob\", 29)]\n",
    "df = spark.createDataFrame(data, [\"name\", \"age\"])\n",
    "\n",
    "# Create a struct column\n",
    "df_with_struct = df.withColumn(\"person\", struct(df[\"name\"], df[\"age\"]))\n",
    "\n",
    "print(df_with_struct.columns)\n",
    "\n",
    "# df_with_struct.select(\"person.name\", \"person.age\").show()\n"
   ]
  }
 ],
 "metadata": {
  "kernelspec": {
   "display_name": ".venv",
   "language": "python",
   "name": "python3"
  },
  "language_info": {
   "codemirror_mode": {
    "name": "ipython",
    "version": 3
   },
   "file_extension": ".py",
   "mimetype": "text/x-python",
   "name": "python",
   "nbconvert_exporter": "python",
   "pygments_lexer": "ipython3",
   "version": "3.13.6"
  }
 },
 "nbformat": 4,
 "nbformat_minor": 2
}
