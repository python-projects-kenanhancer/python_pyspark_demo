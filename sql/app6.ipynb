{
 "cells": [
  {
   "cell_type": "code",
   "execution_count": 1,
   "id": "initial_id",
   "metadata": {
    "ExecuteTime": {
     "end_time": "2023-11-15T11:44:34.060449Z",
     "start_time": "2023-11-15T11:44:28.978550Z"
    },
    "collapsed": true
   },
   "outputs": [
    {
     "name": "stderr",
     "output_type": "stream",
     "text": [
      "25/10/14 12:44:45 WARN Utils: Your hostname, kenans-MacBook-Pro.local resolves to a loopback address: 127.0.0.1; using 192.0.0.2 instead (on interface en0)\n",
      "25/10/14 12:44:45 WARN Utils: Set SPARK_LOCAL_IP if you need to bind to another address\n",
      "Setting default log level to \"WARN\".\n",
      "To adjust logging level use sc.setLogLevel(newLevel). For SparkR, use setLogLevel(newLevel).\n",
      "25/10/14 12:44:45 WARN NativeCodeLoader: Unable to load native-hadoop library for your platform... using builtin-java classes where applicable\n",
      "25/10/14 12:44:46 WARN Utils: Service 'SparkUI' could not bind on port 4040. Attempting port 4041.\n",
      "25/10/14 12:44:46 WARN Utils: Service 'SparkUI' could not bind on port 4041. Attempting port 4042.\n"
     ]
    }
   ],
   "source": [
    "from pyspark.sql import SparkSession, DataFrame\n",
    "from pyspark.sql.functions import avg\n",
    "from datetime import datetime, timedelta\n",
    "import random\n",
    "from typing import List, Tuple\n",
    "\n",
    "spark = SparkSession.builder.appName('sql').getOrCreate()"
   ]
  },
  {
   "cell_type": "code",
   "execution_count": 2,
   "id": "4ba4acebc44b6593",
   "metadata": {
    "ExecuteTime": {
     "end_time": "2023-11-15T11:44:34.504264Z",
     "start_time": "2023-11-15T11:44:34.496677Z"
    },
    "collapsed": false
   },
   "outputs": [],
   "source": [
    "def random_date(start: datetime, end: datetime) -> datetime:\n",
    "    \"\"\"Generate a random datetime between `start` and `end`\"\"\"\n",
    "    delta = end - start\n",
    "    random_second = random.randint(0, int(delta.total_seconds()))\n",
    "    return start + timedelta(seconds=random_second)\n",
    "\n",
    "\n",
    "def create_sample_data() -> DataFrame:\n",
    "    \"\"\"Create a sample DataFrame with retail sales data\"\"\"\n",
    "    products: List[Tuple[str, float]] = [\n",
    "        (\"Apple\", 1.0),\n",
    "        (\"Orange\", 2.0),\n",
    "        (\"Banana\", 3.0),\n",
    "        (\"Kiwi\", 4.0),\n",
    "        (\"Grape\", 5.0),\n",
    "        (\"Strawberry\", 6.0),\n",
    "        (\"Blueberry\", 7.0),\n",
    "        (\"Blackberry\", 8.0),\n",
    "        (\"Raspberry\", 9.0),\n",
    "        (\"Pineapple\", 10.0),\n",
    "    ]\n",
    "    data: List[Tuple[int, str, int, float, datetime, int]] = [(i,\n",
    "                                                               random.choice(products)[0],\n",
    "                                                               random.randint(1, 10),\n",
    "                                                               random.choice(products)[1],\n",
    "                                                               random_date(datetime(2021, 1, 1),\n",
    "                                                                           datetime(2021, 12, 31)),\n",
    "                                                               random.randint(1000, 1099))\n",
    "                                                              for i in range(10)]\n",
    "\n",
    "    schema = [\n",
    "        \"transaction_id\",\n",
    "        \"product_name\",\n",
    "        \"quantity\",\n",
    "        \"product_price\",\n",
    "        \"sales_date\",\n",
    "        \"customer_id\"]\n",
    "    return spark.createDataFrame(data, schema=schema)\n",
    "\n",
    "\n",
    "def calculate_total_sales(dff: DataFrame) -> DataFrame:\n",
    "    \"\"\"Calculate total sales for each product\"\"\"\n",
    "    return dff.groupBy(\"product_name\").sum(\"product_price\").withColumnRenamed(\"sum(product_price)\", \"total_sales\")\n",
    "\n",
    "\n",
    "def calculate_total_sales_by_month(dff: DataFrame) -> DataFrame:\n",
    "    \"\"\"Calculate total sales for each product by month\"\"\"\n",
    "    return dff.groupBy(\"product_name\", \"sales_date\").sum(\"product_price\").withColumnRenamed(\"sum(product_price)\",\n",
    "                                                                                            \"total_sales\")\n",
    "\n",
    "\n",
    "def calculate_total_sales_by_customer_and_month(dff: DataFrame) -> DataFrame:\n",
    "    \"\"\"Calculate total sales for each product by customer and month\"\"\"\n",
    "    return dff.groupBy(\"product_name\", \"customer_id\", \"sales_date\").sum(\"product_price\").withColumnRenamed(\n",
    "        \"sum(product_price)\", \"total_sales\")\n",
    "\n",
    "\n",
    "def calculate_total_sales_by_customer_and_product(dff: DataFrame) -> DataFrame:\n",
    "    \"\"\"Calculate total sales for each product by customer and product\"\"\"\n",
    "    return dff.groupBy(\"product_name\", \"customer_id\").sum(\"product_price\").withColumnRenamed(\"sum(product_price)\",\n",
    "                                                                                             \"total_sales\")\n",
    "\n",
    "\n",
    "def calculate_average_quantity_by_product(dff: DataFrame) -> DataFrame:\n",
    "    \"\"\"Calculate average quantity for each product\"\"\"\n",
    "    return dff.groupBy(\"product_name\").avg(\"quantity\").withColumnRenamed(\"avg(quantity)\", \"average_quantity\")\n",
    "\n",
    "\n",
    "def calculate_average_quantity(dff: DataFrame) -> DataFrame:\n",
    "    \"\"\"Calculate average quantity sold per transaction.\"\"\"\n",
    "    return dff.agg(avg(\"quantity\").alias(\"average_quantity\"))\n",
    "\n",
    "\n",
    "def count_transactions_per_customer(dff: DataFrame) -> DataFrame:\n",
    "    \"\"\"Count the number of transactions per customer\"\"\"\n",
    "    return dff.groupBy(\"customer_id\").count().withColumnRenamed(\"count\", \"transaction_count\")\n",
    "\n",
    "\n",
    "def calculate_total_sales_by_customer(dff: DataFrame) -> DataFrame:\n",
    "    \"\"\"Calculate total sales for each customer\"\"\"\n",
    "    return dff.groupBy(\"customer_id\").sum(\"product_price\").withColumnRenamed(\"sum(product_price)\", \"total_sales\")"
   ]
  },
  {
   "cell_type": "code",
   "execution_count": 3,
   "id": "110abdb3f435f412",
   "metadata": {
    "ExecuteTime": {
     "end_time": "2023-11-15T11:44:46.459295Z",
     "start_time": "2023-11-15T11:44:41.550213Z"
    },
    "collapsed": false
   },
   "outputs": [
    {
     "name": "stderr",
     "output_type": "stream",
     "text": [
      "                                                                                \r"
     ]
    },
    {
     "name": "stdout",
     "output_type": "stream",
     "text": [
      "+--------------+------------+--------+-------------+-------------------+-----------+\n",
      "|transaction_id|product_name|quantity|product_price|         sales_date|customer_id|\n",
      "+--------------+------------+--------+-------------+-------------------+-----------+\n",
      "|             0|  Strawberry|       8|          3.0|2021-04-28 15:03:20|       1021|\n",
      "|             1|   Pineapple|      10|          6.0|2021-11-13 14:10:53|       1039|\n",
      "|             2|   Pineapple|      10|          4.0|2021-09-26 10:36:22|       1018|\n",
      "|             3|  Blackberry|      10|          3.0|2021-11-29 11:32:47|       1046|\n",
      "|             4|        Kiwi|       6|          7.0|2021-12-27 09:34:32|       1010|\n",
      "|             5|       Grape|       2|          3.0|2021-10-18 10:40:46|       1084|\n",
      "|             6|  Blackberry|       7|          2.0|2021-01-02 23:56:54|       1012|\n",
      "|             7|  Blackberry|       8|          6.0|2021-01-25 01:47:02|       1079|\n",
      "|             8|   Pineapple|       7|          7.0|2021-12-15 20:01:29|       1058|\n",
      "|             9|   Raspberry|       1|          5.0|2021-07-03 07:05:09|       1092|\n",
      "+--------------+------------+--------+-------------+-------------------+-----------+\n",
      "\n"
     ]
    }
   ],
   "source": [
    "# Creating and Analyzing the Dataset\n",
    "df = create_sample_data()\n",
    "df.show()"
   ]
  },
  {
   "cell_type": "code",
   "execution_count": 4,
   "id": "ea80e0f2208b051d",
   "metadata": {
    "ExecuteTime": {
     "end_time": "2023-11-15T09:47:15.280037Z",
     "start_time": "2023-11-15T09:47:14.417388Z"
    },
    "collapsed": false
   },
   "outputs": [
    {
     "name": "stdout",
     "output_type": "stream",
     "text": [
      "+------------+-----------+\n",
      "|product_name|total_sales|\n",
      "+------------+-----------+\n",
      "|  Strawberry|        3.0|\n",
      "|   Pineapple|       17.0|\n",
      "|  Blackberry|       11.0|\n",
      "|        Kiwi|        7.0|\n",
      "|       Grape|        3.0|\n",
      "|   Raspberry|        5.0|\n",
      "+------------+-----------+\n",
      "\n"
     ]
    }
   ],
   "source": [
    "calculate_total_sales(df).show()"
   ]
  },
  {
   "cell_type": "code",
   "execution_count": 5,
   "id": "73b184e68f890938",
   "metadata": {
    "ExecuteTime": {
     "end_time": "2023-11-15T09:47:18.685872Z",
     "start_time": "2023-11-15T09:47:18.096865Z"
    },
    "collapsed": false
   },
   "outputs": [
    {
     "name": "stdout",
     "output_type": "stream",
     "text": [
      "+-----------+-----------+\n",
      "|customer_id|total_sales|\n",
      "+-----------+-----------+\n",
      "|       1021|        3.0|\n",
      "|       1039|        6.0|\n",
      "|       1018|        4.0|\n",
      "|       1046|        3.0|\n",
      "|       1010|        7.0|\n",
      "|       1084|        3.0|\n",
      "|       1012|        2.0|\n",
      "|       1079|        6.0|\n",
      "|       1058|        7.0|\n",
      "|       1092|        5.0|\n",
      "+-----------+-----------+\n",
      "\n"
     ]
    }
   ],
   "source": [
    "calculate_total_sales_by_customer(df).show()"
   ]
  },
  {
   "cell_type": "code",
   "execution_count": 6,
   "id": "8a5f06d3b855839",
   "metadata": {
    "ExecuteTime": {
     "end_time": "2023-11-15T09:47:51.107974Z",
     "start_time": "2023-11-15T09:47:50.456608Z"
    },
    "collapsed": false
   },
   "outputs": [
    {
     "name": "stdout",
     "output_type": "stream",
     "text": [
      "+----------------+\n",
      "|average_quantity|\n",
      "+----------------+\n",
      "|             6.9|\n",
      "+----------------+\n",
      "\n"
     ]
    }
   ],
   "source": [
    "calculate_average_quantity(df).show()"
   ]
  },
  {
   "cell_type": "code",
   "execution_count": 7,
   "id": "6e5e74d8df75d467",
   "metadata": {
    "ExecuteTime": {
     "end_time": "2023-11-15T09:49:11.990537Z",
     "start_time": "2023-11-15T09:49:10.584536Z"
    },
    "collapsed": false
   },
   "outputs": [
    {
     "name": "stdout",
     "output_type": "stream",
     "text": [
      "+------------+-----------------+\n",
      "|product_name| average_quantity|\n",
      "+------------+-----------------+\n",
      "|  Strawberry|              8.0|\n",
      "|   Pineapple|              9.0|\n",
      "|  Blackberry|8.333333333333334|\n",
      "|        Kiwi|              6.0|\n",
      "|       Grape|              2.0|\n",
      "|   Raspberry|              1.0|\n",
      "+------------+-----------------+\n",
      "\n"
     ]
    }
   ],
   "source": [
    "calculate_average_quantity_by_product(df).show()"
   ]
  },
  {
   "cell_type": "code",
   "execution_count": 8,
   "id": "c406b43a95471f06",
   "metadata": {
    "ExecuteTime": {
     "end_time": "2023-11-15T09:49:35.193928Z",
     "start_time": "2023-11-15T09:49:34.477202Z"
    },
    "collapsed": false
   },
   "outputs": [
    {
     "name": "stdout",
     "output_type": "stream",
     "text": [
      "+-----------+-----------------+\n",
      "|customer_id|transaction_count|\n",
      "+-----------+-----------------+\n",
      "|       1021|                1|\n",
      "|       1039|                1|\n",
      "|       1018|                1|\n",
      "|       1046|                1|\n",
      "|       1010|                1|\n",
      "|       1084|                1|\n",
      "|       1012|                1|\n",
      "|       1079|                1|\n",
      "|       1058|                1|\n",
      "|       1092|                1|\n",
      "+-----------+-----------------+\n",
      "\n"
     ]
    }
   ],
   "source": [
    "count_transactions_per_customer(df).show()"
   ]
  },
  {
   "cell_type": "code",
   "execution_count": null,
   "id": "77e9101db0dfa27f",
   "metadata": {
    "collapsed": false
   },
   "outputs": [],
   "source": []
  }
 ],
 "metadata": {
  "kernelspec": {
   "display_name": ".venv",
   "language": "python",
   "name": "python3"
  },
  "language_info": {
   "codemirror_mode": {
    "name": "ipython",
    "version": 3
   },
   "file_extension": ".py",
   "mimetype": "text/x-python",
   "name": "python",
   "nbconvert_exporter": "python",
   "pygments_lexer": "ipython3",
   "version": "3.13.6"
  }
 },
 "nbformat": 4,
 "nbformat_minor": 5
}
