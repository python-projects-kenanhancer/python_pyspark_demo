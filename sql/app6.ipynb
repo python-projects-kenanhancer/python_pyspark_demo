{
 "cells": [
  {
   "cell_type": "code",
   "execution_count": 2,
   "id": "initial_id",
   "metadata": {
    "collapsed": true,
    "ExecuteTime": {
     "end_time": "2023-11-15T11:44:34.060449Z",
     "start_time": "2023-11-15T11:44:28.978550Z"
    }
   },
   "outputs": [
    {
     "name": "stderr",
     "output_type": "stream",
     "text": [
      "23/11/15 11:44:30 WARN Utils: Your hostname, kenans-MacBook-Pro.local resolves to a loopback address: 127.0.0.1; using 172.20.10.2 instead (on interface en0)\n",
      "23/11/15 11:44:30 WARN Utils: Set SPARK_LOCAL_IP if you need to bind to another address\n",
      "WARNING: An illegal reflective access operation has occurred\n",
      "WARNING: Illegal reflective access by org.apache.spark.unsafe.Platform (file:/Users/kenanhancer/Documents/projects/python-projects-kenanhancer/python_pyspark_demo/.venv/lib/python3.10/site-packages/pyspark/jars/spark-unsafe_2.12-3.0.3.jar) to constructor java.nio.DirectByteBuffer(long,int)\n",
      "WARNING: Please consider reporting this to the maintainers of org.apache.spark.unsafe.Platform\n",
      "WARNING: Use --illegal-access=warn to enable warnings of further illegal reflective access operations\n",
      "WARNING: All illegal access operations will be denied in a future release\n",
      "23/11/15 11:44:31 WARN NativeCodeLoader: Unable to load native-hadoop library for your platform... using builtin-java classes where applicable\n",
      "Using Spark's default log4j profile: org/apache/spark/log4j-defaults.properties\n",
      "Setting default log level to \"WARN\".\n",
      "To adjust logging level use sc.setLogLevel(newLevel). For SparkR, use setLogLevel(newLevel).\n",
      "23/11/15 11:44:32 WARN Utils: Service 'SparkUI' could not bind on port 4040. Attempting port 4041.\n",
      "23/11/15 11:44:32 WARN Utils: Service 'SparkUI' could not bind on port 4041. Attempting port 4042.\n"
     ]
    }
   ],
   "source": [
    "from pyspark.sql import SparkSession, DataFrame\n",
    "from pyspark.sql.functions import avg\n",
    "from datetime import datetime, timedelta\n",
    "import random\n",
    "from typing import List, Tuple\n",
    "\n",
    "spark = SparkSession.builder.appName('sql').getOrCreate()"
   ]
  },
  {
   "cell_type": "code",
   "execution_count": 3,
   "id": "4ba4acebc44b6593",
   "metadata": {
    "collapsed": false,
    "ExecuteTime": {
     "end_time": "2023-11-15T11:44:34.504264Z",
     "start_time": "2023-11-15T11:44:34.496677Z"
    }
   },
   "outputs": [],
   "source": [
    "def random_date(start: datetime, end: datetime) -> datetime:\n",
    "    \"\"\"Generate a random datetime between `start` and `end`\"\"\"\n",
    "    delta = end - start\n",
    "    random_second = random.randint(0, int(delta.total_seconds()))\n",
    "    return start + timedelta(seconds=random_second)\n",
    "\n",
    "\n",
    "def create_sample_data() -> DataFrame:\n",
    "    \"\"\"Create a sample DataFrame with retail sales data\"\"\"\n",
    "    products: List[Tuple[str, float]] = [\n",
    "        (\"Apple\", 1.0),\n",
    "        (\"Orange\", 2.0),\n",
    "        (\"Banana\", 3.0),\n",
    "        (\"Kiwi\", 4.0),\n",
    "        (\"Grape\", 5.0),\n",
    "        (\"Strawberry\", 6.0),\n",
    "        (\"Blueberry\", 7.0),\n",
    "        (\"Blackberry\", 8.0),\n",
    "        (\"Raspberry\", 9.0),\n",
    "        (\"Pineapple\", 10.0),\n",
    "    ]\n",
    "    data: List[Tuple[int, str, int, float, datetime, int]] = [(i,\n",
    "                                                               random.choice(products)[0],\n",
    "                                                               random.randint(1, 10),\n",
    "                                                               random.choice(products)[1],\n",
    "                                                               random_date(datetime(2021, 1, 1),\n",
    "                                                                           datetime(2021, 12, 31)),\n",
    "                                                               random.randint(1000, 1099))\n",
    "                                                              for i in range(10)]\n",
    "\n",
    "    schema = [\n",
    "        \"transaction_id\",\n",
    "        \"product_name\",\n",
    "        \"quantity\",\n",
    "        \"product_price\",\n",
    "        \"sales_date\",\n",
    "        \"customer_id\"]\n",
    "    return spark.createDataFrame(data, schema=schema)\n",
    "\n",
    "\n",
    "def calculate_total_sales(dff: DataFrame) -> DataFrame:\n",
    "    \"\"\"Calculate total sales for each product\"\"\"\n",
    "    return dff.groupBy(\"product_name\").sum(\"product_price\").withColumnRenamed(\"sum(product_price)\", \"total_sales\")\n",
    "\n",
    "\n",
    "def calculate_total_sales_by_month(dff: DataFrame) -> DataFrame:\n",
    "    \"\"\"Calculate total sales for each product by month\"\"\"\n",
    "    return dff.groupBy(\"product_name\", \"sales_date\").sum(\"product_price\").withColumnRenamed(\"sum(product_price)\",\n",
    "                                                                                            \"total_sales\")\n",
    "\n",
    "\n",
    "def calculate_total_sales_by_customer_and_month(dff: DataFrame) -> DataFrame:\n",
    "    \"\"\"Calculate total sales for each product by customer and month\"\"\"\n",
    "    return dff.groupBy(\"product_name\", \"customer_id\", \"sales_date\").sum(\"product_price\").withColumnRenamed(\n",
    "        \"sum(product_price)\", \"total_sales\")\n",
    "\n",
    "\n",
    "def calculate_total_sales_by_customer_and_product(dff: DataFrame) -> DataFrame:\n",
    "    \"\"\"Calculate total sales for each product by customer and product\"\"\"\n",
    "    return dff.groupBy(\"product_name\", \"customer_id\").sum(\"product_price\").withColumnRenamed(\"sum(product_price)\",\n",
    "                                                                                             \"total_sales\")\n",
    "\n",
    "\n",
    "def calculate_average_quantity_by_product(dff: DataFrame) -> DataFrame:\n",
    "    \"\"\"Calculate average quantity for each product\"\"\"\n",
    "    return dff.groupBy(\"product_name\").avg(\"quantity\").withColumnRenamed(\"avg(quantity)\", \"average_quantity\")\n",
    "\n",
    "\n",
    "def calculate_average_quantity(dff: DataFrame) -> DataFrame:\n",
    "    \"\"\"Calculate average quantity sold per transaction.\"\"\"\n",
    "    return dff.agg(avg(\"quantity\").alias(\"average_quantity\"))\n",
    "\n",
    "\n",
    "def count_transactions_per_customer(dff: DataFrame) -> DataFrame:\n",
    "    \"\"\"Count the number of transactions per customer\"\"\"\n",
    "    return dff.groupBy(\"customer_id\").count().withColumnRenamed(\"count\", \"transaction_count\")\n",
    "\n",
    "\n",
    "def calculate_total_sales_by_customer(dff: DataFrame) -> DataFrame:\n",
    "    \"\"\"Calculate total sales for each customer\"\"\"\n",
    "    return dff.groupBy(\"customer_id\").sum(\"product_price\").withColumnRenamed(\"sum(product_price)\", \"total_sales\")"
   ]
  },
  {
   "cell_type": "code",
   "execution_count": 4,
   "id": "110abdb3f435f412",
   "metadata": {
    "collapsed": false,
    "ExecuteTime": {
     "end_time": "2023-11-15T11:44:46.459295Z",
     "start_time": "2023-11-15T11:44:41.550213Z"
    }
   },
   "outputs": [
    {
     "name": "stderr",
     "output_type": "stream",
     "text": [
      "                                                                                \r"
     ]
    },
    {
     "name": "stdout",
     "output_type": "stream",
     "text": [
      "+--------------+------------+--------+-------------+-------------------+-----------+\n",
      "|transaction_id|product_name|quantity|product_price|         sales_date|customer_id|\n",
      "+--------------+------------+--------+-------------+-------------------+-----------+\n",
      "|             0|   Blueberry|       3|          9.0|2021-01-29 13:06:35|       1028|\n",
      "|             1|       Grape|       4|          4.0|2021-03-23 08:47:36|       1061|\n",
      "|             2|   Blueberry|       2|          4.0|2021-05-21 14:38:51|       1052|\n",
      "|             3|   Pineapple|       1|          5.0|2021-10-04 05:11:04|       1070|\n",
      "|             4|  Strawberry|       5|         10.0|2021-11-12 11:32:05|       1096|\n",
      "|             5|       Apple|       9|          5.0|2021-12-18 05:10:08|       1053|\n",
      "|             6|   Raspberry|       6|          2.0|2021-05-05 18:24:55|       1029|\n",
      "|             7|  Blackberry|       2|          2.0|2021-04-26 17:41:14|       1059|\n",
      "|             8|   Raspberry|       4|          7.0|2021-04-20 15:50:33|       1083|\n",
      "|             9|   Raspberry|       5|          9.0|2021-01-30 16:09:59|       1000|\n",
      "+--------------+------------+--------+-------------+-------------------+-----------+\n"
     ]
    }
   ],
   "source": [
    "# Creating and Analyzing the Dataset\n",
    "df = create_sample_data()\n",
    "df.show()"
   ]
  },
  {
   "cell_type": "code",
   "execution_count": 19,
   "id": "ea80e0f2208b051d",
   "metadata": {
    "collapsed": false,
    "ExecuteTime": {
     "end_time": "2023-11-15T09:47:15.280037Z",
     "start_time": "2023-11-15T09:47:14.417388Z"
    }
   },
   "outputs": [
    {
     "name": "stdout",
     "output_type": "stream",
     "text": [
      "+------------+-----------+\n",
      "|product_name|total_sales|\n",
      "+------------+-----------+\n",
      "|      Banana|        4.0|\n",
      "|  Strawberry|        3.0|\n",
      "|        Kiwi|       30.0|\n",
      "|  Blackberry|        3.0|\n",
      "|       Apple|       19.0|\n",
      "+------------+-----------+\n"
     ]
    }
   ],
   "source": [
    "calculate_total_sales(df).show()"
   ]
  },
  {
   "cell_type": "code",
   "execution_count": 20,
   "outputs": [
    {
     "name": "stdout",
     "output_type": "stream",
     "text": [
      "+-----------+-----------+\n",
      "|customer_id|total_sales|\n",
      "+-----------+-----------+\n",
      "|       1073|        4.0|\n",
      "|       1099|        9.0|\n",
      "|       1060|        3.0|\n",
      "|       1024|        8.0|\n",
      "|       1000|        8.0|\n",
      "|       1096|        8.0|\n",
      "|       1020|        4.0|\n",
      "|       1049|        3.0|\n",
      "|       1017|       10.0|\n",
      "|       1033|        2.0|\n",
      "+-----------+-----------+\n"
     ]
    }
   ],
   "source": [
    "calculate_total_sales_by_customer(df).show()"
   ],
   "metadata": {
    "collapsed": false,
    "ExecuteTime": {
     "end_time": "2023-11-15T09:47:18.685872Z",
     "start_time": "2023-11-15T09:47:18.096865Z"
    }
   },
   "id": "73b184e68f890938"
  },
  {
   "cell_type": "code",
   "execution_count": 21,
   "outputs": [
    {
     "name": "stdout",
     "output_type": "stream",
     "text": [
      "+----------------+\n",
      "|average_quantity|\n",
      "+----------------+\n",
      "|             6.6|\n",
      "+----------------+\n"
     ]
    }
   ],
   "source": [
    "calculate_average_quantity(df).show()"
   ],
   "metadata": {
    "collapsed": false,
    "ExecuteTime": {
     "end_time": "2023-11-15T09:47:51.107974Z",
     "start_time": "2023-11-15T09:47:50.456608Z"
    }
   },
   "id": "8a5f06d3b855839"
  },
  {
   "cell_type": "code",
   "execution_count": 22,
   "outputs": [
    {
     "name": "stdout",
     "output_type": "stream",
     "text": [
      "+------------+-----------------+\n",
      "|product_name| average_quantity|\n",
      "+------------+-----------------+\n",
      "|      Banana|              9.0|\n",
      "|  Strawberry|              8.0|\n",
      "|        Kiwi|             6.75|\n",
      "|  Blackberry|              5.0|\n",
      "|       Apple|5.666666666666667|\n",
      "+------------+-----------------+\n"
     ]
    }
   ],
   "source": [
    "calculate_average_quantity_by_product(df).show()"
   ],
   "metadata": {
    "collapsed": false,
    "ExecuteTime": {
     "end_time": "2023-11-15T09:49:11.990537Z",
     "start_time": "2023-11-15T09:49:10.584536Z"
    }
   },
   "id": "6e5e74d8df75d467"
  },
  {
   "cell_type": "code",
   "execution_count": 23,
   "outputs": [
    {
     "name": "stdout",
     "output_type": "stream",
     "text": [
      "+-----------+-----------------+\n",
      "|customer_id|transaction_count|\n",
      "+-----------+-----------------+\n",
      "|       1073|                1|\n",
      "|       1099|                1|\n",
      "|       1060|                1|\n",
      "|       1024|                1|\n",
      "|       1000|                1|\n",
      "|       1096|                1|\n",
      "|       1020|                1|\n",
      "|       1049|                1|\n",
      "|       1017|                1|\n",
      "|       1033|                1|\n",
      "+-----------+-----------------+\n"
     ]
    }
   ],
   "source": [
    "count_transactions_per_customer(df).show()"
   ],
   "metadata": {
    "collapsed": false,
    "ExecuteTime": {
     "end_time": "2023-11-15T09:49:35.193928Z",
     "start_time": "2023-11-15T09:49:34.477202Z"
    }
   },
   "id": "c406b43a95471f06"
  },
  {
   "cell_type": "code",
   "execution_count": null,
   "outputs": [],
   "source": [],
   "metadata": {
    "collapsed": false
   },
   "id": "77e9101db0dfa27f"
  }
 ],
 "metadata": {
  "kernelspec": {
   "display_name": "Python 3",
   "language": "python",
   "name": "python3"
  },
  "language_info": {
   "codemirror_mode": {
    "name": "ipython",
    "version": 3
   },
   "file_extension": ".py",
   "mimetype": "text/x-python",
   "name": "python",
   "nbconvert_exporter": "python",
   "pygments_lexer": "ipython3",
   "version": "3.10.13"
  }
 },
 "nbformat": 4,
 "nbformat_minor": 5
}
