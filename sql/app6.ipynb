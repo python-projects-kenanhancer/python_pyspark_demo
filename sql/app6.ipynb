{
 "cells": [
  {
   "cell_type": "code",
   "execution_count": null,
   "id": "initial_id",
   "metadata": {
    "ExecuteTime": {
     "end_time": "2023-11-15T11:44:34.060449Z",
     "start_time": "2023-11-15T11:44:28.978550Z"
    },
    "collapsed": true
   },
   "outputs": [
    {
     "name": "stderr",
     "output_type": "stream",
     "text": [
      "WARNING: Using incubator modules: jdk.incubator.vector\n",
      "Using Spark's default log4j profile: org/apache/spark/log4j2-defaults.properties\n",
      "25/10/14 23:16:40 WARN Utils: Your hostname, kenans-MacBook-Pro.local, resolves to a loopback address: 127.0.0.1; using 192.168.1.102 instead (on interface en0)\n",
      "25/10/14 23:16:40 WARN Utils: Set SPARK_LOCAL_IP if you need to bind to another address\n",
      "Using Spark's default log4j profile: org/apache/spark/log4j2-defaults.properties\n",
      "Setting default log level to \"WARN\".\n",
      "To adjust logging level use sc.setLogLevel(newLevel). For SparkR, use setLogLevel(newLevel).\n",
      "25/10/14 23:16:41 WARN NativeCodeLoader: Unable to load native-hadoop library for your platform... using builtin-java classes where applicable\n",
      "25/10/14 23:16:41 WARN Utils: Service 'SparkUI' could not bind on port 4040. Attempting port 4041.\n",
      "25/10/14 23:16:41 WARN Utils: Service 'SparkUI' could not bind on port 4041. Attempting port 4042.\n"
     ]
    }
   ],
   "source": [
    "import random\n",
    "from datetime import datetime, timedelta\n",
    "from typing import List, Tuple\n",
    "\n",
    "from pyspark.sql import DataFrame, SparkSession\n",
    "from pyspark.sql.functions import avg\n",
    "\n",
    "spark = SparkSession.builder.appName(\"sql\").getOrCreate()"
   ]
  },
  {
   "cell_type": "code",
   "execution_count": null,
   "id": "4ba4acebc44b6593",
   "metadata": {
    "ExecuteTime": {
     "end_time": "2023-11-15T11:44:34.504264Z",
     "start_time": "2023-11-15T11:44:34.496677Z"
    },
    "collapsed": false
   },
   "outputs": [],
   "source": [
    "def random_date(start: datetime, end: datetime) -> datetime:\n",
    "    \"\"\"Generate a random datetime between `start` and `end`\"\"\"\n",
    "    delta = end - start\n",
    "    random_second = random.randint(0, int(delta.total_seconds()))\n",
    "    return start + timedelta(seconds=random_second)\n",
    "\n",
    "\n",
    "def create_sample_data() -> DataFrame:\n",
    "    \"\"\"Create a sample DataFrame with retail sales data\"\"\"\n",
    "    products: List[Tuple[str, float]] = [\n",
    "        (\"Apple\", 1.0),\n",
    "        (\"Orange\", 2.0),\n",
    "        (\"Banana\", 3.0),\n",
    "        (\"Kiwi\", 4.0),\n",
    "        (\"Grape\", 5.0),\n",
    "        (\"Strawberry\", 6.0),\n",
    "        (\"Blueberry\", 7.0),\n",
    "        (\"Blackberry\", 8.0),\n",
    "        (\"Raspberry\", 9.0),\n",
    "        (\"Pineapple\", 10.0),\n",
    "    ]\n",
    "    data: List[Tuple[int, str, int, float, datetime, int]] = [\n",
    "        (\n",
    "            i,\n",
    "            random.choice(products)[0],\n",
    "            random.randint(1, 10),\n",
    "            random.choice(products)[1],\n",
    "            random_date(datetime(2021, 1, 1), datetime(2021, 12, 31)),\n",
    "            random.randint(1000, 1099),\n",
    "        )\n",
    "        for i in range(10)\n",
    "    ]\n",
    "\n",
    "    schema = [\"transaction_id\", \"product_name\", \"quantity\", \"product_price\", \"sales_date\", \"customer_id\"]\n",
    "    return spark.createDataFrame(data, schema=schema)\n",
    "\n",
    "\n",
    "def calculate_total_sales(dff: DataFrame) -> DataFrame:\n",
    "    \"\"\"Calculate total sales for each product\"\"\"\n",
    "    return dff.groupBy(\"product_name\").sum(\"product_price\").withColumnRenamed(\"sum(product_price)\", \"total_sales\")\n",
    "\n",
    "\n",
    "def calculate_total_sales_by_month(dff: DataFrame) -> DataFrame:\n",
    "    \"\"\"Calculate total sales for each product by month\"\"\"\n",
    "    return dff.groupBy(\"product_name\", \"sales_date\").sum(\"product_price\").withColumnRenamed(\"sum(product_price)\", \"total_sales\")\n",
    "\n",
    "\n",
    "def calculate_total_sales_by_customer_and_month(dff: DataFrame) -> DataFrame:\n",
    "    \"\"\"Calculate total sales for each product by customer and month\"\"\"\n",
    "    return (\n",
    "        dff.groupBy(\"product_name\", \"customer_id\", \"sales_date\")\n",
    "        .sum(\"product_price\")\n",
    "        .withColumnRenamed(\"sum(product_price)\", \"total_sales\")\n",
    "    )\n",
    "\n",
    "\n",
    "def calculate_total_sales_by_customer_and_product(dff: DataFrame) -> DataFrame:\n",
    "    \"\"\"Calculate total sales for each product by customer and product\"\"\"\n",
    "    return dff.groupBy(\"product_name\", \"customer_id\").sum(\"product_price\").withColumnRenamed(\"sum(product_price)\", \"total_sales\")\n",
    "\n",
    "\n",
    "def calculate_average_quantity_by_product(dff: DataFrame) -> DataFrame:\n",
    "    \"\"\"Calculate average quantity for each product\"\"\"\n",
    "    return dff.groupBy(\"product_name\").avg(\"quantity\").withColumnRenamed(\"avg(quantity)\", \"average_quantity\")\n",
    "\n",
    "\n",
    "def calculate_average_quantity(dff: DataFrame) -> DataFrame:\n",
    "    \"\"\"Calculate average quantity sold per transaction.\"\"\"\n",
    "    return dff.agg(avg(\"quantity\").alias(\"average_quantity\"))\n",
    "\n",
    "\n",
    "def count_transactions_per_customer(dff: DataFrame) -> DataFrame:\n",
    "    \"\"\"Count the number of transactions per customer\"\"\"\n",
    "    return dff.groupBy(\"customer_id\").count().withColumnRenamed(\"count\", \"transaction_count\")\n",
    "\n",
    "\n",
    "def calculate_total_sales_by_customer(dff: DataFrame) -> DataFrame:\n",
    "    \"\"\"Calculate total sales for each customer\"\"\"\n",
    "    return dff.groupBy(\"customer_id\").sum(\"product_price\").withColumnRenamed(\"sum(product_price)\", \"total_sales\")"
   ]
  },
  {
   "cell_type": "code",
   "execution_count": 3,
   "id": "110abdb3f435f412",
   "metadata": {
    "ExecuteTime": {
     "end_time": "2023-11-15T11:44:46.459295Z",
     "start_time": "2023-11-15T11:44:41.550213Z"
    },
    "collapsed": false
   },
   "outputs": [
    {
     "name": "stdout",
     "output_type": "stream",
     "text": [
      "+--------------+------------+--------+-------------+-------------------+-----------+\n",
      "|transaction_id|product_name|quantity|product_price|         sales_date|customer_id|\n",
      "+--------------+------------+--------+-------------+-------------------+-----------+\n",
      "|             0|  Strawberry|       7|          2.0|2021-04-26 22:12:47|       1096|\n",
      "|             1|   Raspberry|       1|          4.0|2021-04-14 21:40:41|       1027|\n",
      "|             2|      Banana|      10|          4.0|2021-07-10 07:40:14|       1031|\n",
      "|             3|       Grape|       2|          1.0|2021-03-22 21:44:27|       1073|\n",
      "|             4|  Blackberry|       6|          6.0|2021-12-23 09:11:36|       1092|\n",
      "|             5|        Kiwi|       9|          5.0|2021-04-30 15:00:14|       1078|\n",
      "|             6|  Strawberry|      10|          8.0|2021-11-30 17:49:28|       1041|\n",
      "|             7|   Pineapple|       1|         10.0|2021-10-20 08:48:06|       1017|\n",
      "|             8|  Blackberry|       2|          4.0|2021-09-23 21:59:03|       1023|\n",
      "|             9|   Pineapple|       9|          8.0|2021-05-23 16:35:35|       1089|\n",
      "+--------------+------------+--------+-------------+-------------------+-----------+\n",
      "\n"
     ]
    },
    {
     "name": "stderr",
     "output_type": "stream",
     "text": [
      "                                                                                \r"
     ]
    }
   ],
   "source": [
    "# Creating and Analyzing the Dataset\n",
    "df = create_sample_data()\n",
    "df.show()"
   ]
  },
  {
   "cell_type": "code",
   "execution_count": 4,
   "id": "ea80e0f2208b051d",
   "metadata": {
    "ExecuteTime": {
     "end_time": "2023-11-15T09:47:15.280037Z",
     "start_time": "2023-11-15T09:47:14.417388Z"
    },
    "collapsed": false
   },
   "outputs": [
    {
     "name": "stdout",
     "output_type": "stream",
     "text": [
      "+------------+-----------+\n",
      "|product_name|total_sales|\n",
      "+------------+-----------+\n",
      "|  Strawberry|       10.0|\n",
      "|   Raspberry|        4.0|\n",
      "|      Banana|        4.0|\n",
      "|       Grape|        1.0|\n",
      "|  Blackberry|       10.0|\n",
      "|        Kiwi|        5.0|\n",
      "|   Pineapple|       18.0|\n",
      "+------------+-----------+\n",
      "\n"
     ]
    }
   ],
   "source": [
    "calculate_total_sales(df).show()"
   ]
  },
  {
   "cell_type": "code",
   "execution_count": 5,
   "id": "73b184e68f890938",
   "metadata": {
    "ExecuteTime": {
     "end_time": "2023-11-15T09:47:18.685872Z",
     "start_time": "2023-11-15T09:47:18.096865Z"
    },
    "collapsed": false
   },
   "outputs": [
    {
     "name": "stdout",
     "output_type": "stream",
     "text": [
      "+-----------+-----------+\n",
      "|customer_id|total_sales|\n",
      "+-----------+-----------+\n",
      "|       1096|        2.0|\n",
      "|       1027|        4.0|\n",
      "|       1031|        4.0|\n",
      "|       1073|        1.0|\n",
      "|       1092|        6.0|\n",
      "|       1078|        5.0|\n",
      "|       1041|        8.0|\n",
      "|       1017|       10.0|\n",
      "|       1023|        4.0|\n",
      "|       1089|        8.0|\n",
      "+-----------+-----------+\n",
      "\n"
     ]
    }
   ],
   "source": [
    "calculate_total_sales_by_customer(df).show()"
   ]
  },
  {
   "cell_type": "code",
   "execution_count": 6,
   "id": "8a5f06d3b855839",
   "metadata": {
    "ExecuteTime": {
     "end_time": "2023-11-15T09:47:51.107974Z",
     "start_time": "2023-11-15T09:47:50.456608Z"
    },
    "collapsed": false
   },
   "outputs": [
    {
     "name": "stdout",
     "output_type": "stream",
     "text": [
      "+----------------+\n",
      "|average_quantity|\n",
      "+----------------+\n",
      "|             5.7|\n",
      "+----------------+\n",
      "\n"
     ]
    }
   ],
   "source": [
    "calculate_average_quantity(df).show()"
   ]
  },
  {
   "cell_type": "code",
   "execution_count": 7,
   "id": "6e5e74d8df75d467",
   "metadata": {
    "ExecuteTime": {
     "end_time": "2023-11-15T09:49:11.990537Z",
     "start_time": "2023-11-15T09:49:10.584536Z"
    },
    "collapsed": false
   },
   "outputs": [
    {
     "name": "stdout",
     "output_type": "stream",
     "text": [
      "+------------+----------------+\n",
      "|product_name|average_quantity|\n",
      "+------------+----------------+\n",
      "|  Strawberry|             8.5|\n",
      "|   Raspberry|             1.0|\n",
      "|      Banana|            10.0|\n",
      "|       Grape|             2.0|\n",
      "|  Blackberry|             4.0|\n",
      "|        Kiwi|             9.0|\n",
      "|   Pineapple|             5.0|\n",
      "+------------+----------------+\n",
      "\n"
     ]
    }
   ],
   "source": [
    "calculate_average_quantity_by_product(df).show()"
   ]
  },
  {
   "cell_type": "code",
   "execution_count": 8,
   "id": "c406b43a95471f06",
   "metadata": {
    "ExecuteTime": {
     "end_time": "2023-11-15T09:49:35.193928Z",
     "start_time": "2023-11-15T09:49:34.477202Z"
    },
    "collapsed": false
   },
   "outputs": [
    {
     "name": "stdout",
     "output_type": "stream",
     "text": [
      "+-----------+-----------------+\n",
      "|customer_id|transaction_count|\n",
      "+-----------+-----------------+\n",
      "|       1096|                1|\n",
      "|       1027|                1|\n",
      "|       1031|                1|\n",
      "|       1073|                1|\n",
      "|       1092|                1|\n",
      "|       1078|                1|\n",
      "|       1041|                1|\n",
      "|       1017|                1|\n",
      "|       1023|                1|\n",
      "|       1089|                1|\n",
      "+-----------+-----------------+\n",
      "\n"
     ]
    }
   ],
   "source": [
    "count_transactions_per_customer(df).show()"
   ]
  }
 ],
 "metadata": {
  "kernelspec": {
   "display_name": ".venv",
   "language": "python",
   "name": "python3"
  },
  "language_info": {
   "codemirror_mode": {
    "name": "ipython",
    "version": 3
   },
   "file_extension": ".py",
   "mimetype": "text/x-python",
   "name": "python",
   "nbconvert_exporter": "python",
   "pygments_lexer": "ipython3",
   "version": "3.13.6"
  }
 },
 "nbformat": 4,
 "nbformat_minor": 5
}
