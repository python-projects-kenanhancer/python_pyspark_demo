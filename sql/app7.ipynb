{
 "cells": [
  {
   "cell_type": "code",
   "execution_count": null,
   "id": "initial_id",
   "metadata": {
    "ExecuteTime": {
     "end_time": "2023-11-15T11:40:38.702052Z",
     "start_time": "2023-11-15T11:40:38.676409Z"
    },
    "collapsed": true
   },
   "outputs": [],
   "source": [
    "from pyspark.sql import SparkSession, DataFrame\n",
    "from pyspark.sql.functions import col, sum, to_date, collect_list, size\n",
    "from datetime import datetime, timedelta\n",
    "import random\n",
    "from typing import List, Tuple\n",
    "\n",
    "spark = SparkSession.builder.appName(\"sql\").getOrCreate()"
   ]
  },
  {
   "cell_type": "code",
   "execution_count": 119,
   "id": "ac42043355325712",
   "metadata": {
    "ExecuteTime": {
     "end_time": "2023-11-15T11:43:29.568633Z",
     "start_time": "2023-11-15T11:43:29.557328Z"
    },
    "collapsed": false
   },
   "outputs": [],
   "source": [
    "class ColumnNames:\n",
    "    TRANSACTION_ID = \"transaction_id\"\n",
    "    PRODUCT_NAME = \"product_name\"\n",
    "    QUANTITY = \"quantity\"\n",
    "    PRODUCT_PRICE = \"product_price\"\n",
    "    SALES_DATE = \"sales_date\"\n",
    "    CUSTOMER_ID = \"customer_id\"\n",
    "    TOTAL_PRICE = \"total_price\"\n",
    "    VAT = \"vat\"\n",
    "    SUB_TOTAL = \"sub_total\"\n",
    "    SUM_OF_VAT = \"sum_of_vat\"\n",
    "    TOTAL_DUE = \"total_due\"\n",
    "    TOTAL_SALES = \"total_sales\"\n",
    "    PRODUCT_NAMES = \"product_names\"\n",
    "    COUNT = \"count\"\n",
    "\n",
    "\n",
    "def random_date(start: datetime, end: datetime) -> datetime:\n",
    "    \"\"\"Generate a random datetime between 'start' and 'end'\"\"\"\n",
    "    delta = end - start\n",
    "    random_second = random.randint(0, int(delta.total_seconds()))\n",
    "    return start + timedelta(seconds=random_second)\n",
    "\n",
    "\n",
    "def generate_data() -> DataFrame:\n",
    "    \"\"\"Generate random retail sales data\"\"\"\n",
    "    products: List[Tuple[str, float]] = [\n",
    "        (\"Apple\", 1.0),\n",
    "        (\"Orange\", 2.0),\n",
    "        (\"Banana\", 3.0),\n",
    "        (\"Kiwi\", 4.0),\n",
    "        (\"Grape\", 5.0),\n",
    "        (\"Strawberry\", 6.0),\n",
    "        (\"Blueberry\", 7.0),\n",
    "        (\"Blackberry\", 8.0),\n",
    "        (\"Raspberry\", 9.0),\n",
    "        (\"Pineapple\", 10.0),\n",
    "    ]\n",
    "    random_dates: List[datetime] = [\n",
    "        random_date(datetime(2020, 1, 1), datetime(2020, 12, 31)) for _ in range(5)\n",
    "    ]\n",
    "    data: List[Tuple[int, str, int, float, datetime, int]] = []\n",
    "    for i in range(10):\n",
    "        product_name, product_price = random.choice(products)\n",
    "        quantity = random.randint(1, 10)\n",
    "        sales_date = random.choice(random_dates)\n",
    "        customer_id = random.randint(1000, 1099)\n",
    "        data.append((i, product_name, quantity, product_price, sales_date, customer_id))\n",
    "\n",
    "    schema = [\n",
    "        ColumnNames.TRANSACTION_ID,\n",
    "        ColumnNames.PRODUCT_NAME,\n",
    "        ColumnNames.QUANTITY,\n",
    "        ColumnNames.PRODUCT_PRICE,\n",
    "        ColumnNames.SALES_DATE,\n",
    "        ColumnNames.CUSTOMER_ID,\n",
    "    ]\n",
    "\n",
    "    return spark.createDataFrame(data, schema=schema)\n",
    "\n",
    "\n",
    "def with_total_price(dff: DataFrame) -> DataFrame:\n",
    "    \"\"\"Add a new column to the dataframe with the total price\"\"\"\n",
    "    return dff.withColumn(\n",
    "        ColumnNames.TOTAL_PRICE,\n",
    "        col(ColumnNames.QUANTITY) * col(ColumnNames.PRODUCT_PRICE),\n",
    "    )\n",
    "\n",
    "\n",
    "def with_vat(dff: DataFrame, rate: int = 0.2) -> DataFrame:\n",
    "    \"\"\"Add a new column to the dataframe with the vat\"\"\"\n",
    "    return dff.withColumn(ColumnNames.VAT, col(ColumnNames.TOTAL_PRICE) * rate)\n",
    "\n",
    "\n",
    "def calculate_sub_total(dff: DataFrame) -> float:\n",
    "    \"\"\"Calculate the sub total\"\"\"\n",
    "    return dff.select(\n",
    "        sum(col(ColumnNames.TOTAL_PRICE)).alias(ColumnNames.SUB_TOTAL)\n",
    "    ).first()[ColumnNames.SUB_TOTAL]\n",
    "\n",
    "\n",
    "def calculate_total_vat(dff: DataFrame) -> float:\n",
    "    \"\"\"Calculate the total vat\"\"\"\n",
    "    return dff.select(sum(col(ColumnNames.VAT)).alias(ColumnNames.SUM_OF_VAT)).first()[\n",
    "        ColumnNames.SUM_OF_VAT\n",
    "    ]\n",
    "\n",
    "\n",
    "def calculate_total_due(dff: DataFrame) -> float:\n",
    "    return dff.select(\n",
    "        sum(col(ColumnNames.TOTAL_PRICE) + col(ColumnNames.VAT)).alias(\n",
    "            ColumnNames.TOTAL_DUE\n",
    "        )\n",
    "    ).first()[ColumnNames.TOTAL_DUE]\n",
    "\n",
    "\n",
    "def calculate_total_sales(dff: DataFrame) -> DataFrame:\n",
    "    \"\"\"Calculate total sales for each product\"\"\"\n",
    "    return (\n",
    "        dff.groupBy(ColumnNames.PRODUCT_NAME)\n",
    "        .sum(ColumnNames.QUANTITY)\n",
    "        .withColumnRenamed(\"sum(quantity)\", ColumnNames.TOTAL_SALES)\n",
    "    )\n",
    "\n",
    "\n",
    "def calculate_total_sales_by_sales_date(dff: DataFrame) -> DataFrame:\n",
    "    return (\n",
    "        dff.groupBy(to_date(ColumnNames.SALES_DATE).alias(ColumnNames.SALES_DATE))\n",
    "        .sum(ColumnNames.QUANTITY)\n",
    "        .withColumnRenamed(\"sum(quantity)\", ColumnNames.TOTAL_SALES)\n",
    "        .sort(ColumnNames.SALES_DATE)\n",
    "    )\n",
    "\n",
    "\n",
    "def calculate_total_sales_by_sales_date_and_product_name(dff: DataFrame) -> DataFrame:\n",
    "    return (\n",
    "        dff.groupBy(\n",
    "            to_date(ColumnNames.SALES_DATE).alias(ColumnNames.SALES_DATE),\n",
    "            ColumnNames.PRODUCT_NAME,\n",
    "        )\n",
    "        .sum(ColumnNames.QUANTITY)\n",
    "        .withColumnRenamed(\"sum(quantity)\", ColumnNames.TOTAL_SALES)\n",
    "    )\n",
    "\n",
    "\n",
    "def calculate_total_sales_by_sales_date_and_product_name_and_customer_id(\n",
    "    dff: DataFrame,\n",
    ") -> DataFrame:\n",
    "    return (\n",
    "        dff.groupBy(\n",
    "            to_date(ColumnNames.SALES_DATE).alias(ColumnNames.SALES_DATE),\n",
    "            ColumnNames.PRODUCT_NAME,\n",
    "            ColumnNames.CUSTOMER_ID,\n",
    "        )\n",
    "        .sum(ColumnNames.QUANTITY)\n",
    "        .withColumnRenamed(\"sum(quantity)\", ColumnNames.TOTAL_SALES)\n",
    "    )\n",
    "\n",
    "\n",
    "def list_product_names_by_sales_date(dff: DataFrame) -> DataFrame:\n",
    "    \"\"\"List product names grouped by date\"\"\"\n",
    "    return (\n",
    "        dff.groupBy(to_date(ColumnNames.SALES_DATE).alias(ColumnNames.SALES_DATE))\n",
    "        .agg(collect_list(ColumnNames.PRODUCT_NAME).alias(ColumnNames.PRODUCT_NAMES))\n",
    "        .orderBy(ColumnNames.SALES_DATE)\n",
    "    )\n",
    "\n",
    "\n",
    "def list_product_names_and_counts_by_sales_date(dff: DataFrame) -> DataFrame:\n",
    "    \"\"\"List product names and counts grouped by date\"\"\"\n",
    "    return (\n",
    "        dff.groupBy(\n",
    "            to_date(ColumnNames.SALES_DATE).alias(ColumnNames.SALES_DATE),\n",
    "            ColumnNames.PRODUCT_NAME,\n",
    "        )\n",
    "        .sum(ColumnNames.QUANTITY)\n",
    "        .withColumnRenamed(\"sum(quantity)\", ColumnNames.TOTAL_SALES)\n",
    "        .orderBy(ColumnNames.SALES_DATE)\n",
    "    )\n",
    "\n",
    "\n",
    "def list_product_names_by_sales_date_v2(dff: DataFrame) -> DataFrame:\n",
    "    \"\"\"List product names grouped by date\"\"\"\n",
    "    return (\n",
    "        dff.groupBy(to_date(ColumnNames.SALES_DATE).alias(ColumnNames.SALES_DATE))\n",
    "        .agg(\n",
    "            collect_list(ColumnNames.PRODUCT_NAME).alias(ColumnNames.PRODUCT_NAMES),\n",
    "            sum(ColumnNames.QUANTITY).alias(ColumnNames.TOTAL_SALES),\n",
    "        )\n",
    "        .withColumn(ColumnNames.COUNT, size(ColumnNames.PRODUCT_NAMES))\n",
    "        .orderBy(ColumnNames.SALES_DATE)\n",
    "        .select(\n",
    "            ColumnNames.SALES_DATE,\n",
    "            ColumnNames.PRODUCT_NAMES,\n",
    "            ColumnNames.COUNT,\n",
    "            ColumnNames.TOTAL_SALES,\n",
    "        )\n",
    "    )\n",
    "\n",
    "\n",
    "df = generate_data()\n",
    "\n",
    "df_extended = df.transform(with_total_price).transform(lambda dff: with_vat(dff, 0.2))"
   ]
  },
  {
   "cell_type": "code",
   "execution_count": 53,
   "id": "570432f19d89afbc",
   "metadata": {
    "ExecuteTime": {
     "end_time": "2023-11-15T11:43:31.108425Z",
     "start_time": "2023-11-15T11:43:30.925623Z"
    }
   },
   "outputs": [
    {
     "name": "stdout",
     "output_type": "stream",
     "text": [
      "+--------------+------------+--------+-------------+-------------------+-----------+-----------+------------------+\n",
      "|transaction_id|product_name|quantity|product_price|sales_date         |customer_id|total_price|vat               |\n",
      "+--------------+------------+--------+-------------+-------------------+-----------+-----------+------------------+\n",
      "|3             |Orange      |5       |2.0          |2020-02-22 09:46:37|1039       |10.0       |2.0               |\n",
      "|9             |Blackberry  |9       |8.0          |2020-02-22 09:46:37|1083       |72.0       |14.4              |\n",
      "|4             |Orange      |9       |2.0          |2020-04-10 01:51:23|1011       |18.0       |3.6               |\n",
      "|6             |Kiwi        |2       |4.0          |2020-07-16 07:43:04|1029       |8.0        |1.6               |\n",
      "|1             |Raspberry   |8       |9.0          |2020-07-16 07:43:04|1010       |72.0       |14.4              |\n",
      "|7             |Blueberry   |6       |7.0          |2020-07-16 07:43:04|1004       |42.0       |8.4               |\n",
      "|5             |Strawberry  |1       |6.0          |2020-07-16 07:43:04|1097       |6.0        |1.2000000000000002|\n",
      "|2             |Kiwi        |6       |4.0          |2020-12-22 06:25:25|1044       |24.0       |4.800000000000001 |\n",
      "|8             |Grape       |6       |5.0          |2020-12-22 06:25:25|1023       |30.0       |6.0               |\n",
      "|0             |Strawberry  |1       |6.0          |2020-12-22 06:25:25|1010       |6.0        |1.2000000000000002|\n",
      "+--------------+------------+--------+-------------+-------------------+-----------+-----------+------------------+\n"
     ]
    }
   ],
   "source": [
    "df_extended.sort(ColumnNames.SALES_DATE, ascending=True).show(truncate=False)"
   ]
  },
  {
   "cell_type": "code",
   "execution_count": 54,
   "id": "9f211e1606b8c298",
   "metadata": {},
   "outputs": [
    {
     "name": "stderr",
     "output_type": "stream",
     "text": [
      "                                                                                \r"
     ]
    },
    {
     "name": "stdout",
     "output_type": "stream",
     "text": [
      "+------------+-----------+\n",
      "|product_name|total_sales|\n",
      "+------------+-----------+\n",
      "|Grape       |6          |\n",
      "|Orange      |14         |\n",
      "|Raspberry   |8          |\n",
      "|Strawberry  |2          |\n",
      "|Kiwi        |8          |\n",
      "|Blackberry  |9          |\n",
      "|Blueberry   |6          |\n",
      "+------------+-----------+\n"
     ]
    }
   ],
   "source": [
    "calculate_total_sales(df_extended).show(truncate=False)"
   ]
  },
  {
   "cell_type": "code",
   "execution_count": 57,
   "id": "bfaedb38d8ef755",
   "metadata": {},
   "outputs": [
    {
     "name": "stderr",
     "output_type": "stream",
     "text": [
      "                                                                                \r"
     ]
    },
    {
     "name": "stdout",
     "output_type": "stream",
     "text": [
      "+----------+-----------+\n",
      "|sales_date|total_sales|\n",
      "+----------+-----------+\n",
      "|2020-02-06|11         |\n",
      "|2020-03-18|5          |\n",
      "|2020-04-19|12         |\n",
      "|2020-05-07|10         |\n",
      "|2020-12-02|15         |\n",
      "+----------+-----------+\n"
     ]
    }
   ],
   "source": [
    "calculate_total_sales_by_sales_date(df_extended).show(truncate=False)"
   ]
  },
  {
   "cell_type": "code",
   "execution_count": 58,
   "id": "740426017f64439c",
   "metadata": {},
   "outputs": [
    {
     "name": "stdout",
     "output_type": "stream",
     "text": [
      "+----------+------------+-----------+\n",
      "|sales_date|product_name|total_sales|\n",
      "+----------+------------+-----------+\n",
      "|2020-05-07|Pineapple   |8          |\n",
      "|2020-12-02|Blackberry  |7          |\n",
      "|2020-04-19|Apple       |4          |\n",
      "|2020-04-19|Banana      |8          |\n",
      "|2020-03-18|Grape       |5          |\n",
      "|2020-12-02|Orange      |8          |\n",
      "|2020-02-06|Blueberry   |11         |\n",
      "|2020-05-07|Orange      |2          |\n",
      "+----------+------------+-----------+\n"
     ]
    }
   ],
   "source": [
    "calculate_total_sales_by_sales_date_and_product_name(df_extended).show(truncate=False)"
   ]
  },
  {
   "cell_type": "code",
   "execution_count": 59,
   "id": "af4e31ea38ded552",
   "metadata": {},
   "outputs": [
    {
     "name": "stdout",
     "output_type": "stream",
     "text": [
      "+----------+------------+-----------+-----------+\n",
      "|sales_date|product_name|customer_id|total_sales|\n",
      "+----------+------------+-----------+-----------+\n",
      "|2020-12-02|      Orange|       1094|          2|\n",
      "|2020-05-07|      Orange|       1063|          2|\n",
      "|2020-05-07|   Pineapple|       1076|          8|\n",
      "|2020-04-19|       Apple|       1098|          4|\n",
      "|2020-12-02|  Blackberry|       1034|          7|\n",
      "|2020-03-18|       Grape|       1076|          5|\n",
      "|2020-04-19|      Banana|       1081|          8|\n",
      "|2020-02-06|   Blueberry|       1069|          9|\n",
      "|2020-12-02|      Orange|       1029|          6|\n",
      "|2020-02-06|   Blueberry|       1067|          2|\n",
      "+----------+------------+-----------+-----------+\n"
     ]
    }
   ],
   "source": [
    "calculate_total_sales_by_sales_date_and_product_name_and_customer_id(df_extended).show()"
   ]
  },
  {
   "cell_type": "code",
   "execution_count": 60,
   "id": "7a375bdf1bbc14dd",
   "metadata": {},
   "outputs": [
    {
     "name": "stdout",
     "output_type": "stream",
     "text": [
      "Sub Total: 286.0\n",
      "Total vat: 57.2\n",
      "Total due: 343.20000000000005\n"
     ]
    }
   ],
   "source": [
    "sub_total = calculate_sub_total(df_extended)\n",
    "total_vat = calculate_total_vat(df_extended)\n",
    "total_due = calculate_total_due(df_extended)\n",
    "\n",
    "print(f\"Sub Total: {sub_total}\")\n",
    "print(f\"Total vat: {total_vat}\")\n",
    "print(f\"Total due: {total_due}\")"
   ]
  },
  {
   "cell_type": "code",
   "execution_count": 73,
   "id": "e4b9d80e1d733e08",
   "metadata": {},
   "outputs": [
    {
     "name": "stderr",
     "output_type": "stream",
     "text": [
      "[Stage 402:>                                                      (0 + 10) / 10]\r"
     ]
    },
    {
     "name": "stdout",
     "output_type": "stream",
     "text": [
      "+----------+-----------------------------------------+\n",
      "|sales_date|product_names                            |\n",
      "+----------+-----------------------------------------+\n",
      "|2020-05-08|[Strawberry, Raspberry, Kiwi, Strawberry]|\n",
      "|2020-05-26|[Orange, Banana, Blackberry, Blueberry]  |\n",
      "|2020-07-22|[Banana]                                 |\n",
      "|2020-08-21|[Grape]                                  |\n",
      "+----------+-----------------------------------------+\n"
     ]
    },
    {
     "name": "stderr",
     "output_type": "stream",
     "text": [
      "                                                                                \r"
     ]
    }
   ],
   "source": [
    "list_product_names_by_sales_date(df_extended).show(truncate=False)"
   ]
  },
  {
   "cell_type": "code",
   "execution_count": 75,
   "id": "c0ae26d19b8afdfc",
   "metadata": {},
   "outputs": [
    {
     "name": "stderr",
     "output_type": "stream",
     "text": [
      "[Stage 405:========================================>           (154 + 14) / 200]\r"
     ]
    },
    {
     "name": "stdout",
     "output_type": "stream",
     "text": [
      "+----------+------------+-----------+\n",
      "|sales_date|product_name|total_sales|\n",
      "+----------+------------+-----------+\n",
      "|2020-05-08|Strawberry  |13         |\n",
      "|2020-05-08|Kiwi        |9          |\n",
      "|2020-05-08|Raspberry   |3          |\n",
      "|2020-05-26|Blackberry  |7          |\n",
      "|2020-05-26|Banana      |10         |\n",
      "|2020-05-26|Orange      |1          |\n",
      "|2020-05-26|Blueberry   |8          |\n",
      "|2020-07-22|Banana      |3          |\n",
      "|2020-08-21|Grape       |4          |\n",
      "+----------+------------+-----------+\n"
     ]
    },
    {
     "name": "stderr",
     "output_type": "stream",
     "text": [
      "                                                                                \r"
     ]
    }
   ],
   "source": [
    "list_product_names_and_counts_by_sales_date(df_extended).show(truncate=False)"
   ]
  },
  {
   "cell_type": "code",
   "execution_count": 120,
   "id": "d5b1bbabae58d531",
   "metadata": {},
   "outputs": [
    {
     "name": "stdout",
     "output_type": "stream",
     "text": [
      "+----------+-------------------------------------+-----+-----------+\n",
      "|sales_date|product_names                        |count|total_sales|\n",
      "+----------+-------------------------------------+-----+-----------+\n",
      "|2020-02-09|[Blueberry, Banana]                  |2    |6          |\n",
      "|2020-06-15|[Raspberry, Blackberry]              |2    |9          |\n",
      "|2020-06-28|[Pineapple]                          |1    |5          |\n",
      "|2020-07-19|[Grape, Strawberry, Apple, Raspberry]|4    |13         |\n",
      "|2020-08-13|[Blackberry]                         |1    |10         |\n",
      "+----------+-------------------------------------+-----+-----------+\n"
     ]
    }
   ],
   "source": [
    "list_product_names_by_sales_date_v2(df_extended).show(truncate=False)"
   ]
  }
 ],
 "metadata": {
  "kernelspec": {
   "display_name": ".venv",
   "language": "python",
   "name": "python3"
  },
  "language_info": {
   "codemirror_mode": {
    "name": "ipython",
    "version": 3
   },
   "file_extension": ".py",
   "mimetype": "text/x-python",
   "name": "python",
   "nbconvert_exporter": "python",
   "pygments_lexer": "ipython3",
   "version": "3.13.6"
  }
 },
 "nbformat": 4,
 "nbformat_minor": 5
}
