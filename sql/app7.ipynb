{
 "cells": [
  {
   "cell_type": "code",
   "execution_count": 1,
   "id": "initial_id",
   "metadata": {
    "ExecuteTime": {
     "end_time": "2023-11-15T11:40:38.702052Z",
     "start_time": "2023-11-15T11:40:38.676409Z"
    },
    "collapsed": true
   },
   "outputs": [
    {
     "name": "stderr",
     "output_type": "stream",
     "text": [
      "WARNING: Using incubator modules: jdk.incubator.vector\n",
      "Using Spark's default log4j profile: org/apache/spark/log4j2-defaults.properties\n",
      "25/10/14 23:16:19 WARN Utils: Your hostname, kenans-MacBook-Pro.local, resolves to a loopback address: 127.0.0.1; using 192.168.1.102 instead (on interface en0)\n",
      "25/10/14 23:16:19 WARN Utils: Set SPARK_LOCAL_IP if you need to bind to another address\n",
      "Using Spark's default log4j profile: org/apache/spark/log4j2-defaults.properties\n",
      "Setting default log level to \"WARN\".\n",
      "To adjust logging level use sc.setLogLevel(newLevel). For SparkR, use setLogLevel(newLevel).\n",
      "25/10/14 23:16:20 WARN NativeCodeLoader: Unable to load native-hadoop library for your platform... using builtin-java classes where applicable\n",
      "25/10/14 23:16:20 WARN Utils: Service 'SparkUI' could not bind on port 4040. Attempting port 4041.\n"
     ]
    }
   ],
   "source": [
    "import random\n",
    "from datetime import datetime, timedelta\n",
    "from typing import List, Tuple\n",
    "\n",
    "from pyspark.sql import DataFrame, SparkSession\n",
    "from pyspark.sql.functions import col, collect_list, size, sum, to_date\n",
    "\n",
    "spark = SparkSession.builder.appName(\"sql\").getOrCreate()"
   ]
  },
  {
   "cell_type": "code",
   "execution_count": 2,
   "id": "ac42043355325712",
   "metadata": {
    "ExecuteTime": {
     "end_time": "2023-11-15T11:43:29.568633Z",
     "start_time": "2023-11-15T11:43:29.557328Z"
    },
    "collapsed": false
   },
   "outputs": [],
   "source": [
    "class ColumnNames:\n",
    "    TRANSACTION_ID = \"transaction_id\"\n",
    "    PRODUCT_NAME = \"product_name\"\n",
    "    QUANTITY = \"quantity\"\n",
    "    PRODUCT_PRICE = \"product_price\"\n",
    "    SALES_DATE = \"sales_date\"\n",
    "    CUSTOMER_ID = \"customer_id\"\n",
    "    TOTAL_PRICE = \"total_price\"\n",
    "    VAT = \"vat\"\n",
    "    SUB_TOTAL = \"sub_total\"\n",
    "    SUM_OF_VAT = \"sum_of_vat\"\n",
    "    TOTAL_DUE = \"total_due\"\n",
    "    TOTAL_SALES = \"total_sales\"\n",
    "    PRODUCT_NAMES = \"product_names\"\n",
    "    COUNT = \"count\"\n",
    "\n",
    "\n",
    "def random_date(start: datetime, end: datetime) -> datetime:\n",
    "    \"\"\"Generate a random datetime between 'start' and 'end'\"\"\"\n",
    "    delta = end - start\n",
    "    random_second = random.randint(0, int(delta.total_seconds()))\n",
    "    return start + timedelta(seconds=random_second)\n",
    "\n",
    "\n",
    "def generate_data() -> DataFrame:\n",
    "    \"\"\"Generate random retail sales data\"\"\"\n",
    "    products: List[Tuple[str, float]] = [\n",
    "        (\"Apple\", 1.0),\n",
    "        (\"Orange\", 2.0),\n",
    "        (\"Banana\", 3.0),\n",
    "        (\"Kiwi\", 4.0),\n",
    "        (\"Grape\", 5.0),\n",
    "        (\"Strawberry\", 6.0),\n",
    "        (\"Blueberry\", 7.0),\n",
    "        (\"Blackberry\", 8.0),\n",
    "        (\"Raspberry\", 9.0),\n",
    "        (\"Pineapple\", 10.0),\n",
    "    ]\n",
    "    random_dates: List[datetime] = [random_date(datetime(2020, 1, 1), datetime(2020, 12, 31)) for _ in range(5)]\n",
    "    data: List[Tuple[int, str, int, float, datetime, int]] = []\n",
    "    for i in range(10):\n",
    "        product_name, product_price = random.choice(products)\n",
    "        quantity = random.randint(1, 10)\n",
    "        sales_date = random.choice(random_dates)\n",
    "        customer_id = random.randint(1000, 1099)\n",
    "        data.append((i, product_name, quantity, product_price, sales_date, customer_id))\n",
    "\n",
    "    schema = [\n",
    "        ColumnNames.TRANSACTION_ID,\n",
    "        ColumnNames.PRODUCT_NAME,\n",
    "        ColumnNames.QUANTITY,\n",
    "        ColumnNames.PRODUCT_PRICE,\n",
    "        ColumnNames.SALES_DATE,\n",
    "        ColumnNames.CUSTOMER_ID,\n",
    "    ]\n",
    "\n",
    "    return spark.createDataFrame(data, schema=schema)\n",
    "\n",
    "\n",
    "def with_total_price(dff: DataFrame) -> DataFrame:\n",
    "    \"\"\"Add a new column to the dataframe with the total price\"\"\"\n",
    "    return dff.withColumn(\n",
    "        ColumnNames.TOTAL_PRICE,\n",
    "        col(ColumnNames.QUANTITY) * col(ColumnNames.PRODUCT_PRICE),\n",
    "    )\n",
    "\n",
    "\n",
    "def with_vat(dff: DataFrame, rate: int = 0.2) -> DataFrame:\n",
    "    \"\"\"Add a new column to the dataframe with the vat\"\"\"\n",
    "    return dff.withColumn(ColumnNames.VAT, col(ColumnNames.TOTAL_PRICE) * rate)\n",
    "\n",
    "\n",
    "def calculate_sub_total(dff: DataFrame) -> float:\n",
    "    \"\"\"Calculate the sub total\"\"\"\n",
    "    return dff.select(sum(col(ColumnNames.TOTAL_PRICE)).alias(ColumnNames.SUB_TOTAL)).first()[ColumnNames.SUB_TOTAL]\n",
    "\n",
    "\n",
    "def calculate_total_vat(dff: DataFrame) -> float:\n",
    "    \"\"\"Calculate the total vat\"\"\"\n",
    "    return dff.select(sum(col(ColumnNames.VAT)).alias(ColumnNames.SUM_OF_VAT)).first()[ColumnNames.SUM_OF_VAT]\n",
    "\n",
    "\n",
    "def calculate_total_due(dff: DataFrame) -> float:\n",
    "    return dff.select(sum(col(ColumnNames.TOTAL_PRICE) + col(ColumnNames.VAT)).alias(ColumnNames.TOTAL_DUE)).first()[\n",
    "        ColumnNames.TOTAL_DUE\n",
    "    ]\n",
    "\n",
    "\n",
    "def calculate_total_sales(dff: DataFrame) -> DataFrame:\n",
    "    \"\"\"Calculate total sales for each product\"\"\"\n",
    "    return (\n",
    "        dff.groupBy(ColumnNames.PRODUCT_NAME)\n",
    "        .sum(ColumnNames.QUANTITY)\n",
    "        .withColumnRenamed(\"sum(quantity)\", ColumnNames.TOTAL_SALES)\n",
    "    )\n",
    "\n",
    "\n",
    "def calculate_total_sales_by_sales_date(dff: DataFrame) -> DataFrame:\n",
    "    return (\n",
    "        dff.groupBy(to_date(ColumnNames.SALES_DATE).alias(ColumnNames.SALES_DATE))\n",
    "        .sum(ColumnNames.QUANTITY)\n",
    "        .withColumnRenamed(\"sum(quantity)\", ColumnNames.TOTAL_SALES)\n",
    "        .sort(ColumnNames.SALES_DATE)\n",
    "    )\n",
    "\n",
    "\n",
    "def calculate_total_sales_by_sales_date_and_product_name(dff: DataFrame) -> DataFrame:\n",
    "    return (\n",
    "        dff.groupBy(\n",
    "            to_date(ColumnNames.SALES_DATE).alias(ColumnNames.SALES_DATE),\n",
    "            ColumnNames.PRODUCT_NAME,\n",
    "        )\n",
    "        .sum(ColumnNames.QUANTITY)\n",
    "        .withColumnRenamed(\"sum(quantity)\", ColumnNames.TOTAL_SALES)\n",
    "    )\n",
    "\n",
    "\n",
    "def calculate_total_sales_by_sales_date_and_product_name_and_customer_id(\n",
    "    dff: DataFrame,\n",
    ") -> DataFrame:\n",
    "    return (\n",
    "        dff.groupBy(\n",
    "            to_date(ColumnNames.SALES_DATE).alias(ColumnNames.SALES_DATE),\n",
    "            ColumnNames.PRODUCT_NAME,\n",
    "            ColumnNames.CUSTOMER_ID,\n",
    "        )\n",
    "        .sum(ColumnNames.QUANTITY)\n",
    "        .withColumnRenamed(\"sum(quantity)\", ColumnNames.TOTAL_SALES)\n",
    "    )\n",
    "\n",
    "\n",
    "def list_product_names_by_sales_date(dff: DataFrame) -> DataFrame:\n",
    "    \"\"\"List product names grouped by date\"\"\"\n",
    "    return (\n",
    "        dff.groupBy(to_date(ColumnNames.SALES_DATE).alias(ColumnNames.SALES_DATE))\n",
    "        .agg(collect_list(ColumnNames.PRODUCT_NAME).alias(ColumnNames.PRODUCT_NAMES))\n",
    "        .orderBy(ColumnNames.SALES_DATE)\n",
    "    )\n",
    "\n",
    "\n",
    "def list_product_names_and_counts_by_sales_date(dff: DataFrame) -> DataFrame:\n",
    "    \"\"\"List product names and counts grouped by date\"\"\"\n",
    "    return (\n",
    "        dff.groupBy(\n",
    "            to_date(ColumnNames.SALES_DATE).alias(ColumnNames.SALES_DATE),\n",
    "            ColumnNames.PRODUCT_NAME,\n",
    "        )\n",
    "        .sum(ColumnNames.QUANTITY)\n",
    "        .withColumnRenamed(\"sum(quantity)\", ColumnNames.TOTAL_SALES)\n",
    "        .orderBy(ColumnNames.SALES_DATE)\n",
    "    )\n",
    "\n",
    "\n",
    "def list_product_names_by_sales_date_v2(dff: DataFrame) -> DataFrame:\n",
    "    \"\"\"List product names grouped by date\"\"\"\n",
    "    return (\n",
    "        dff.groupBy(to_date(ColumnNames.SALES_DATE).alias(ColumnNames.SALES_DATE))\n",
    "        .agg(\n",
    "            collect_list(ColumnNames.PRODUCT_NAME).alias(ColumnNames.PRODUCT_NAMES),\n",
    "            sum(ColumnNames.QUANTITY).alias(ColumnNames.TOTAL_SALES),\n",
    "        )\n",
    "        .withColumn(ColumnNames.COUNT, size(ColumnNames.PRODUCT_NAMES))\n",
    "        .orderBy(ColumnNames.SALES_DATE)\n",
    "        .select(\n",
    "            ColumnNames.SALES_DATE,\n",
    "            ColumnNames.PRODUCT_NAMES,\n",
    "            ColumnNames.COUNT,\n",
    "            ColumnNames.TOTAL_SALES,\n",
    "        )\n",
    "    )\n",
    "\n",
    "\n",
    "df = generate_data()\n",
    "\n",
    "df_extended = df.transform(with_total_price).transform(lambda dff: with_vat(dff, 0.2))"
   ]
  },
  {
   "cell_type": "code",
   "execution_count": 3,
   "id": "570432f19d89afbc",
   "metadata": {
    "ExecuteTime": {
     "end_time": "2023-11-15T11:43:31.108425Z",
     "start_time": "2023-11-15T11:43:30.925623Z"
    }
   },
   "outputs": [
    {
     "name": "stderr",
     "output_type": "stream",
     "text": [
      "[Stage 0:>                                                        (0 + 16) / 16]\r"
     ]
    },
    {
     "name": "stdout",
     "output_type": "stream",
     "text": [
      "+--------------+------------+--------+-------------+-------------------+-----------+-----------+------------------+\n",
      "|transaction_id|product_name|quantity|product_price|sales_date         |customer_id|total_price|vat               |\n",
      "+--------------+------------+--------+-------------+-------------------+-----------+-----------+------------------+\n",
      "|2             |Raspberry   |2       |9.0          |2020-03-17 00:03:27|1005       |18.0       |3.6               |\n",
      "|3             |Strawberry  |1       |6.0          |2020-03-17 00:03:27|1070       |6.0        |1.2000000000000002|\n",
      "|0             |Grape       |4       |5.0          |2020-06-24 20:26:27|1061       |20.0       |4.0               |\n",
      "|5             |Pineapple   |4       |10.0         |2020-06-24 20:26:27|1007       |40.0       |8.0               |\n",
      "|8             |Grape       |8       |5.0          |2020-07-22 17:11:00|1090       |40.0       |8.0               |\n",
      "|1             |Pineapple   |3       |10.0         |2020-07-22 17:11:00|1029       |30.0       |6.0               |\n",
      "|9             |Apple       |1       |1.0          |2020-07-22 17:11:00|1043       |1.0        |0.2               |\n",
      "|4             |Banana      |3       |3.0          |2020-07-22 17:11:00|1041       |9.0        |1.8               |\n",
      "|6             |Orange      |3       |2.0          |2020-08-12 15:24:50|1001       |6.0        |1.2000000000000002|\n",
      "|7             |Kiwi        |3       |4.0          |2020-12-17 04:11:31|1089       |12.0       |2.4000000000000004|\n",
      "+--------------+------------+--------+-------------+-------------------+-----------+-----------+------------------+\n",
      "\n"
     ]
    },
    {
     "name": "stderr",
     "output_type": "stream",
     "text": [
      "                                                                                \r"
     ]
    }
   ],
   "source": [
    "df_extended.sort(ColumnNames.SALES_DATE, ascending=True).show(truncate=False)"
   ]
  },
  {
   "cell_type": "code",
   "execution_count": 4,
   "id": "9f211e1606b8c298",
   "metadata": {},
   "outputs": [
    {
     "name": "stdout",
     "output_type": "stream",
     "text": [
      "+------------+-----------+\n",
      "|product_name|total_sales|\n",
      "+------------+-----------+\n",
      "|Grape       |12         |\n",
      "|Pineapple   |7          |\n",
      "|Raspberry   |2          |\n",
      "|Strawberry  |1          |\n",
      "|Banana      |3          |\n",
      "|Orange      |3          |\n",
      "|Kiwi        |3          |\n",
      "|Apple       |1          |\n",
      "+------------+-----------+\n",
      "\n"
     ]
    }
   ],
   "source": [
    "calculate_total_sales(df_extended).show(truncate=False)"
   ]
  },
  {
   "cell_type": "code",
   "execution_count": 5,
   "id": "bfaedb38d8ef755",
   "metadata": {},
   "outputs": [
    {
     "name": "stdout",
     "output_type": "stream",
     "text": [
      "+----------+-----------+\n",
      "|sales_date|total_sales|\n",
      "+----------+-----------+\n",
      "|2020-03-17|3          |\n",
      "|2020-06-24|8          |\n",
      "|2020-07-22|15         |\n",
      "|2020-08-12|3          |\n",
      "|2020-12-17|3          |\n",
      "+----------+-----------+\n",
      "\n"
     ]
    }
   ],
   "source": [
    "calculate_total_sales_by_sales_date(df_extended).show(truncate=False)"
   ]
  },
  {
   "cell_type": "code",
   "execution_count": 6,
   "id": "740426017f64439c",
   "metadata": {},
   "outputs": [
    {
     "name": "stdout",
     "output_type": "stream",
     "text": [
      "+----------+------------+-----------+\n",
      "|sales_date|product_name|total_sales|\n",
      "+----------+------------+-----------+\n",
      "|2020-06-24|Grape       |4          |\n",
      "|2020-07-22|Pineapple   |3          |\n",
      "|2020-03-17|Raspberry   |2          |\n",
      "|2020-03-17|Strawberry  |1          |\n",
      "|2020-07-22|Banana      |3          |\n",
      "|2020-06-24|Pineapple   |4          |\n",
      "|2020-08-12|Orange      |3          |\n",
      "|2020-12-17|Kiwi        |3          |\n",
      "|2020-07-22|Grape       |8          |\n",
      "|2020-07-22|Apple       |1          |\n",
      "+----------+------------+-----------+\n",
      "\n"
     ]
    }
   ],
   "source": [
    "calculate_total_sales_by_sales_date_and_product_name(df_extended).show(truncate=False)"
   ]
  },
  {
   "cell_type": "code",
   "execution_count": 7,
   "id": "af4e31ea38ded552",
   "metadata": {},
   "outputs": [
    {
     "name": "stdout",
     "output_type": "stream",
     "text": [
      "+----------+------------+-----------+-----------+\n",
      "|sales_date|product_name|customer_id|total_sales|\n",
      "+----------+------------+-----------+-----------+\n",
      "|2020-06-24|       Grape|       1061|          4|\n",
      "|2020-07-22|   Pineapple|       1029|          3|\n",
      "|2020-03-17|   Raspberry|       1005|          2|\n",
      "|2020-03-17|  Strawberry|       1070|          1|\n",
      "|2020-07-22|      Banana|       1041|          3|\n",
      "|2020-06-24|   Pineapple|       1007|          4|\n",
      "|2020-08-12|      Orange|       1001|          3|\n",
      "|2020-12-17|        Kiwi|       1089|          3|\n",
      "|2020-07-22|       Grape|       1090|          8|\n",
      "|2020-07-22|       Apple|       1043|          1|\n",
      "+----------+------------+-----------+-----------+\n",
      "\n"
     ]
    }
   ],
   "source": [
    "calculate_total_sales_by_sales_date_and_product_name_and_customer_id(df_extended).show()"
   ]
  },
  {
   "cell_type": "code",
   "execution_count": 8,
   "id": "7a375bdf1bbc14dd",
   "metadata": {},
   "outputs": [
    {
     "name": "stdout",
     "output_type": "stream",
     "text": [
      "Sub Total: 182.0\n",
      "Total vat: 36.400000000000006\n",
      "Total due: 218.39999999999998\n"
     ]
    }
   ],
   "source": [
    "sub_total = calculate_sub_total(df_extended)\n",
    "total_vat = calculate_total_vat(df_extended)\n",
    "total_due = calculate_total_due(df_extended)\n",
    "\n",
    "print(f\"Sub Total: {sub_total}\")\n",
    "print(f\"Total vat: {total_vat}\")\n",
    "print(f\"Total due: {total_due}\")"
   ]
  },
  {
   "cell_type": "code",
   "execution_count": 9,
   "id": "e4b9d80e1d733e08",
   "metadata": {},
   "outputs": [
    {
     "name": "stdout",
     "output_type": "stream",
     "text": [
      "+----------+---------------------------------+\n",
      "|sales_date|product_names                    |\n",
      "+----------+---------------------------------+\n",
      "|2020-03-17|[Raspberry, Strawberry]          |\n",
      "|2020-06-24|[Grape, Pineapple]               |\n",
      "|2020-07-22|[Pineapple, Banana, Grape, Apple]|\n",
      "|2020-08-12|[Orange]                         |\n",
      "|2020-12-17|[Kiwi]                           |\n",
      "+----------+---------------------------------+\n",
      "\n"
     ]
    }
   ],
   "source": [
    "list_product_names_by_sales_date(df_extended).show(truncate=False)"
   ]
  },
  {
   "cell_type": "code",
   "execution_count": 10,
   "id": "c0ae26d19b8afdfc",
   "metadata": {},
   "outputs": [
    {
     "name": "stdout",
     "output_type": "stream",
     "text": [
      "+----------+------------+-----------+\n",
      "|sales_date|product_name|total_sales|\n",
      "+----------+------------+-----------+\n",
      "|2020-03-17|Raspberry   |2          |\n",
      "|2020-03-17|Strawberry  |1          |\n",
      "|2020-06-24|Grape       |4          |\n",
      "|2020-06-24|Pineapple   |4          |\n",
      "|2020-07-22|Pineapple   |3          |\n",
      "|2020-07-22|Banana      |3          |\n",
      "|2020-07-22|Grape       |8          |\n",
      "|2020-07-22|Apple       |1          |\n",
      "|2020-08-12|Orange      |3          |\n",
      "|2020-12-17|Kiwi        |3          |\n",
      "+----------+------------+-----------+\n",
      "\n"
     ]
    }
   ],
   "source": [
    "list_product_names_and_counts_by_sales_date(df_extended).show(truncate=False)"
   ]
  },
  {
   "cell_type": "code",
   "execution_count": 11,
   "id": "d5b1bbabae58d531",
   "metadata": {},
   "outputs": [
    {
     "name": "stdout",
     "output_type": "stream",
     "text": [
      "+----------+---------------------------------+-----+-----------+\n",
      "|sales_date|product_names                    |count|total_sales|\n",
      "+----------+---------------------------------+-----+-----------+\n",
      "|2020-03-17|[Raspberry, Strawberry]          |2    |3          |\n",
      "|2020-06-24|[Grape, Pineapple]               |2    |8          |\n",
      "|2020-07-22|[Pineapple, Banana, Grape, Apple]|4    |15         |\n",
      "|2020-08-12|[Orange]                         |1    |3          |\n",
      "|2020-12-17|[Kiwi]                           |1    |3          |\n",
      "+----------+---------------------------------+-----+-----------+\n",
      "\n"
     ]
    }
   ],
   "source": [
    "list_product_names_by_sales_date_v2(df_extended).show(truncate=False)"
   ]
  }
 ],
 "metadata": {
  "kernelspec": {
   "display_name": ".venv",
   "language": "python",
   "name": "python3"
  },
  "language_info": {
   "codemirror_mode": {
    "name": "ipython",
    "version": 3
   },
   "file_extension": ".py",
   "mimetype": "text/x-python",
   "name": "python",
   "nbconvert_exporter": "python",
   "pygments_lexer": "ipython3",
   "version": "3.13.6"
  }
 },
 "nbformat": 4,
 "nbformat_minor": 5
}
