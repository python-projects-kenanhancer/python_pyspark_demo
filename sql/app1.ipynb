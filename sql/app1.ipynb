{
 "cells": [
  {
   "cell_type": "code",
   "execution_count": 35,
   "id": "initial_id",
   "metadata": {
    "collapsed": true,
    "ExecuteTime": {
     "end_time": "2023-11-06T15:07:46.759760Z",
     "start_time": "2023-11-06T15:07:46.726083Z"
    }
   },
   "outputs": [],
   "source": [
    "from pyspark.sql import SparkSession, Row\n",
    "from pyspark.sql.functions import *\n",
    "\n",
    "spark = SparkSession.builder \\\n",
    "    .appName('sql') \\\n",
    "    .getOrCreate()"
   ]
  },
  {
   "cell_type": "code",
   "execution_count": 33,
   "outputs": [
    {
     "name": "stdout",
     "output_type": "stream",
     "text": [
      "+-----+-------+-------+-------+---------+\n",
      "| dept|avg_age|min_age|max_age|count_age|\n",
      "+-----+-------+-------+-------+---------+\n",
      "|Sales|   40.0|     40|     40|        1|\n",
      "|   IT|   25.0|     20|     30|        2|\n",
      "+-----+-------+-------+-------+---------+\n"
     ]
    }
   ],
   "source": [
    "people = spark.createDataFrame([\n",
    "    (\"Jhon\", 20),\n",
    "    (\"Peter\", 30),\n",
    "    (\"Ann\", 40)\n",
    "], [\"name\", \"age\"])\n",
    "\n",
    "department = spark.createDataFrame([\n",
    "    (\"IT\", \"Jhon\"),\n",
    "    (\"IT\", \"Peter\"),\n",
    "    (\"Sales\", \"Ann\")\n",
    "], [\"dept\", \"name\"])\n",
    "\n",
    "people.filter(people.age > 10) \\\n",
    "    .join(department, 'name') \\\n",
    "    .groupBy(department.dept) \\\n",
    "    .agg(avg(\"age\").alias(\"avg_age\"),\n",
    "         min('age').alias('min_age'),\n",
    "         max('age').alias('max_age'),\n",
    "         count('*').alias('count_age')\n",
    "         ) \\\n",
    "    .show()"
   ],
   "metadata": {
    "collapsed": false,
    "ExecuteTime": {
     "end_time": "2023-11-06T14:40:42.852359Z",
     "start_time": "2023-11-06T14:40:42.360043Z"
    }
   },
   "id": "2f7e1a88c22d465d"
  },
  {
   "cell_type": "code",
   "execution_count": 24,
   "outputs": [
    {
     "name": "stdout",
     "output_type": "stream",
     "text": [
      "+---------+------+-------+-------+-------+\n",
      "|     name|gender|avg_age|min_age|max_age|\n",
      "+---------+------+-------+-------+-------+\n",
      "|       ML|     F|   60.0|     60|     60|\n",
      "|Spark SQL|     M|   20.0|     20|     20|\n",
      "|  PySpark|     M|   45.0|     40|     50|\n",
      "+---------+------+-------+-------+-------+\n"
     ]
    }
   ],
   "source": [
    "people = spark.createDataFrame([\n",
    "    {\"deptId\": 1, \"age\": 40, \"name\": \"Hyukjin Kwon\", \"gender\": \"M\", \"salary\": 50},\n",
    "    {\"deptId\": 1, \"age\": 50, \"name\": \"Takuya Ueshin\", \"gender\": \"M\", \"salary\": 100},\n",
    "    {\"deptId\": 2, \"age\": 60, \"name\": \"Xinrong Meng\", \"gender\": \"F\", \"salary\": 150},\n",
    "    {\"deptId\": 3, \"age\": 20, \"name\": \"Haejoon Lee\", \"gender\": \"M\", \"salary\": 200}\n",
    "])\n",
    "\n",
    "department = spark.createDataFrame([\n",
    "    {\"id\": 1, \"name\": \"PySpark\"},\n",
    "    {\"id\": 2, \"name\": \"ML\"},\n",
    "    {\"id\": 3, \"name\": \"Spark SQL\"}\n",
    "])\n",
    "\n",
    "people.filter(people.age > 10) \\\n",
    "    .join(department, people.deptId == department.id) \\\n",
    "    .groupby(department.name, 'gender') \\\n",
    "    .agg(avg('age').alias('avg_age'),\n",
    "         min('age').alias('min_age'),\n",
    "         max('age').alias('max_age')) \\\n",
    "    .show()"
   ],
   "metadata": {
    "collapsed": false,
    "ExecuteTime": {
     "end_time": "2023-11-06T14:22:17.332240Z",
     "start_time": "2023-11-06T14:22:16.767409Z"
    }
   },
   "id": "dd6032ab2458cb7a"
  },
  {
   "cell_type": "code",
   "execution_count": 36,
   "outputs": [],
   "source": [
    "peopleV1 = spark.createDataFrame([\n",
    "    ['Alice', 2],\n",
    "    ['Bob', 5]\n",
    "], ['name', 'age'])\n",
    "\n",
    "peopleV2 = spark.createDataFrame([\n",
    "    ('Alice', 2),\n",
    "    ('Bob', 5)\n",
    "], ['name', 'age'])\n",
    "\n",
    "peopleV3 = spark.createDataFrame([\n",
    "    {'name': 'Alice', 'age': 2},\n",
    "    {'name': 'Bob', 'age': 5}\n",
    "])\n",
    "\n",
    "peopleV4 = spark.createDataFrame([Row(name='Alice', age=2),\n",
    "                                  Row(name='Bob', age=5),\n",
    "                                  Row(name='Tom', age=7),\n",
    "                                  Row(name='John', age=9),\n",
    "                                  Row(name='James', age=11)])"
   ],
   "metadata": {
    "collapsed": false,
    "ExecuteTime": {
     "end_time": "2023-11-06T15:08:47.683897Z",
     "start_time": "2023-11-06T15:08:47.474263Z"
    }
   },
   "id": "b199d88fcee53df3"
  },
  {
   "cell_type": "code",
   "execution_count": null,
   "outputs": [],
   "source": [],
   "metadata": {
    "collapsed": false
   },
   "id": "78e982864c675aa2"
  }
 ],
 "metadata": {
  "kernelspec": {
   "display_name": "Python 3",
   "language": "python",
   "name": "python3"
  },
  "language_info": {
   "codemirror_mode": {
    "name": "ipython",
    "version": 2
   },
   "file_extension": ".py",
   "mimetype": "text/x-python",
   "name": "python",
   "nbconvert_exporter": "python",
   "pygments_lexer": "ipython2",
   "version": "2.7.6"
  }
 },
 "nbformat": 4,
 "nbformat_minor": 5
}
