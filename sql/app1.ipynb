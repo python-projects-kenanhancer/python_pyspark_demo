{
 "cells": [
  {
   "cell_type": "code",
   "execution_count": 1,
   "id": "initial_id",
   "metadata": {
    "collapsed": true,
    "ExecuteTime": {
     "end_time": "2023-11-12T22:51:08.194170Z",
     "start_time": "2023-11-12T22:51:03.156942Z"
    }
   },
   "outputs": [
    {
     "name": "stderr",
     "output_type": "stream",
     "text": [
      "23/11/12 22:51:04 WARN Utils: Your hostname, kenans-MacBook-Pro.local resolves to a loopback address: 127.0.0.1; using 192.168.1.102 instead (on interface en0)\n",
      "23/11/12 22:51:04 WARN Utils: Set SPARK_LOCAL_IP if you need to bind to another address\n",
      "WARNING: An illegal reflective access operation has occurred\n",
      "WARNING: Illegal reflective access by org.apache.spark.unsafe.Platform (file:/Users/kenanhancer/Documents/projects/python-projects-kenanhancer/python_pyspark_demo/.venv/lib/python3.10/site-packages/pyspark/jars/spark-unsafe_2.12-3.0.3.jar) to constructor java.nio.DirectByteBuffer(long,int)\n",
      "WARNING: Please consider reporting this to the maintainers of org.apache.spark.unsafe.Platform\n",
      "WARNING: Use --illegal-access=warn to enable warnings of further illegal reflective access operations\n",
      "WARNING: All illegal access operations will be denied in a future release\n",
      "23/11/12 22:51:05 WARN NativeCodeLoader: Unable to load native-hadoop library for your platform... using builtin-java classes where applicable\n",
      "Using Spark's default log4j profile: org/apache/spark/log4j-defaults.properties\n",
      "Setting default log level to \"WARN\".\n",
      "To adjust logging level use sc.setLogLevel(newLevel). For SparkR, use setLogLevel(newLevel).\n"
     ]
    }
   ],
   "source": [
    "from pyspark.sql import SparkSession, Row\n",
    "from pyspark.sql.functions import *\n",
    "\n",
    "spark = SparkSession.builder \\\n",
    "    .appName('sql') \\\n",
    "    .getOrCreate()"
   ]
  },
  {
   "cell_type": "code",
   "execution_count": 2,
   "outputs": [
    {
     "name": "stderr",
     "output_type": "stream",
     "text": [
      "                                                                                \r"
     ]
    },
    {
     "name": "stdout",
     "output_type": "stream",
     "text": [
      "+-----+-------+-------+-------+---------+\n",
      "| dept|avg_age|min_age|max_age|count_age|\n",
      "+-----+-------+-------+-------+---------+\n",
      "|Sales|   40.0|     40|     40|        1|\n",
      "|   IT|   25.0|     20|     30|        2|\n",
      "+-----+-------+-------+-------+---------+\n"
     ]
    }
   ],
   "source": [
    "people = spark.createDataFrame([\n",
    "    (\"Jhon\", 20),\n",
    "    (\"Peter\", 30),\n",
    "    (\"Ann\", 40)\n",
    "], [\"name\", \"age\"])\n",
    "\n",
    "department = spark.createDataFrame([\n",
    "    (\"IT\", \"Jhon\"),\n",
    "    (\"IT\", \"Peter\"),\n",
    "    (\"Sales\", \"Ann\")\n",
    "], [\"dept\", \"name\"])\n",
    "\n",
    "people.filter(people.age > 10) \\\n",
    "    .join(department, 'name') \\\n",
    "    .groupBy(department.dept) \\\n",
    "    .agg(avg(\"age\").alias(\"avg_age\"),\n",
    "         min('age').alias('min_age'),\n",
    "         max('age').alias('max_age'),\n",
    "         count('*').alias('count_age')\n",
    "         ) \\\n",
    "    .show()"
   ],
   "metadata": {
    "collapsed": false,
    "ExecuteTime": {
     "end_time": "2023-11-12T22:51:26.950022Z",
     "start_time": "2023-11-12T22:51:11.160666Z"
    }
   },
   "id": "2f7e1a88c22d465d"
  },
  {
   "cell_type": "code",
   "execution_count": null,
   "outputs": [],
   "source": [
    "people = spark.createDataFrame([\n",
    "    {\"deptId\": 1, \"age\": 40, \"name\": \"Hyukjin Kwon\", \"gender\": \"M\", \"salary\": 50},\n",
    "    {\"deptId\": 1, \"age\": 50, \"name\": \"Takuya Ueshin\", \"gender\": \"M\", \"salary\": 100},\n",
    "    {\"deptId\": 2, \"age\": 60, \"name\": \"Xinrong Meng\", \"gender\": \"F\", \"salary\": 150},\n",
    "    {\"deptId\": 3, \"age\": 20, \"name\": \"Haejoon Lee\", \"gender\": \"M\", \"salary\": 200}\n",
    "])\n",
    "\n",
    "department = spark.createDataFrame([\n",
    "    {\"id\": 1, \"name\": \"PySpark\"},\n",
    "    {\"id\": 2, \"name\": \"ML\"},\n",
    "    {\"id\": 3, \"name\": \"Spark SQL\"}\n",
    "])\n",
    "\n",
    "people.filter(people.age > 10) \\\n",
    "    .join(department, people.deptId == department.id) \\\n",
    "    .groupby(department.name, 'gender') \\\n",
    "    .agg(avg('age').alias('avg_age'),\n",
    "         min('age').alias('min_age'),\n",
    "         max('age').alias('max_age')) \\\n",
    "    .show()"
   ],
   "metadata": {
    "collapsed": false
   },
   "id": "dd6032ab2458cb7a"
  },
  {
   "cell_type": "code",
   "execution_count": null,
   "outputs": [],
   "source": [
    "peopleV1 = spark.createDataFrame([\n",
    "    ['Alice', 2],\n",
    "    ['Bob', 5]\n",
    "], ['name', 'age'])\n",
    "\n",
    "peopleV2 = spark.createDataFrame([\n",
    "    ('Alice', 2),\n",
    "    ('Bob', 5)\n",
    "], ['name', 'age'])\n",
    "\n",
    "peopleV3 = spark.createDataFrame([\n",
    "    {'name': 'Alice', 'age': 2},\n",
    "    {'name': 'Bob', 'age': 5}\n",
    "])\n",
    "\n",
    "peopleV4 = spark.createDataFrame([Row(name='Alice', age=2),\n",
    "                                  Row(name='Bob', age=5),\n",
    "                                  Row(name='Tom', age=7),\n",
    "                                  Row(name='John', age=9),\n",
    "                                  Row(name='James', age=11)])"
   ],
   "metadata": {
    "collapsed": false
   },
   "id": "b199d88fcee53df3"
  },
  {
   "cell_type": "code",
   "execution_count": null,
   "outputs": [],
   "source": [],
   "metadata": {
    "collapsed": false
   },
   "id": "78e982864c675aa2"
  }
 ],
 "metadata": {
  "kernelspec": {
   "display_name": "Python 3",
   "language": "python",
   "name": "python3"
  },
  "language_info": {
   "codemirror_mode": {
    "name": "ipython",
    "version": 2
   },
   "file_extension": ".py",
   "mimetype": "text/x-python",
   "name": "python",
   "nbconvert_exporter": "python",
   "pygments_lexer": "ipython2",
   "version": "2.7.6"
  }
 },
 "nbformat": 4,
 "nbformat_minor": 5
}
