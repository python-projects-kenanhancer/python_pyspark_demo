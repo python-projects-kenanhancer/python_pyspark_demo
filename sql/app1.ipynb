{
 "cells": [
  {
   "cell_type": "code",
   "execution_count": 1,
   "id": "initial_id",
   "metadata": {
    "ExecuteTime": {
     "end_time": "2023-11-12T22:51:08.194170Z",
     "start_time": "2023-11-12T22:51:03.156942Z"
    },
    "collapsed": true
   },
   "outputs": [
    {
     "name": "stderr",
     "output_type": "stream",
     "text": [
      "WARNING: Using incubator modules: jdk.incubator.vector\n",
      "Using Spark's default log4j profile: org/apache/spark/log4j2-defaults.properties\n",
      "25/10/14 23:18:21 WARN Utils: Your hostname, kenans-MacBook-Pro.local, resolves to a loopback address: 127.0.0.1; using 192.168.1.102 instead (on interface en0)\n",
      "25/10/14 23:18:21 WARN Utils: Set SPARK_LOCAL_IP if you need to bind to another address\n",
      "Using Spark's default log4j profile: org/apache/spark/log4j2-defaults.properties\n",
      "Setting default log level to \"WARN\".\n",
      "To adjust logging level use sc.setLogLevel(newLevel). For SparkR, use setLogLevel(newLevel).\n",
      "25/10/14 23:18:22 WARN NativeCodeLoader: Unable to load native-hadoop library for your platform... using builtin-java classes where applicable\n",
      "25/10/14 23:18:22 WARN Utils: Service 'SparkUI' could not bind on port 4040. Attempting port 4041.\n",
      "25/10/14 23:18:22 WARN Utils: Service 'SparkUI' could not bind on port 4041. Attempting port 4042.\n",
      "25/10/14 23:18:22 WARN Utils: Service 'SparkUI' could not bind on port 4042. Attempting port 4043.\n",
      "25/10/14 23:18:22 WARN Utils: Service 'SparkUI' could not bind on port 4043. Attempting port 4044.\n",
      "25/10/14 23:18:22 WARN Utils: Service 'SparkUI' could not bind on port 4044. Attempting port 4045.\n",
      "25/10/14 23:18:22 WARN Utils: Service 'SparkUI' could not bind on port 4045. Attempting port 4046.\n",
      "25/10/14 23:18:22 WARN Utils: Service 'SparkUI' could not bind on port 4046. Attempting port 4047.\n"
     ]
    }
   ],
   "source": [
    "from pyspark.sql import Row, SparkSession\n",
    "from pyspark.sql.functions import avg, count, max, min\n",
    "\n",
    "spark = SparkSession.builder.appName(\"sql\").getOrCreate()"
   ]
  },
  {
   "cell_type": "code",
   "execution_count": 2,
   "id": "2f7e1a88c22d465d",
   "metadata": {
    "ExecuteTime": {
     "end_time": "2023-11-12T22:51:26.950022Z",
     "start_time": "2023-11-12T22:51:11.160666Z"
    },
    "collapsed": false
   },
   "outputs": [
    {
     "name": "stderr",
     "output_type": "stream",
     "text": [
      "[Stage 0:>                (0 + 16) / 16][Stage 1:>                 (0 + 0) / 16]\r"
     ]
    },
    {
     "name": "stdout",
     "output_type": "stream",
     "text": [
      "+-----+-------+-------+-------+---------+\n",
      "| dept|avg_age|min_age|max_age|count_age|\n",
      "+-----+-------+-------+-------+---------+\n",
      "|Sales|   40.0|     40|     40|        1|\n",
      "|   IT|   25.0|     20|     30|        2|\n",
      "+-----+-------+-------+-------+---------+\n",
      "\n"
     ]
    },
    {
     "name": "stderr",
     "output_type": "stream",
     "text": [
      "                                                                                \r"
     ]
    }
   ],
   "source": [
    "people = spark.createDataFrame(\n",
    "    [\n",
    "        (\"Jhon\", 20),\n",
    "        (\"Peter\", 30),\n",
    "        (\"Ann\", 40),\n",
    "    ],\n",
    "    [\"name\", \"age\"],\n",
    ")\n",
    "\n",
    "department = spark.createDataFrame(\n",
    "    [\n",
    "        (\"IT\", \"Jhon\"),\n",
    "        (\"IT\", \"Peter\"),\n",
    "        (\"Sales\", \"Ann\"),\n",
    "    ],\n",
    "    [\"dept\", \"name\"],\n",
    ")\n",
    "\n",
    "people.filter(people.age > 10).join(department, \"name\").groupBy(department.dept).agg(\n",
    "    avg(\"age\").alias(\"avg_age\"),\n",
    "    min(\"age\").alias(\"min_age\"),\n",
    "    max(\"age\").alias(\"max_age\"),\n",
    "    count(\"*\").alias(\"count_age\"),\n",
    ").show()"
   ]
  },
  {
   "cell_type": "code",
   "execution_count": null,
   "id": "dd6032ab2458cb7a",
   "metadata": {
    "collapsed": false
   },
   "outputs": [
    {
     "name": "stdout",
     "output_type": "stream",
     "text": [
      "+---------+------+-------+-------+-------+\n",
      "|     name|gender|avg_age|min_age|max_age|\n",
      "+---------+------+-------+-------+-------+\n",
      "|       ML|     F|   60.0|     60|     60|\n",
      "|Spark SQL|     M|   20.0|     20|     20|\n",
      "|  PySpark|     M|   45.0|     40|     50|\n",
      "+---------+------+-------+-------+-------+\n",
      "\n"
     ]
    }
   ],
   "source": [
    "people = spark.createDataFrame(\n",
    "    [\n",
    "        {\"deptId\": 1, \"age\": 40, \"name\": \"Hyukjin Kwon\", \"gender\": \"M\", \"salary\": 50},\n",
    "        {\"deptId\": 1, \"age\": 50, \"name\": \"Takuya Ueshin\", \"gender\": \"M\", \"salary\": 100},\n",
    "        {\"deptId\": 2, \"age\": 60, \"name\": \"Xinrong Meng\", \"gender\": \"F\", \"salary\": 150},\n",
    "        {\"deptId\": 3, \"age\": 20, \"name\": \"Haejoon Lee\", \"gender\": \"M\", \"salary\": 200},\n",
    "    ]\n",
    ")\n",
    "\n",
    "department = spark.createDataFrame(\n",
    "    [\n",
    "        {\"id\": 1, \"name\": \"PySpark\"},\n",
    "        {\"id\": 2, \"name\": \"ML\"},\n",
    "        {\"id\": 3, \"name\": \"Spark SQL\"},\n",
    "    ]\n",
    ")\n",
    "\n",
    "people.filter(people.age > 10).join(department, people.deptId == department.id).groupby(department.name, \"gender\").agg(\n",
    "    avg(\"age\").alias(\"avg_age\"),\n",
    "    min(\"age\").alias(\"min_age\"),\n",
    "    max(\"age\").alias(\"max_age\"),\n",
    ").show()"
   ]
  },
  {
   "cell_type": "code",
   "execution_count": null,
   "id": "b199d88fcee53df3",
   "metadata": {
    "collapsed": false
   },
   "outputs": [],
   "source": [
    "peopleV1 = spark.createDataFrame(\n",
    "    [[\"Alice\", 2], [\"Bob\", 5]],\n",
    "    [\"name\", \"age\"],\n",
    ")\n",
    "\n",
    "peopleV2 = spark.createDataFrame(\n",
    "    [(\"Alice\", 2), (\"Bob\", 5)],\n",
    "    [\"name\", \"age\"],\n",
    ")\n",
    "\n",
    "peopleV3 = spark.createDataFrame(\n",
    "    [\n",
    "        {\"name\": \"Alice\", \"age\": 2},\n",
    "        {\"name\": \"Bob\", \"age\": 5},\n",
    "    ]\n",
    ")\n",
    "\n",
    "peopleV4 = spark.createDataFrame(\n",
    "    [\n",
    "        Row(name=\"Alice\", age=2),\n",
    "        Row(name=\"Bob\", age=5),\n",
    "        Row(name=\"Tom\", age=7),\n",
    "        Row(name=\"John\", age=9),\n",
    "        Row(name=\"James\", age=11),\n",
    "    ]\n",
    ")"
   ]
  }
 ],
 "metadata": {
  "kernelspec": {
   "display_name": ".venv",
   "language": "python",
   "name": "python3"
  },
  "language_info": {
   "codemirror_mode": {
    "name": "ipython",
    "version": 3
   },
   "file_extension": ".py",
   "mimetype": "text/x-python",
   "name": "python",
   "nbconvert_exporter": "python",
   "pygments_lexer": "ipython3",
   "version": "3.13.6"
  }
 },
 "nbformat": 4,
 "nbformat_minor": 5
}
