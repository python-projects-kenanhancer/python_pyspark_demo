{
 "cells": [
  {
   "cell_type": "code",
   "execution_count": 20,
   "id": "initial_id",
   "metadata": {
    "collapsed": true,
    "ExecuteTime": {
     "end_time": "2023-11-11T03:03:23.957007Z",
     "start_time": "2023-11-11T03:03:23.949920Z"
    }
   },
   "outputs": [],
   "source": [
    "from pyspark.sql import SparkSession, DataFrame\n",
    "from pyspark.sql.functions import *\n",
    "from pyspark.sql.types import BooleanType, StringType, IntegerType\n",
    "\n",
    "spark = SparkSession.builder.appName('sql').getOrCreate()"
   ]
  },
  {
   "cell_type": "code",
   "execution_count": 15,
   "outputs": [
    {
     "name": "stdout",
     "output_type": "stream",
     "text": [
      "+----------+--------+---+-----------+\n",
      "|identifier|    name|age|name_length|\n",
      "+----------+--------+---+-----------+\n",
      "|         6|Franklin| 33|          8|\n",
      "|         4|   David| 11|          5|\n",
      "|         3|Carolynn|  8|          8|\n",
      "|         1|   Alice|  2|          5|\n",
      "+----------+--------+---+-----------+\n"
     ]
    }
   ],
   "source": [
    "# Create DataFrame with names of different lengths\n",
    "df = spark.createDataFrame([\n",
    "    (1, \"Alice\", 2),\n",
    "    (2, \"Bob\", 5),\n",
    "    (3, \"Carolynn\", 8),  # Longer name\n",
    "    (4, \"David\", 11),\n",
    "    (5, \"Eve\", 22),  # Shorter name\n",
    "    (6, \"Franklin\", 33)  # Longer name\n",
    "], ['id', 'name', 'age'])\n",
    "\n",
    "df \\\n",
    "    .withColumnRenamed('id', 'identifier') \\\n",
    "    .withColumn('name_length', expr('length(name)')) \\\n",
    "    .filter(col('name_length') > 3) \\\n",
    "    .orderBy('name', ascending=False) \\\n",
    "    .show()"
   ],
   "metadata": {
    "collapsed": false,
    "ExecuteTime": {
     "end_time": "2023-11-08T11:06:20.608448Z",
     "start_time": "2023-11-08T11:06:20.258644Z"
    }
   },
   "id": "a7808679052cf475"
  },
  {
   "cell_type": "code",
   "execution_count": 16,
   "outputs": [
    {
     "name": "stdout",
     "output_type": "stream",
     "text": [
      "+----------+--------+---+-----------+\n",
      "|identifier|    name|age|name_length|\n",
      "+----------+--------+---+-----------+\n",
      "|         6|Franklin| 33|          8|\n",
      "|         4|   David| 11|          5|\n",
      "|         3|Carolynn|  8|          8|\n",
      "|         1|   Alice|  2|          5|\n",
      "+----------+--------+---+-----------+\n"
     ]
    }
   ],
   "source": [
    "# Create DataFrame with names of different lengths\n",
    "df = spark.createDataFrame([\n",
    "    (1, \"Alice\", 2),\n",
    "    (2, \"Bob\", 5),\n",
    "    (3, \"Carolynn\", 8),  # Longer name\n",
    "    (4, \"David\", 11),\n",
    "    (5, \"Eve\", 22),  # Shorter name\n",
    "    (6, \"Franklin\", 33)  # Longer name\n",
    "], ['id', 'name', 'age'])\n",
    "\n",
    "df \\\n",
    "    .withColumnRenamed('id', 'identifier') \\\n",
    "    .withColumn('name_length', length('name')) \\\n",
    "    .filter(col('name_length') > 3) \\\n",
    "    .orderBy('name', ascending=False) \\\n",
    "    .show()"
   ],
   "metadata": {
    "collapsed": false,
    "ExecuteTime": {
     "end_time": "2023-11-08T11:06:24.262556Z",
     "start_time": "2023-11-08T11:06:23.905754Z"
    }
   },
   "id": "8e5159ff0ed562f1"
  },
  {
   "cell_type": "code",
   "execution_count": 19,
   "outputs": [
    {
     "name": "stdout",
     "output_type": "stream",
     "text": [
      "+----------+--------+---+-----------+\n",
      "|identifier|    name|age|name_length|\n",
      "+----------+--------+---+-----------+\n",
      "|         6|Franklin| 33|          8|\n",
      "|         4|   David| 11|          5|\n",
      "|         3|Carolynn|  8|          8|\n",
      "|         1|   Alice|  2|          5|\n",
      "+----------+--------+---+-----------+\n"
     ]
    }
   ],
   "source": [
    "# Create DataFrame with names of different lengths\n",
    "df = spark.createDataFrame([\n",
    "    (1, \"Alice\", 2),\n",
    "    (2, \"Bob\", 5),\n",
    "    (3, \"Carolynn\", 8),  # Longer name\n",
    "    (4, \"David\", 11),\n",
    "    (5, \"Eve\", 22),  # Shorter name\n",
    "    (6, \"Franklin\", 33)  # Longer name\n",
    "], ['id', 'name', 'age'])\n",
    "\n",
    "df \\\n",
    "    .withColumnRenamed('id', 'identifier') \\\n",
    "    .withColumn('name_length', length(col('name'))) \\\n",
    "    .filter(col('name_length') > 3) \\\n",
    "    .orderBy('name', ascending=False) \\\n",
    "    .show()"
   ],
   "metadata": {
    "collapsed": false,
    "ExecuteTime": {
     "end_time": "2023-11-08T11:06:53.527682Z",
     "start_time": "2023-11-08T11:06:53.120570Z"
    }
   },
   "id": "8d11c32359b73c52"
  },
  {
   "cell_type": "code",
   "execution_count": 14,
   "outputs": [
    {
     "name": "stdout",
     "output_type": "stream",
     "text": [
      "+----------+-----+---+-----------+\n",
      "|identifier| name|age|name_length|\n",
      "+----------+-----+---+-----------+\n",
      "|         4|David| 11|          5|\n",
      "|         3|Carol|  8|          5|\n",
      "|         1|Alice|  2|          5|\n",
      "+----------+-----+---+-----------+\n"
     ]
    }
   ],
   "source": [
    "# Create DataFrame with names of different lengths\n",
    "df = spark.createDataFrame([\n",
    "    (1, \"Alice\", 2),\n",
    "    (2, \"Bob\", 5),\n",
    "    (3, \"Carolynn\", 8),  # Longer name\n",
    "    (4, \"David\", 11),\n",
    "    (5, \"Eve\", 22),  # Shorter name\n",
    "    (6, \"Franklin\", 33)  # Longer name\n",
    "], ['id', 'name', 'age'])\n",
    "\n",
    "df \\\n",
    "    .withColumnRenamed('id', 'identifier') \\\n",
    "    .withColumn('name_length', length(df.name)) \\\n",
    "    .filter(col('name_length') > 3) \\\n",
    "    .orderBy('name', ascending=False) \\\n",
    "    .show()"
   ],
   "metadata": {
    "collapsed": false,
    "ExecuteTime": {
     "end_time": "2023-11-08T11:01:24.187473Z",
     "start_time": "2023-11-08T11:01:23.759987Z"
    }
   },
   "id": "805513223b5b5559"
  },
  {
   "cell_type": "code",
   "execution_count": 8,
   "outputs": [
    {
     "name": "stdout",
     "output_type": "stream",
     "text": [
      "root\n",
      " |-- id: long (nullable = true)\n",
      " |-- name: string (nullable = true)\n",
      " |-- age: long (nullable = true)\n",
      "+----------+--------+---+-----------+-----------------+\n",
      "|identifier|    name|age|name_length|starts_with_vowel|\n",
      "+----------+--------+---+-----------+-----------------+\n",
      "|         1|   Alice|  2|          5|             true|\n",
      "|         2|     Bob|  5|          3|            false|\n",
      "|         3|Carolynn|  8|          8|            false|\n",
      "|         4|   David| 11|          5|            false|\n",
      "|         5|     Eve| 22|          3|             true|\n",
      "|         6|Franklin| 33|          8|            false|\n",
      "+----------+--------+---+-----------+-----------------+\n",
      "\n",
      "root\n",
      " |-- identifier: long (nullable = true)\n",
      " |-- name: string (nullable = true)\n",
      " |-- age: long (nullable = true)\n",
      " |-- name_length: integer (nullable = true)\n",
      " |-- starts_with_vowel: boolean (nullable = true)\n"
     ]
    }
   ],
   "source": [
    "df = spark.createDataFrame([\n",
    "    (1, \"Alice\", 2),\n",
    "    (2, \"Bob\", 5),\n",
    "    (3, \"Carolynn\", 8),  # Longer name\n",
    "    (4, \"David\", 11),\n",
    "    (5, \"Eve\", 22),  # Shorter name\n",
    "    (6, \"Franklin\", 33)  # Longer name\n",
    "], ['id', 'name', 'age'])\n",
    "\n",
    "df.printSchema()\n",
    "\n",
    "extended_df = df \\\n",
    "    .withColumnRenamed('id', 'identifier') \\\n",
    "    .withColumn('name_length', length('name')) \\\n",
    "    .withColumn('starts_with_vowel', expr(\"LOWER(SUBSTR(name, 0, 1)) in ('a', 'e', 'i', 'o', 'u')\"))\n",
    "\n",
    "# built-in functions\n",
    "# https://spark.apache.org/docs/latest/api/sql/index.html\n",
    "\n",
    "\n",
    "extended_df.printSchema()\n",
    "\n",
    "extended_df.show()"
   ],
   "metadata": {
    "collapsed": false,
    "ExecuteTime": {
     "end_time": "2023-11-11T00:47:48.503099Z",
     "start_time": "2023-11-11T00:47:47.845554Z"
    }
   },
   "id": "730bf7569a43f252"
  },
  {
   "cell_type": "code",
   "execution_count": 11,
   "outputs": [
    {
     "name": "stdout",
     "output_type": "stream",
     "text": [
      "+----------+--------+---+-----------+-----------------+---------+\n",
      "|identifier|    name|age|name_length|starts_with_vowel|age_group|\n",
      "+----------+--------+---+-----------+-----------------+---------+\n",
      "|         1|   Alice|  2|          5|             true|    child|\n",
      "|         2|     Bob|  5|          3|            false|    child|\n",
      "|         3|Carolynn|  8|          8|            false|    child|\n",
      "|         4|   David| 11|          5|            false|    child|\n",
      "|         5|     Eve| 22|          3|             true|    adult|\n",
      "|         6|Franklin| 33|          8|            false|    adult|\n",
      "+----------+--------+---+-----------+-----------------+---------+\n"
     ]
    }
   ],
   "source": [
    "df = spark.createDataFrame([\n",
    "    (1, \"Alice\", 2),\n",
    "    (2, \"Bob\", 5),\n",
    "    (3, \"Carolynn\", 8),  # Longer name\n",
    "    (4, \"David\", 11),\n",
    "    (5, \"Eve\", 22),  # Shorter name\n",
    "    (6, \"Franklin\", 33)  # Longer name\n",
    "], ['id', 'name', 'age'])\n",
    "\n",
    "extended_df = df \\\n",
    "    .withColumnRenamed('id', 'identifier') \\\n",
    "    .withColumn('name_length', length('name')) \\\n",
    "    .withColumn('starts_with_vowel', lower(substring('name', 0, 1)).isin(['a', 'e', 'i', 'o', 'u'])) \\\n",
    "    .withColumn('age_group', when(col('age') < 13, 'child')\n",
    "                .when(col('age') < 20, 'teen')\n",
    "                .otherwise('adult'))\n",
    "\n",
    "extended_df.show()"
   ],
   "metadata": {
    "collapsed": false,
    "ExecuteTime": {
     "end_time": "2023-11-11T02:10:01.816387Z",
     "start_time": "2023-11-11T02:10:01.150924Z"
    }
   },
   "id": "7efd48d768852997"
  },
  {
   "cell_type": "code",
   "execution_count": 13,
   "outputs": [
    {
     "name": "stdout",
     "output_type": "stream",
     "text": [
      "+----------+--------+---+-----------+-----------------+---------+\n",
      "|identifier|    name|age|name_length|starts_with_vowel|age_group|\n",
      "+----------+--------+---+-----------+-----------------+---------+\n",
      "|         6|Franklin| 33|          8|            false|    adult|\n",
      "|         4|   David| 11|          5|            false|    child|\n",
      "|         3|Carolynn|  8|          8|            false|    child|\n",
      "|         1|   Alice|  2|          5|             true|    child|\n",
      "+----------+--------+---+-----------+-----------------+---------+\n"
     ]
    }
   ],
   "source": [
    "def starts_with_vowel(name):\n",
    "    return name[0].lower() in ['a', 'e', 'i', 'o', 'u']\n",
    "\n",
    "\n",
    "starts_with_vowel_udf = udf(starts_with_vowel, BooleanType())\n",
    "\n",
    "# Create DataFrame with names of different lengths\n",
    "df = spark.createDataFrame([\n",
    "    (1, \"Alice\", 2),\n",
    "    (2, \"Bob\", 5),\n",
    "    (3, \"Carolynn\", 8),  # Longer name\n",
    "    (4, \"David\", 11),\n",
    "    (5, \"Eve\", 22),  # Shorter name\n",
    "    (6, \"Franklin\", 33)  # Longer name\n",
    "], ['id', 'name', 'age'])\n",
    "\n",
    "extended_df = df \\\n",
    "    .withColumnRenamed('id', 'identifier') \\\n",
    "    .withColumn('name_length', length('name')) \\\n",
    "    .withColumn('starts_with_vowel', starts_with_vowel_udf('name')) \\\n",
    "    .withColumn('age_group', when(df.age < 13, 'child')\n",
    "                .when(df.age < 20, 'teen')\n",
    "                .otherwise('adult')) \\\n",
    "    .filter(col('name_length') > 3) \\\n",
    "    .orderBy('name', ascending=False)\n",
    "\n",
    "extended_df.show()"
   ],
   "metadata": {
    "collapsed": false,
    "ExecuteTime": {
     "end_time": "2023-11-11T01:01:52.957762Z",
     "start_time": "2023-11-11T01:00:40.177360Z"
    }
   },
   "id": "7a0c0e64bccfae4f"
  },
  {
   "cell_type": "code",
   "execution_count": 3,
   "outputs": [
    {
     "name": "stderr",
     "output_type": "stream",
     "text": [
      "                                                                                \r"
     ]
    },
    {
     "name": "stdout",
     "output_type": "stream",
     "text": [
      "+----------+--------+---+-----------+-----------------+---------+\n",
      "|identifier|    name|age|name_length|starts_with_vowel|age_group|\n",
      "+----------+--------+---+-----------+-----------------+---------+\n",
      "|         6|Franklin| 33|          8|            false|    adult|\n",
      "|         4|   David| 11|          5|            false|    child|\n",
      "|         3|Carolynn|  8|          8|            false|    child|\n",
      "|         1|   Alice|  2|          5|             true|    child|\n",
      "+----------+--------+---+-----------+-----------------+---------+\n"
     ]
    }
   ],
   "source": [
    "starts_with_vowel_udf = udf(lambda name: name[0].lower() in ['a', 'e', 'i', 'o', 'u'], BooleanType())\n",
    "\n",
    "# Create DataFrame with names of different lengths\n",
    "df = spark.createDataFrame([\n",
    "    (1, \"Alice\", 2),\n",
    "    (2, \"Bob\", 5),\n",
    "    (3, \"Carolynn\", 8),  # Longer name\n",
    "    (4, \"David\", 11),\n",
    "    (5, \"Eve\", 22),  # Shorter name\n",
    "    (6, \"Franklin\", 33)  # Longer name\n",
    "], ['id', 'name', 'age'])\n",
    "\n",
    "extended_df = df \\\n",
    "    .withColumnRenamed('id', 'identifier') \\\n",
    "    .withColumn('name_length', length('name')) \\\n",
    "    .withColumn('starts_with_vowel', starts_with_vowel_udf('name')) \\\n",
    "    .withColumn('age_group', when(col('age') < 13, 'child')\n",
    "                .when(df.age < 20, 'teen')\n",
    "                .otherwise('adult')) \\\n",
    "    .filter(col('name_length') > 3) \\\n",
    "    .orderBy('name', ascending=False)\n",
    "\n",
    "extended_df.show()"
   ],
   "metadata": {
    "collapsed": false,
    "ExecuteTime": {
     "end_time": "2023-11-11T01:24:12.673306Z",
     "start_time": "2023-11-11T01:24:11.275284Z"
    }
   },
   "id": "78de39bfbbe4b899"
  },
  {
   "cell_type": "code",
   "execution_count": 5,
   "outputs": [
    {
     "name": "stderr",
     "output_type": "stream",
     "text": [
      "[Stage 2:>                                                        (0 + 10) / 10]\r"
     ]
    },
    {
     "name": "stdout",
     "output_type": "stream",
     "text": [
      "+----------+--------+---+-----------+-----------------+---------+\n",
      "|identifier|    name|age|name_length|starts_with_vowel|age_group|\n",
      "+----------+--------+---+-----------+-----------------+---------+\n",
      "|         6|Franklin| 33|          8|            false|    adult|\n",
      "|         4|   David| 11|          5|            false|    child|\n",
      "|         3|Carolynn|  8|          8|            false|    child|\n",
      "|         1|   Alice|  2|          5|             true|    child|\n",
      "+----------+--------+---+-----------+-----------------+---------+\n"
     ]
    },
    {
     "name": "stderr",
     "output_type": "stream",
     "text": [
      "                                                                                \r"
     ]
    }
   ],
   "source": [
    "starts_with_vowel_udf = udf(lambda name: name[0].lower() in ['a', 'e', 'i', 'o', 'u'], BooleanType())\n",
    "\n",
    "age_group_udf = udf(lambda age: 'child' if age < 13 else 'teen' if age < 20 else 'adult', StringType())\n",
    "\n",
    "# Create DataFrame with names of different lengths\n",
    "df = spark.createDataFrame([\n",
    "    (1, \"Alice\", 2),\n",
    "    (2, \"Bob\", 5),\n",
    "    (3, \"Carolynn\", 8),  # Longer name\n",
    "    (4, \"David\", 11),\n",
    "    (5, \"Eve\", 22),  # Shorter name\n",
    "    (6, \"Franklin\", 33)  # Longer name\n",
    "], ['id', 'name', 'age'])\n",
    "\n",
    "extended_df = df \\\n",
    "    .withColumnRenamed('id', 'identifier') \\\n",
    "    .withColumn('name_length', expr(\"length(name)\")) \\\n",
    "    .withColumn('starts_with_vowel', starts_with_vowel_udf('name')) \\\n",
    "    .withColumn('age_group', age_group_udf('age')) \\\n",
    "    .filter(col('name_length') > 3) \\\n",
    "    .orderBy('name', ascending=False)\n",
    "\n",
    "extended_df.show()"
   ],
   "metadata": {
    "collapsed": false,
    "ExecuteTime": {
     "end_time": "2023-11-11T01:47:51.705311Z",
     "start_time": "2023-11-11T01:47:49.620036Z"
    }
   },
   "id": "1ec7976cfd0e1c2e"
  },
  {
   "cell_type": "code",
   "execution_count": 7,
   "outputs": [
    {
     "name": "stderr",
     "output_type": "stream",
     "text": [
      "[Stage 3:>                                                        (0 + 10) / 10]\r"
     ]
    },
    {
     "name": "stdout",
     "output_type": "stream",
     "text": [
      "+----------+--------+---+-----------+-----------------+---------+\n",
      "|identifier|    name|age|name_length|starts_with_vowel|age_group|\n",
      "+----------+--------+---+-----------+-----------------+---------+\n",
      "|         6|Franklin| 33|          8|            false|    adult|\n",
      "|         4|   David| 11|          5|            false|    child|\n",
      "|         3|Carolynn|  8|          8|            false|    child|\n",
      "|         1|   Alice|  2|          5|             true|    child|\n",
      "+----------+--------+---+-----------+-----------------+---------+\n"
     ]
    },
    {
     "name": "stderr",
     "output_type": "stream",
     "text": [
      "                                                                                \r"
     ]
    }
   ],
   "source": [
    "starts_with_vowel_udf = udf(lambda name: name[0].lower() in ['a', 'e', 'i', 'o', 'u'], BooleanType())\n",
    "\n",
    "age_group_udf = udf(lambda age: 'child' if age < 13 else 'teen' if age < 20 else 'adult', StringType())\n",
    "\n",
    "string_length_udf = udf(lambda name: len(name), IntegerType())\n",
    "\n",
    "# Create DataFrame with names of different lengths\n",
    "df = spark.createDataFrame([\n",
    "    (1, \"Alice\", 2),\n",
    "    (2, \"Bob\", 5),\n",
    "    (3, \"Carolynn\", 8),  # Longer name\n",
    "    (4, \"David\", 11),\n",
    "    (5, \"Eve\", 22),  # Shorter name\n",
    "    (6, \"Franklin\", 33)  # Longer name\n",
    "], ['id', 'name', 'age'])\n",
    "\n",
    "extended_df = df \\\n",
    "    .withColumnRenamed('id', 'identifier') \\\n",
    "    .withColumn('name_length', string_length_udf('name')) \\\n",
    "    .withColumn('starts_with_vowel', starts_with_vowel_udf('name')) \\\n",
    "    .withColumn('age_group', age_group_udf('age')) \\\n",
    "    .filter(col('name_length') > 3) \\\n",
    "    .orderBy('name', ascending=False)\n",
    "\n",
    "extended_df.show()"
   ],
   "metadata": {
    "collapsed": false,
    "ExecuteTime": {
     "end_time": "2023-11-11T01:54:10.297490Z",
     "start_time": "2023-11-11T01:54:08.370568Z"
    }
   },
   "id": "2e0e634d6f51ff51"
  },
  {
   "cell_type": "code",
   "execution_count": 12,
   "outputs": [
    {
     "name": "stdout",
     "output_type": "stream",
     "text": [
      "+----------+--------+---+-----------+-----------------+---------+\n",
      "|identifier|    name|age|name_length|starts_with_vowel|age_group|\n",
      "+----------+--------+---+-----------+-----------------+---------+\n",
      "|         6|Franklin| 33|          8|            false|    adult|\n",
      "|         4|   David| 11|          5|            false|    child|\n",
      "|         3|Carolynn|  8|          8|            false|    child|\n",
      "|         1|   Alice|  2|          5|             true|    child|\n",
      "+----------+--------+---+-----------+-----------------+---------+\n"
     ]
    },
    {
     "name": "stderr",
     "output_type": "stream",
     "text": [
      "                                                                                \r"
     ]
    }
   ],
   "source": [
    "def starts_with_vowel(name):\n",
    "    return name[0].lower() in ['a', 'e', 'i', 'o', 'u']\n",
    "\n",
    "\n",
    "def age_group(age):\n",
    "    if age < 13:\n",
    "        return 'child'\n",
    "    elif age < 20:\n",
    "        return 'teen'\n",
    "    else:\n",
    "        return 'adult'\n",
    "\n",
    "\n",
    "def string_length(name):\n",
    "    return len(name) if name else None\n",
    "\n",
    "\n",
    "# Convert Python functions to UDFs\n",
    "starts_with_vowel_udf = udf(starts_with_vowel, BooleanType())\n",
    "age_group_udf = udf(age_group, StringType())\n",
    "string_length_udf = udf(string_length, IntegerType())\n",
    "\n",
    "# Create DataFrame with names of different lengths\n",
    "df = spark.createDataFrame([\n",
    "    (1, \"Alice\", 2),\n",
    "    (2, \"Bob\", 5),\n",
    "    (3, \"Carolynn\", 8),  # Longer name\n",
    "    (4, \"David\", 11),\n",
    "    (5, \"Eve\", 22),  # Shorter name\n",
    "    (6, \"Franklin\", 33)  # Longer name\n",
    "], ['id', 'name', 'age'])\n",
    "\n",
    "extended_df = df \\\n",
    "    .withColumnRenamed('id', 'identifier') \\\n",
    "    .withColumn('name_length', string_length_udf('name')) \\\n",
    "    .withColumn('starts_with_vowel', starts_with_vowel_udf('name')) \\\n",
    "    .withColumn('age_group', age_group_udf('age')) \\\n",
    "    .filter(col('name_length') > 3) \\\n",
    "    .orderBy('name', ascending=False)\n",
    "\n",
    "extended_df.show()"
   ],
   "metadata": {
    "collapsed": false,
    "ExecuteTime": {
     "end_time": "2023-11-11T02:12:00.268343Z",
     "start_time": "2023-11-11T02:11:59.194474Z"
    }
   },
   "id": "dd932f6aa79a8be2"
  },
  {
   "cell_type": "code",
   "execution_count": 14,
   "outputs": [
    {
     "name": "stdout",
     "output_type": "stream",
     "text": [
      "+----------+--------+---+-----------+-----------------+---------+\n",
      "|identifier|    name|age|name_length|starts_with_vowel|age_group|\n",
      "+----------+--------+---+-----------+-----------------+---------+\n",
      "|         6|Franklin| 33|          8|            false|    adult|\n",
      "|         4|   David| 11|          5|            false|    child|\n",
      "|         3|Carolynn|  8|          8|            false|    child|\n",
      "|         1|   Alice|  2|          5|             true|    child|\n",
      "+----------+--------+---+-----------+-----------------+---------+\n"
     ]
    }
   ],
   "source": [
    "def with_starts_with_vowel(df_transform: DataFrame) -> DataFrame:\n",
    "    return df_transform.withColumn('starts_with_vowel',\n",
    "                                   lower(substring(col('name'), 0, 1)).isin(['a', 'e', 'i', 'o', 'u']))\n",
    "\n",
    "\n",
    "def with_age_group(df_transform: DataFrame) -> DataFrame:\n",
    "    return df_transform.withColumn('age_group', when(col('age') < 13, 'child')\n",
    "                                   .when(col('age') < 20, 'teen')\n",
    "                                   .otherwise('adult'))\n",
    "\n",
    "\n",
    "def with_name_length(df_transform: DataFrame) -> DataFrame:\n",
    "    return df_transform.withColumn('name_length', length(col('name')))\n",
    "\n",
    "\n",
    "# Create DataFrame with names of different lengths\n",
    "df = spark.createDataFrame([\n",
    "    (1, \"Alice\", 2),\n",
    "    (2, \"Bob\", 5),\n",
    "    (3, \"Carolynn\", 8),  # Longer name\n",
    "    (4, \"David\", 11),\n",
    "    (5, \"Eve\", 22),  # Shorter name\n",
    "    (6, \"Franklin\", 33)  # Longer name\n",
    "], ['id', 'name', 'age'])\n",
    "\n",
    "extended_df = df \\\n",
    "    .withColumnRenamed('id', 'identifier') \\\n",
    "    .transform(with_name_length) \\\n",
    "    .transform(with_starts_with_vowel) \\\n",
    "    .transform(with_age_group) \\\n",
    "    .filter(col('name_length') > 3) \\\n",
    "    .orderBy('name', ascending=False)\n",
    "\n",
    "extended_df.show()"
   ],
   "metadata": {
    "collapsed": false,
    "ExecuteTime": {
     "end_time": "2023-11-11T02:19:21.936180Z",
     "start_time": "2023-11-11T02:19:21.080288Z"
    }
   },
   "id": "8d93126cab6964a9"
  },
  {
   "cell_type": "code",
   "execution_count": 25,
   "outputs": [
    {
     "name": "stdout",
     "output_type": "stream",
     "text": [
      "+----------+--------+---+-----------+-----------------+---------+\n",
      "|identifier|    name|age|name_length|starts_with_vowel|age_group|\n",
      "+----------+--------+---+-----------+-----------------+---------+\n",
      "|         6|Franklin| 33|          8|            false|    adult|\n",
      "|         4|   David| 11|          5|            false|    child|\n",
      "|         3|Carolynn|  8|          8|            false|    child|\n",
      "|         1|   Alice|  2|          5|             true|    child|\n",
      "+----------+--------+---+-----------+-----------------+---------+\n"
     ]
    }
   ],
   "source": [
    "def with_starts_with_vowel(df_transform: DataFrame) -> DataFrame:\n",
    "    return df_transform.withColumn('starts_with_vowel',\n",
    "                                   lower(substring(col('name'), 0, 1)).isin(['a', 'e', 'i', 'o', 'u']))\n",
    "\n",
    "\n",
    "def with_age_group(df_transform: DataFrame) -> DataFrame:\n",
    "    return df_transform.withColumn('age_group', when(col('age') < 13, 'child')\n",
    "                                   .when(col('age') < 20, 'teen')\n",
    "                                   .otherwise('adult'))\n",
    "\n",
    "\n",
    "def with_name_length(df_transform: DataFrame) -> DataFrame:\n",
    "    return df_transform.withColumn('name_length', length(col('name')))\n",
    "\n",
    "\n",
    "def rename_columns(df_transform: DataFrame, new_column_names: dict) -> DataFrame:\n",
    "    for old_name, new_name in new_column_names.items():\n",
    "        df_transform = df_transform.withColumnRenamed(old_name, new_name)\n",
    "    return df_transform\n",
    "\n",
    "\n",
    "def filter_by_name_length(df_transform: DataFrame, min_length: int) -> DataFrame:\n",
    "    return df_transform.filter(col('name_length') > min_length)\n",
    "\n",
    "\n",
    "def sort_by_name(df_transform: DataFrame, ascending: bool = True) -> DataFrame:\n",
    "    return df_transform.orderBy('name', ascending=ascending)\n",
    "\n",
    "\n",
    "def transform(df_transform: DataFrame, *transform_functions) -> DataFrame:\n",
    "    for transform_function in transform_functions:\n",
    "        df_transform = transform_function(df_transform)\n",
    "    return df_transform\n",
    "\n",
    "\n",
    "# Create DataFrame with names of different lengths\n",
    "df = spark.createDataFrame([\n",
    "    (1, \"Alice\", 2),\n",
    "    (2, \"Bob\", 5),\n",
    "    (3, \"Carolynn\", 8),  # Longer name\n",
    "    (4, \"David\", 11),\n",
    "    (5, \"Eve\", 22),  # Shorter name\n",
    "    (6, \"Franklin\", 33)  # Longer name\n",
    "], ['id', 'name', 'age'])\n",
    "\n",
    "extended_df = transform(df,\n",
    "                        with_name_length,\n",
    "                        with_starts_with_vowel,\n",
    "                        with_age_group,\n",
    "                        lambda dff: filter_by_name_length(dff, 3),\n",
    "                        lambda dff: rename_columns(dff, {'id': 'identifier'}),\n",
    "                        lambda dff: sort_by_name(dff, ascending=False))\n",
    "\n",
    "extended_df.show()"
   ],
   "metadata": {
    "collapsed": false,
    "ExecuteTime": {
     "end_time": "2023-11-11T03:07:17.554397Z",
     "start_time": "2023-11-11T03:07:17.361931Z"
    }
   },
   "id": "b0a70cdc717c24a4"
  },
  {
   "cell_type": "code",
   "execution_count": null,
   "outputs": [],
   "source": [],
   "metadata": {
    "collapsed": false
   },
   "id": "c7f93a363f649fbc"
  }
 ],
 "metadata": {
  "kernelspec": {
   "display_name": "Python 3",
   "language": "python",
   "name": "python3"
  },
  "language_info": {
   "codemirror_mode": {
    "name": "ipython",
    "version": 2
   },
   "file_extension": ".py",
   "mimetype": "text/x-python",
   "name": "python",
   "nbconvert_exporter": "python",
   "pygments_lexer": "ipython2",
   "version": "2.7.6"
  }
 },
 "nbformat": 4,
 "nbformat_minor": 5
}
