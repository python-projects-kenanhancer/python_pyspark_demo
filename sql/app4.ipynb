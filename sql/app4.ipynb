{
 "cells": [
  {
   "cell_type": "code",
   "execution_count": 2,
   "id": "initial_id",
   "metadata": {
    "ExecuteTime": {
     "end_time": "2023-11-13T01:17:58.245016Z",
     "start_time": "2023-11-13T01:17:53.101643Z"
    },
    "collapsed": true
   },
   "outputs": [
    {
     "name": "stderr",
     "output_type": "stream",
     "text": [
      "WARNING: An illegal reflective access operation has occurred\n",
      "WARNING: Illegal reflective access by org.apache.spark.unsafe.Platform (file:/Users/kenanhancer/Documents/projects/python-projects-kenanhancer/python_pyspark_demo/.venv/lib/python3.10/site-packages/pyspark/jars/spark-unsafe_2.12-3.0.3.jar) to constructor java.nio.DirectByteBuffer(long,int)\n",
      "WARNING: Please consider reporting this to the maintainers of org.apache.spark.unsafe.Platform\n",
      "WARNING: Use --illegal-access=warn to enable warnings of further illegal reflective access operations\n",
      "WARNING: All illegal access operations will be denied in a future release\n",
      "23/11/13 01:17:55 WARN NativeCodeLoader: Unable to load native-hadoop library for your platform... using builtin-java classes where applicable\n",
      "Using Spark's default log4j profile: org/apache/spark/log4j-defaults.properties\n",
      "Setting default log level to \"WARN\".\n",
      "To adjust logging level use sc.setLogLevel(newLevel). For SparkR, use setLogLevel(newLevel).\n"
     ]
    }
   ],
   "source": [
    "from pyspark.sql import SparkSession, DataFrame\n",
    "from pyspark.sql.functions import *\n",
    "from pyspark.sql.types import BooleanType, StringType, IntegerType\n",
    "\n",
    "spark = SparkSession.builder.appName('sql').getOrCreate()"
   ]
  },
  {
   "cell_type": "code",
   "execution_count": 2,
   "id": "a7808679052cf475",
   "metadata": {
    "ExecuteTime": {
     "end_time": "2023-11-12T22:51:47.786574Z",
     "start_time": "2023-11-12T22:51:41.475725Z"
    },
    "collapsed": false
   },
   "outputs": [
    {
     "name": "stderr",
     "output_type": "stream",
     "text": [
      "[Stage 0:>                                                        (0 + 10) / 10]\r"
     ]
    },
    {
     "name": "stdout",
     "output_type": "stream",
     "text": [
      "+----------+--------+---+-----------+\n",
      "|identifier|    name|age|name_length|\n",
      "+----------+--------+---+-----------+\n",
      "|         6|Franklin| 33|          8|\n",
      "|         4|   David| 11|          5|\n",
      "|         3|Carolynn|  8|          8|\n",
      "|         1|   Alice|  2|          5|\n",
      "+----------+--------+---+-----------+\n"
     ]
    },
    {
     "name": "stderr",
     "output_type": "stream",
     "text": [
      "                                                                                \r"
     ]
    }
   ],
   "source": [
    "# Create DataFrame with names of different lengths\n",
    "df = spark.createDataFrame([\n",
    "    (1, \"Alice\", 2),\n",
    "    (2, \"Bob\", 5),\n",
    "    (3, \"Carolynn\", 8),  # Longer name\n",
    "    (4, \"David\", 11),\n",
    "    (5, \"Eve\", 22),  # Shorter name\n",
    "    (6, \"Franklin\", 33)  # Longer name\n",
    "], ['id', 'name', 'age'])\n",
    "\n",
    "df \\\n",
    "    .withColumnRenamed('id', 'identifier') \\\n",
    "    .withColumn('name_length', expr('length(name)')) \\\n",
    "    .filter(col('name_length') > 3) \\\n",
    "    .orderBy('name', ascending=False) \\\n",
    "    .show()"
   ]
  },
  {
   "cell_type": "code",
   "execution_count": 3,
   "id": "8e5159ff0ed562f1",
   "metadata": {
    "ExecuteTime": {
     "end_time": "2023-11-12T22:51:52.184969Z",
     "start_time": "2023-11-12T22:51:51.637014Z"
    },
    "collapsed": false
   },
   "outputs": [
    {
     "name": "stdout",
     "output_type": "stream",
     "text": [
      "+----------+--------+---+-----------+\n",
      "|identifier|    name|age|name_length|\n",
      "+----------+--------+---+-----------+\n",
      "|         6|Franklin| 33|          8|\n",
      "|         4|   David| 11|          5|\n",
      "|         3|Carolynn|  8|          8|\n",
      "|         1|   Alice|  2|          5|\n",
      "+----------+--------+---+-----------+\n"
     ]
    }
   ],
   "source": [
    "# Create DataFrame with names of different lengths\n",
    "df = spark.createDataFrame([\n",
    "    (1, \"Alice\", 2),\n",
    "    (2, \"Bob\", 5),\n",
    "    (3, \"Carolynn\", 8),  # Longer name\n",
    "    (4, \"David\", 11),\n",
    "    (5, \"Eve\", 22),  # Shorter name\n",
    "    (6, \"Franklin\", 33)  # Longer name\n",
    "], ['id', 'name', 'age'])\n",
    "\n",
    "df \\\n",
    "    .withColumnRenamed('id', 'identifier') \\\n",
    "    .withColumn('name_length', length('name')) \\\n",
    "    .filter(col('name_length') > 3) \\\n",
    "    .orderBy('name', ascending=False) \\\n",
    "    .show()"
   ]
  },
  {
   "cell_type": "code",
   "execution_count": 4,
   "id": "8d11c32359b73c52",
   "metadata": {
    "ExecuteTime": {
     "end_time": "2023-11-12T22:56:54.134130Z",
     "start_time": "2023-11-12T22:56:53.442599Z"
    },
    "collapsed": false
   },
   "outputs": [
    {
     "name": "stdout",
     "output_type": "stream",
     "text": [
      "+----------+--------+---+-----------+\n",
      "|identifier|    name|age|name_length|\n",
      "+----------+--------+---+-----------+\n",
      "|         6|Franklin| 33|          8|\n",
      "|         4|   David| 11|          5|\n",
      "|         3|Carolynn|  8|          8|\n",
      "|         1|   Alice|  2|          5|\n",
      "+----------+--------+---+-----------+\n"
     ]
    }
   ],
   "source": [
    "# Create DataFrame with names of different lengths\n",
    "df = spark.createDataFrame([\n",
    "    (1, \"Alice\", 2),\n",
    "    (2, \"Bob\", 5),\n",
    "    (3, \"Carolynn\", 8),  # Longer name\n",
    "    (4, \"David\", 11),\n",
    "    (5, \"Eve\", 22),  # Shorter name\n",
    "    (6, \"Franklin\", 33)  # Longer name\n",
    "], ['id', 'name', 'age'])\n",
    "\n",
    "df \\\n",
    "    .withColumnRenamed('id', 'identifier') \\\n",
    "    .withColumn('name_length', length(col('name'))) \\\n",
    "    .filter(col('name_length') > 3) \\\n",
    "    .orderBy('name', ascending=False) \\\n",
    "    .show()"
   ]
  },
  {
   "cell_type": "code",
   "execution_count": 5,
   "id": "805513223b5b5559",
   "metadata": {
    "ExecuteTime": {
     "end_time": "2023-11-12T22:59:05.172968Z",
     "start_time": "2023-11-12T22:59:04.582015Z"
    },
    "collapsed": false
   },
   "outputs": [
    {
     "name": "stdout",
     "output_type": "stream",
     "text": [
      "+----------+--------+---+-----------+\n",
      "|identifier|    name|age|name_length|\n",
      "+----------+--------+---+-----------+\n",
      "|         6|Franklin| 33|          8|\n",
      "|         4|   David| 11|          5|\n",
      "|         3|Carolynn|  8|          8|\n",
      "|         1|   Alice|  2|          5|\n",
      "+----------+--------+---+-----------+\n"
     ]
    }
   ],
   "source": [
    "# Create DataFrame with names of different lengths\n",
    "df = spark.createDataFrame([\n",
    "    (1, \"Alice\", 2),\n",
    "    (2, \"Bob\", 5),\n",
    "    (3, \"Carolynn\", 8),  # Longer name\n",
    "    (4, \"David\", 11),\n",
    "    (5, \"Eve\", 22),  # Shorter name\n",
    "    (6, \"Franklin\", 33)  # Longer name\n",
    "], ['id', 'name', 'age'])\n",
    "\n",
    "df \\\n",
    "    .withColumnRenamed('id', 'identifier') \\\n",
    "    .withColumn('name_length', length(df.name)) \\\n",
    "    .filter(col('name_length') > 3) \\\n",
    "    .orderBy('name', ascending=False) \\\n",
    "    .show()"
   ]
  },
  {
   "cell_type": "code",
   "execution_count": 6,
   "id": "730bf7569a43f252",
   "metadata": {
    "ExecuteTime": {
     "end_time": "2023-11-12T22:59:07.229163Z",
     "start_time": "2023-11-12T22:59:06.330402Z"
    },
    "collapsed": false
   },
   "outputs": [
    {
     "name": "stdout",
     "output_type": "stream",
     "text": [
      "root\n",
      " |-- id: long (nullable = true)\n",
      " |-- name: string (nullable = true)\n",
      " |-- age: long (nullable = true)\n",
      "\n",
      "root\n",
      " |-- identifier: long (nullable = true)\n",
      " |-- name: string (nullable = true)\n",
      " |-- age: long (nullable = true)\n",
      " |-- name_length: integer (nullable = true)\n",
      " |-- starts_with_vowel: boolean (nullable = true)\n",
      "+----------+--------+---+-----------+-----------------+\n",
      "|identifier|    name|age|name_length|starts_with_vowel|\n",
      "+----------+--------+---+-----------+-----------------+\n",
      "|         1|   Alice|  2|          5|             true|\n",
      "|         2|     Bob|  5|          3|            false|\n",
      "|         3|Carolynn|  8|          8|            false|\n",
      "|         4|   David| 11|          5|            false|\n",
      "|         5|     Eve| 22|          3|             true|\n",
      "|         6|Franklin| 33|          8|            false|\n",
      "+----------+--------+---+-----------+-----------------+\n"
     ]
    }
   ],
   "source": [
    "df = spark.createDataFrame([\n",
    "    (1, \"Alice\", 2),\n",
    "    (2, \"Bob\", 5),\n",
    "    (3, \"Carolynn\", 8),  # Longer name\n",
    "    (4, \"David\", 11),\n",
    "    (5, \"Eve\", 22),  # Shorter name\n",
    "    (6, \"Franklin\", 33)  # Longer name\n",
    "], ['id', 'name', 'age'])\n",
    "\n",
    "df.printSchema()\n",
    "\n",
    "extended_df = df \\\n",
    "    .withColumnRenamed('id', 'identifier') \\\n",
    "    .withColumn('name_length', length('name')) \\\n",
    "    .withColumn('starts_with_vowel', expr(\"LOWER(SUBSTR(name, 0, 1)) in ('a', 'e', 'i', 'o', 'u')\"))\n",
    "\n",
    "# built-in functions\n",
    "# https://spark.apache.org/docs/latest/api/sql/index.html\n",
    "\n",
    "\n",
    "extended_df.printSchema()\n",
    "\n",
    "extended_df.show()"
   ]
  },
  {
   "cell_type": "code",
   "execution_count": 7,
   "id": "7efd48d768852997",
   "metadata": {
    "ExecuteTime": {
     "end_time": "2023-11-12T22:59:10.697849Z",
     "start_time": "2023-11-12T22:59:09.777736Z"
    },
    "collapsed": false
   },
   "outputs": [
    {
     "name": "stdout",
     "output_type": "stream",
     "text": [
      "+----------+--------+---+-----------+-----------------+---------+\n",
      "|identifier|    name|age|name_length|starts_with_vowel|age_group|\n",
      "+----------+--------+---+-----------+-----------------+---------+\n",
      "|         1|   Alice|  2|          5|             true|    child|\n",
      "|         2|     Bob|  5|          3|            false|    child|\n",
      "|         3|Carolynn|  8|          8|            false|    child|\n",
      "|         4|   David| 11|          5|            false|    child|\n",
      "|         5|     Eve| 22|          3|             true|    adult|\n",
      "|         6|Franklin| 33|          8|            false|    adult|\n",
      "+----------+--------+---+-----------+-----------------+---------+\n"
     ]
    }
   ],
   "source": [
    "df = spark.createDataFrame([\n",
    "    (1, \"Alice\", 2),\n",
    "    (2, \"Bob\", 5),\n",
    "    (3, \"Carolynn\", 8),  # Longer name\n",
    "    (4, \"David\", 11),\n",
    "    (5, \"Eve\", 22),  # Shorter name\n",
    "    (6, \"Franklin\", 33)  # Longer name\n",
    "], ['id', 'name', 'age'])\n",
    "\n",
    "extended_df = df \\\n",
    "    .withColumnRenamed('id', 'identifier') \\\n",
    "    .withColumn('name_length', length('name')) \\\n",
    "    .withColumn('starts_with_vowel', lower(substring('name', 0, 1)).isin(['a', 'e', 'i', 'o', 'u'])) \\\n",
    "    .withColumn('age_group', when(col('age') < 13, 'child')\n",
    "                .when(col('age') < 20, 'teen')\n",
    "                .otherwise('adult'))\n",
    "\n",
    "extended_df.show()"
   ]
  },
  {
   "cell_type": "code",
   "execution_count": null,
   "id": "7a0c0e64bccfae4f",
   "metadata": {
    "ExecuteTime": {
     "start_time": "2023-11-11T22:09:31.455375Z"
    },
    "collapsed": false
   },
   "outputs": [],
   "source": [
    "def starts_with_vowel(name):\n",
    "    return name[0].lower() in ['a', 'e', 'i', 'o', 'u']\n",
    "\n",
    "\n",
    "starts_with_vowel_udf = udf(starts_with_vowel, BooleanType())\n",
    "\n",
    "# Create DataFrame with names of different lengths\n",
    "df = spark.createDataFrame([\n",
    "    (1, \"Alice\", 2),\n",
    "    (2, \"Bob\", 5),\n",
    "    (3, \"Carolynn\", 8),  # Longer name\n",
    "    (4, \"David\", 11),\n",
    "    (5, \"Eve\", 22),  # Shorter name\n",
    "    (6, \"Franklin\", 33)  # Longer name\n",
    "], ['id', 'name', 'age'])\n",
    "\n",
    "extended_df = df \\\n",
    "    .withColumnRenamed('id', 'identifier') \\\n",
    "    .withColumn('name_length', length('name')) \\\n",
    "    .withColumn('starts_with_vowel', starts_with_vowel_udf('name')) \\\n",
    "    .withColumn('age_group', when(df.age < 13, 'child')\n",
    "                .when(df.age < 20, 'teen')\n",
    "                .otherwise('adult')) \\\n",
    "    .filter(col('name_length') > 3) \\\n",
    "    .orderBy('name', ascending=False)\n",
    "\n",
    "extended_df.show()"
   ]
  },
  {
   "cell_type": "code",
   "execution_count": null,
   "id": "78de39bfbbe4b899",
   "metadata": {
    "ExecuteTime": {
     "start_time": "2023-11-11T22:09:31.457320Z"
    },
    "collapsed": false
   },
   "outputs": [],
   "source": [
    "starts_with_vowel_udf = udf(lambda name: name[0].lower() in ['a', 'e', 'i', 'o', 'u'], BooleanType())\n",
    "\n",
    "# Create DataFrame with names of different lengths\n",
    "df = spark.createDataFrame([\n",
    "    (1, \"Alice\", 2),\n",
    "    (2, \"Bob\", 5),\n",
    "    (3, \"Carolynn\", 8),  # Longer name\n",
    "    (4, \"David\", 11),\n",
    "    (5, \"Eve\", 22),  # Shorter name\n",
    "    (6, \"Franklin\", 33)  # Longer name\n",
    "], ['id', 'name', 'age'])\n",
    "\n",
    "extended_df = df \\\n",
    "    .withColumnRenamed('id', 'identifier') \\\n",
    "    .withColumn('name_length', length('name')) \\\n",
    "    .withColumn('starts_with_vowel', starts_with_vowel_udf('name')) \\\n",
    "    .withColumn('age_group', when(col('age') < 13, 'child')\n",
    "                .when(df.age < 20, 'teen')\n",
    "                .otherwise('adult')) \\\n",
    "    .filter(col('name_length') > 3) \\\n",
    "    .orderBy('name', ascending=False)\n",
    "\n",
    "extended_df.show()"
   ]
  },
  {
   "cell_type": "code",
   "execution_count": null,
   "id": "1ec7976cfd0e1c2e",
   "metadata": {
    "ExecuteTime": {
     "start_time": "2023-11-11T22:09:31.459005Z"
    },
    "collapsed": false
   },
   "outputs": [],
   "source": [
    "starts_with_vowel_udf = udf(lambda name: name[0].lower() in ['a', 'e', 'i', 'o', 'u'], BooleanType())\n",
    "\n",
    "age_group_udf = udf(lambda age: 'child' if age < 13 else 'teen' if age < 20 else 'adult', StringType())\n",
    "\n",
    "# Create DataFrame with names of different lengths\n",
    "df = spark.createDataFrame([\n",
    "    (1, \"Alice\", 2),\n",
    "    (2, \"Bob\", 5),\n",
    "    (3, \"Carolynn\", 8),  # Longer name\n",
    "    (4, \"David\", 11),\n",
    "    (5, \"Eve\", 22),  # Shorter name\n",
    "    (6, \"Franklin\", 33)  # Longer name\n",
    "], ['id', 'name', 'age'])\n",
    "\n",
    "extended_df = df \\\n",
    "    .withColumnRenamed('id', 'identifier') \\\n",
    "    .withColumn('name_length', expr(\"length(name)\")) \\\n",
    "    .withColumn('starts_with_vowel', starts_with_vowel_udf('name')) \\\n",
    "    .withColumn('age_group', age_group_udf('age')) \\\n",
    "    .filter(col('name_length') > 3) \\\n",
    "    .orderBy('name', ascending=False)\n",
    "\n",
    "extended_df.show()"
   ]
  },
  {
   "cell_type": "code",
   "execution_count": null,
   "id": "2e0e634d6f51ff51",
   "metadata": {
    "ExecuteTime": {
     "start_time": "2023-11-11T22:09:31.460559Z"
    },
    "collapsed": false
   },
   "outputs": [],
   "source": [
    "starts_with_vowel_udf = udf(lambda name: name[0].lower() in ['a', 'e', 'i', 'o', 'u'], BooleanType())\n",
    "\n",
    "age_group_udf = udf(lambda age: 'child' if age < 13 else 'teen' if age < 20 else 'adult', StringType())\n",
    "\n",
    "string_length_udf = udf(lambda name: len(name), IntegerType())\n",
    "\n",
    "# Create DataFrame with names of different lengths\n",
    "df = spark.createDataFrame([\n",
    "    (1, \"Alice\", 2),\n",
    "    (2, \"Bob\", 5),\n",
    "    (3, \"Carolynn\", 8),  # Longer name\n",
    "    (4, \"David\", 11),\n",
    "    (5, \"Eve\", 22),  # Shorter name\n",
    "    (6, \"Franklin\", 33)  # Longer name\n",
    "], ['id', 'name', 'age'])\n",
    "\n",
    "extended_df = df \\\n",
    "    .withColumnRenamed('id', 'identifier') \\\n",
    "    .withColumn('name_length', string_length_udf('name')) \\\n",
    "    .withColumn('starts_with_vowel', starts_with_vowel_udf('name')) \\\n",
    "    .withColumn('age_group', age_group_udf('age')) \\\n",
    "    .filter(col('name_length') > 3) \\\n",
    "    .orderBy('name', ascending=False)\n",
    "\n",
    "extended_df.show()"
   ]
  },
  {
   "cell_type": "code",
   "execution_count": null,
   "id": "dd932f6aa79a8be2",
   "metadata": {
    "ExecuteTime": {
     "start_time": "2023-11-11T22:09:31.461680Z"
    },
    "collapsed": false
   },
   "outputs": [],
   "source": [
    "def starts_with_vowel(name):\n",
    "    return name[0].lower() in ['a', 'e', 'i', 'o', 'u']\n",
    "\n",
    "\n",
    "def age_group(age):\n",
    "    if age < 13:\n",
    "        return 'child'\n",
    "    elif age < 20:\n",
    "        return 'teen'\n",
    "    else:\n",
    "        return 'adult'\n",
    "\n",
    "\n",
    "def string_length(name):\n",
    "    return len(name) if name else None\n",
    "\n",
    "\n",
    "# Convert Python functions to UDFs\n",
    "starts_with_vowel_udf = udf(starts_with_vowel, BooleanType())\n",
    "age_group_udf = udf(age_group, StringType())\n",
    "string_length_udf = udf(string_length, IntegerType())\n",
    "\n",
    "# Create DataFrame with names of different lengths\n",
    "df = spark.createDataFrame([\n",
    "    (1, \"Alice\", 2),\n",
    "    (2, \"Bob\", 5),\n",
    "    (3, \"Carolynn\", 8),  # Longer name\n",
    "    (4, \"David\", 11),\n",
    "    (5, \"Eve\", 22),  # Shorter name\n",
    "    (6, \"Franklin\", 33)  # Longer name\n",
    "], ['id', 'name', 'age'])\n",
    "\n",
    "extended_df = df \\\n",
    "    .withColumnRenamed('id', 'identifier') \\\n",
    "    .withColumn('name_length', string_length_udf('name')) \\\n",
    "    .withColumn('starts_with_vowel', starts_with_vowel_udf('name')) \\\n",
    "    .withColumn('age_group', age_group_udf('age')) \\\n",
    "    .filter(col('name_length') > 3) \\\n",
    "    .orderBy('name', ascending=False)\n",
    "\n",
    "extended_df.show()"
   ]
  },
  {
   "cell_type": "code",
   "execution_count": null,
   "id": "8d93126cab6964a9",
   "metadata": {
    "ExecuteTime": {
     "start_time": "2023-11-11T22:09:31.462929Z"
    },
    "collapsed": false
   },
   "outputs": [],
   "source": [
    "def with_starts_with_vowel(df_transform: DataFrame) -> DataFrame:\n",
    "    return df_transform.withColumn('starts_with_vowel',\n",
    "                                   lower(substring(col('name'), 0, 1)).isin(['a', 'e', 'i', 'o', 'u']))\n",
    "\n",
    "\n",
    "def with_age_group(df_transform: DataFrame) -> DataFrame:\n",
    "    return df_transform.withColumn('age_group', when(col('age') < 13, 'child')\n",
    "                                   .when(col('age') < 20, 'teen')\n",
    "                                   .otherwise('adult'))\n",
    "\n",
    "\n",
    "def with_name_length(df_transform: DataFrame) -> DataFrame:\n",
    "    return df_transform.withColumn('name_length', length(col('name')))\n",
    "\n",
    "\n",
    "# Create DataFrame with names of different lengths\n",
    "df = spark.createDataFrame([\n",
    "    (1, \"Alice\", 2),\n",
    "    (2, \"Bob\", 5),\n",
    "    (3, \"Carolynn\", 8),  # Longer name\n",
    "    (4, \"David\", 11),\n",
    "    (5, \"Eve\", 22),  # Shorter name\n",
    "    (6, \"Franklin\", 33)  # Longer name\n",
    "], ['id', 'name', 'age'])\n",
    "\n",
    "extended_df = df \\\n",
    "    .withColumnRenamed('id', 'identifier') \\\n",
    "    .transform(with_name_length) \\\n",
    "    .transform(with_starts_with_vowel) \\\n",
    "    .transform(with_age_group) \\\n",
    "    .filter(col('name_length') > 3) \\\n",
    "    .orderBy('name', ascending=False)\n",
    "\n",
    "extended_df.show()"
   ]
  },
  {
   "cell_type": "code",
   "execution_count": 3,
   "id": "b0a70cdc717c24a4",
   "metadata": {
    "ExecuteTime": {
     "end_time": "2023-11-13T01:18:12.051449Z",
     "start_time": "2023-11-13T01:18:05.734483Z"
    },
    "collapsed": false
   },
   "outputs": [
    {
     "name": "stderr",
     "output_type": "stream",
     "text": [
      "                                                                                \r"
     ]
    },
    {
     "name": "stdout",
     "output_type": "stream",
     "text": [
      "+----------+--------+---+-----------+-----------------+---------+\n",
      "|identifier|    name|age|name_length|starts_with_vowel|age_group|\n",
      "+----------+--------+---+-----------+-----------------+---------+\n",
      "|         6|Franklin| 33|          8|            false|    adult|\n",
      "|         4|   David| 11|          5|            false|    child|\n",
      "|         3|Carolynn|  8|          8|            false|    child|\n",
      "|         1|   Alice|  2|          5|             true|    child|\n",
      "+----------+--------+---+-----------+-----------------+---------+\n"
     ]
    }
   ],
   "source": [
    "def with_starts_with_vowel(df_transform: DataFrame) -> DataFrame:\n",
    "    return df_transform.withColumn('starts_with_vowel',\n",
    "                                   lower(substring(col('name'), 0, 1)).isin(['a', 'e', 'i', 'o', 'u']))\n",
    "\n",
    "\n",
    "def with_age_group(df_transform: DataFrame) -> DataFrame:\n",
    "    return df_transform.withColumn('age_group', when(col('age') < 13, 'child')\n",
    "                                   .when(col('age') < 20, 'teen')\n",
    "                                   .otherwise('adult'))\n",
    "\n",
    "\n",
    "def with_name_length(df_transform: DataFrame) -> DataFrame:\n",
    "    return df_transform.withColumn('name_length', length(col('name')))\n",
    "\n",
    "\n",
    "def rename_columns(df_transform: DataFrame, new_column_names: dict) -> DataFrame:\n",
    "    for old_name, new_name in new_column_names.items():\n",
    "        df_transform = df_transform.withColumnRenamed(old_name, new_name)\n",
    "    return df_transform\n",
    "\n",
    "\n",
    "def filter_by_name_length(df_transform: DataFrame, min_length: int) -> DataFrame:\n",
    "    return df_transform.filter(col('name_length') > min_length)\n",
    "\n",
    "\n",
    "def sort_by_name(df_transform: DataFrame, ascending: bool = True) -> DataFrame:\n",
    "    return df_transform.orderBy('name', ascending=ascending)\n",
    "\n",
    "\n",
    "def transform(df_transform: DataFrame, *transform_functions) -> DataFrame:\n",
    "    for transform_function in transform_functions:\n",
    "        df_transform = transform_function(df_transform)\n",
    "    return df_transform\n",
    "\n",
    "\n",
    "# Create DataFrame with names of different lengths\n",
    "df = spark.createDataFrame([\n",
    "    (1, \"Alice\", 2),\n",
    "    (2, \"Bob\", 5),\n",
    "    (3, \"Carolynn\", 8),  # Longer name\n",
    "    (4, \"David\", 11),\n",
    "    (5, \"Eve\", 22),  # Shorter name\n",
    "    (6, \"Franklin\", 33)  # Longer name\n",
    "], ['id', 'name', 'age'])\n",
    "\n",
    "extended_df = transform(df,\n",
    "                        with_name_length,\n",
    "                        with_starts_with_vowel,\n",
    "                        with_age_group,\n",
    "                        lambda dff: filter_by_name_length(dff, 3),\n",
    "                        lambda dff: rename_columns(dff, {'id': 'identifier'}),\n",
    "                        lambda dff: sort_by_name(dff, ascending=False))\n",
    "\n",
    "extended_df.show()"
   ]
  },
  {
   "cell_type": "code",
   "execution_count": 9,
   "id": "c7f93a363f649fbc",
   "metadata": {
    "ExecuteTime": {
     "end_time": "2023-11-13T02:01:32.668617Z",
     "start_time": "2023-11-13T02:01:31.575583Z"
    },
    "collapsed": false
   },
   "outputs": [
    {
     "name": "stdout",
     "output_type": "stream",
     "text": [
      "+----------+--------+---+-----------+-----------------+---------+\n",
      "|identifier|    name|age|name_length|starts_with_vowel|age_group|\n",
      "+----------+--------+---+-----------+-----------------+---------+\n",
      "|         6|Franklin| 33|          8|            false|    adult|\n",
      "|         4|   David| 11|          5|            false|    child|\n",
      "|         3|Carolynn|  8|          8|            false|    child|\n",
      "|         1|   Alice|  2|          5|             true|    child|\n",
      "+----------+--------+---+-----------+-----------------+---------+\n"
     ]
    }
   ],
   "source": [
    "# Create DataFrame with names of different lengths\n",
    "df = spark.createDataFrame([\n",
    "    (1, \"Alice\", 2),\n",
    "    (2, \"Bob\", 5),\n",
    "    (3, \"Carolynn\", 8),  # Longer name\n",
    "    (4, \"David\", 11),\n",
    "    (5, \"Eve\", 22),  # Shorter name\n",
    "    (6, \"Franklin\", 33)  # Longer name\n",
    "], ['id', 'name', 'age'])\n",
    "\n",
    "extended_df = df \\\n",
    "    .transform(lambda dff: rename_columns(dff, {\"id\": \"identifier\"})) \\\n",
    "    .transform(with_name_length) \\\n",
    "    .transform(with_starts_with_vowel) \\\n",
    "    .transform(with_age_group) \\\n",
    "    .transform(lambda dff: filter_by_name_length(dff, 3)) \\\n",
    "    .transform(lambda dff: sort_by_name(dff, ascending=False))\n",
    "\n",
    "extended_df.show()"
   ]
  },
  {
   "cell_type": "code",
   "execution_count": 24,
   "id": "4fb6c1116fcd8363",
   "metadata": {
    "ExecuteTime": {
     "end_time": "2023-11-14T04:43:09.253660Z",
     "start_time": "2023-11-14T04:43:08.291264Z"
    },
    "collapsed": false
   },
   "outputs": [
    {
     "name": "stdout",
     "output_type": "stream",
     "text": [
      "root\n",
      " |-- id: long (nullable = true)\n",
      " |-- name: string (nullable = true)\n",
      " |-- age: long (nullable = true)\n",
      " |-- birth_date_v1: date (nullable = true)\n",
      " |-- birth_date_v3: string (nullable = true)\n",
      " |-- birth_date_v2: date (nullable = true)\n",
      "+---+--------+---+-------------+-------------+-------------+\n",
      "| id|    name|age|birth_date_v1|birth_date_v3|birth_date_v2|\n",
      "+---+--------+---+-------------+-------------+-------------+\n",
      "|  1|   Alice|  2|   2021-01-01|   2021-01-01|   2021-01-01|\n",
      "|  2|     Bob|  5|   2018-01-01|   2018-01-01|   2018-01-01|\n",
      "|  3|Carolynn|  8|   2015-01-01|   2015-01-01|   2015-01-01|\n",
      "|  4|   David| 11|   2012-01-01|   2012-01-01|   2012-01-01|\n",
      "|  5|     Eve| 22|   2001-01-01|   2001-01-01|   2001-01-01|\n",
      "|  6|Franklin| 33|   1990-01-01|   1990-01-01|   1990-01-01|\n",
      "+---+--------+---+-------------+-------------+-------------+\n"
     ]
    }
   ],
   "source": [
    "from datetime import datetime\n",
    "\n",
    "\n",
    "def with_birth_date_from_age(df_transform: DataFrame) -> DataFrame:\n",
    "    return df_transform.withColumn('birth_date_v1', expr(f\"make_date({datetime.now().year} - age, 1, 1)\"))\n",
    "\n",
    "\n",
    "def with_birth_date_with_age_v2(df_transform: DataFrame) -> DataFrame:\n",
    "    return df_transform.withColumn(\"birth_date_v3\", concat(datetime.now().year - col(\"age\"), lit(\"-01-01\")))\n",
    "\n",
    "\n",
    "def with_birth_date(df_transform: DataFrame) -> DataFrame:\n",
    "    return df_transform.withColumn(\"birth_date_v2\",\n",
    "                                   to_date(concat(datetime.now().year - col(\"age\"), lit(\"-01-01\")), 'yyyy-MM-dd'))\n",
    "\n",
    "\n",
    "# Create DataFrame with names of different lengths\n",
    "df = spark.createDataFrame([\n",
    "    (1, \"Alice\", 2),\n",
    "    (2, \"Bob\", 5),\n",
    "    (3, \"Carolynn\", 8),  # Longer name\n",
    "    (4, \"David\", 11),\n",
    "    (5, \"Eve\", 22),  # Shorter name\n",
    "    (6, \"Franklin\", 33)  # Longer name\n",
    "], ['id', 'name', 'age'])\n",
    "\n",
    "extended_df = df \\\n",
    "    .transform(with_birth_date_from_age) \\\n",
    "    .transform(with_birth_date_with_age_v2) \\\n",
    "    .transform(with_birth_date)\n",
    "\n",
    "extended_df.printSchema()\n",
    "\n",
    "extended_df.show()\n",
    "\n",
    "\n"
   ]
  },
  {
   "cell_type": "code",
   "execution_count": null,
   "id": "f0ec596e9c7b87d5",
   "metadata": {
    "collapsed": false
   },
   "outputs": [],
   "source": []
  }
 ],
 "metadata": {
  "kernelspec": {
   "display_name": "Python 3",
   "language": "python",
   "name": "python3"
  },
  "language_info": {
   "codemirror_mode": {
    "name": "ipython",
    "version": 2
   },
   "file_extension": ".py",
   "mimetype": "text/x-python",
   "name": "python",
   "nbconvert_exporter": "python",
   "pygments_lexer": "ipython2",
   "version": "3.10.13"
  }
 },
 "nbformat": 4,
 "nbformat_minor": 5
}
