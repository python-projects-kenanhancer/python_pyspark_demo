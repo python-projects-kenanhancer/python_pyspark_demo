{
 "cells": [
  {
   "cell_type": "code",
   "execution_count": 1,
   "id": "initial_id",
   "metadata": {
    "collapsed": true,
    "ExecuteTime": {
     "end_time": "2023-11-08T09:09:54.129305Z",
     "start_time": "2023-11-08T09:09:49.097507Z"
    }
   },
   "outputs": [
    {
     "name": "stderr",
     "output_type": "stream",
     "text": [
      "23/11/08 09:09:51 WARN Utils: Your hostname, kenans-MacBook-Pro.local resolves to a loopback address: 127.0.0.1; using 172.20.10.2 instead (on interface en0)\n",
      "23/11/08 09:09:51 WARN Utils: Set SPARK_LOCAL_IP if you need to bind to another address\n",
      "Setting default log level to \"WARN\".\n",
      "To adjust logging level use sc.setLogLevel(newLevel). For SparkR, use setLogLevel(newLevel).\n",
      "23/11/08 09:09:52 WARN NativeCodeLoader: Unable to load native-hadoop library for your platform... using builtin-java classes where applicable\n"
     ]
    }
   ],
   "source": [
    "from pyspark.sql import SparkSession, Row\n",
    "from pyspark.sql.functions import *\n",
    "\n",
    "# from pyspark.sql import functions as sf\n",
    "\n",
    "spark = SparkSession.builder \\\n",
    "    .appName(\"sql\") \\\n",
    "    .getOrCreate()"
   ]
  },
  {
   "cell_type": "code",
   "execution_count": 2,
   "outputs": [
    {
     "name": "stderr",
     "output_type": "stream",
     "text": [
      "                                                                                \r"
     ]
    },
    {
     "name": "stdout",
     "output_type": "stream",
     "text": [
      "+------+-----+\n",
      "|  name|count|\n",
      "+------+-----+\n",
      "| Alice|    3|\n",
      "|   Bob|    3|\n",
      "| james|    2|\n",
      "| Cathy|    2|\n",
      "|andrew|    1|\n",
      "|   ann|    1|\n",
      "+------+-----+\n"
     ]
    }
   ],
   "source": [
    "peopleV2 = spark.createDataFrame([Row(name=\"andrew\", age=32),\n",
    "                                  Row(name=\"james\", age=23),\n",
    "                                  Row(name=\"james\", age=4),\n",
    "                                  Row(name=\"ann\", age=12),\n",
    "                                  Row(name=\"Alice\", age=2),\n",
    "                                  Row(name=\"Alice\", age=3),\n",
    "                                  Row(name=\"Alice\", age=6),\n",
    "                                  Row(name=\"Bob\", age=5),\n",
    "                                  Row(name=\"Bob\", age=10),\n",
    "                                  Row(name=\"Bob\", age=12),\n",
    "                                  Row(name=\"Cathy\", age=7),\n",
    "                                  Row(name=\"Cathy\", age=8)])\n",
    "\n",
    "peopleV2.groupby('name') \\\n",
    "    .agg(count('*').alias('count')) \\\n",
    "    .sort(col('count').desc()) \\\n",
    "    .show()"
   ],
   "metadata": {
    "collapsed": false,
    "ExecuteTime": {
     "end_time": "2023-11-08T09:10:03.243709Z",
     "start_time": "2023-11-08T09:09:54.132122Z"
    }
   },
   "id": "d88445d221491b5b"
  },
  {
   "cell_type": "code",
   "execution_count": 3,
   "outputs": [
    {
     "name": "stderr",
     "output_type": "stream",
     "text": [
      "[Stage 3:>                                                        (0 + 10) / 10]\r"
     ]
    },
    {
     "name": "stdout",
     "output_type": "stream",
     "text": [
      "+------+-----+\n",
      "|  name|count|\n",
      "+------+-----+\n",
      "|andrew|    1|\n",
      "|   ann|    1|\n",
      "| james|    2|\n",
      "| Cathy|    2|\n",
      "| Alice|    3|\n",
      "|   Bob|    3|\n",
      "+------+-----+\n"
     ]
    },
    {
     "name": "stderr",
     "output_type": "stream",
     "text": [
      "                                                                                \r"
     ]
    }
   ],
   "source": [
    "peopleV2.groupby('name') \\\n",
    "    .agg({\"*\": 'count'}) \\\n",
    "    .withColumnRenamed('count(1)', 'count') \\\n",
    "    .sort('count', ascending=True).show()"
   ],
   "metadata": {
    "collapsed": false,
    "ExecuteTime": {
     "end_time": "2023-11-08T09:10:05.242004Z",
     "start_time": "2023-11-08T09:10:03.243597Z"
    }
   },
   "id": "35770392b038649e"
  },
  {
   "cell_type": "code",
   "execution_count": 4,
   "outputs": [
    {
     "name": "stderr",
     "output_type": "stream",
     "text": [
      "[Stage 6:>                                                        (0 + 10) / 10]\r"
     ]
    },
    {
     "name": "stdout",
     "output_type": "stream",
     "text": [
      "+------+-----+\n",
      "|  name|count|\n",
      "+------+-----+\n",
      "|andrew|    1|\n",
      "|   ann|    1|\n",
      "| james|    2|\n",
      "| Cathy|    2|\n",
      "| Alice|    3|\n",
      "|   Bob|    3|\n",
      "+------+-----+\n"
     ]
    },
    {
     "name": "stderr",
     "output_type": "stream",
     "text": [
      "                                                                                \r"
     ]
    }
   ],
   "source": [
    "peopleV2.groupby('name') \\\n",
    "    .agg(count('*').alias('count')) \\\n",
    "    .sort(col('count').asc()) \\\n",
    "    .show()"
   ],
   "metadata": {
    "collapsed": false,
    "ExecuteTime": {
     "end_time": "2023-11-08T09:10:06.493797Z",
     "start_time": "2023-11-08T09:10:05.242127Z"
    }
   },
   "id": "d23dd7aae826efd4"
  },
  {
   "cell_type": "code",
   "execution_count": 5,
   "outputs": [
    {
     "name": "stdout",
     "output_type": "stream",
     "text": [
      "+------+-------+-------+\n",
      "|  name|min_age|max_age|\n",
      "+------+-------+-------+\n",
      "| Alice|      2|      6|\n",
      "| james|      4|     23|\n",
      "|   Bob|      5|     12|\n",
      "| Cathy|      7|      8|\n",
      "|   ann|     12|     12|\n",
      "|andrew|     32|     32|\n",
      "+------+-------+-------+\n"
     ]
    }
   ],
   "source": [
    "peopleV2.groupby('name') \\\n",
    "    .agg(min('age').alias('min_age'), max('age').alias('max_age')) \\\n",
    "    .sort(col('min_age').asc()) \\\n",
    "    .show()"
   ],
   "metadata": {
    "collapsed": false,
    "ExecuteTime": {
     "end_time": "2023-11-08T09:10:07.658860Z",
     "start_time": "2023-11-08T09:10:06.494321Z"
    }
   },
   "id": "d3c0c91df65765dd"
  },
  {
   "cell_type": "code",
   "execution_count": 8,
   "outputs": [
    {
     "name": "stdout",
     "output_type": "stream",
     "text": [
      "+------+-------+\n",
      "|  name|min_age|\n",
      "+------+-------+\n",
      "| Alice|      2|\n",
      "|   Bob|      5|\n",
      "| Cathy|      7|\n",
      "|andrew|     32|\n",
      "|   ann|     12|\n",
      "| james|      4|\n",
      "+------+-------+\n"
     ]
    },
    {
     "name": "stderr",
     "output_type": "stream",
     "text": [
      "/Users/kenanhancer/Documents/projects/python-projects-kenanhancer/python_pyspark_demo/.venv/lib/python3.10/site-packages/pyspark/python/lib/pyspark.zip/pyspark/sql/pandas/serializers.py:224: FutureWarning: is_categorical_dtype is deprecated and will be removed in a future version. Use isinstance(dtype, CategoricalDtype) instead\n",
      "/Users/kenanhancer/Documents/projects/python-projects-kenanhancer/python_pyspark_demo/.venv/lib/python3.10/site-packages/pyspark/python/lib/pyspark.zip/pyspark/sql/pandas/serializers.py:224: FutureWarning: is_categorical_dtype is deprecated and will be removed in a future version. Use isinstance(dtype, CategoricalDtype) instead\n",
      "/Users/kenanhancer/Documents/projects/python-projects-kenanhancer/python_pyspark_demo/.venv/lib/python3.10/site-packages/pyspark/python/lib/pyspark.zip/pyspark/sql/pandas/serializers.py:224: FutureWarning: is_categorical_dtype is deprecated and will be removed in a future version. Use isinstance(dtype, CategoricalDtype) instead\n",
      "/Users/kenanhancer/Documents/projects/python-projects-kenanhancer/python_pyspark_demo/.venv/lib/python3.10/site-packages/pyspark/python/lib/pyspark.zip/pyspark/sql/pandas/serializers.py:224: FutureWarning: is_categorical_dtype is deprecated and will be removed in a future version. Use isinstance(dtype, CategoricalDtype) instead\n",
      "/Users/kenanhancer/Documents/projects/python-projects-kenanhancer/python_pyspark_demo/.venv/lib/python3.10/site-packages/pyspark/python/lib/pyspark.zip/pyspark/sql/pandas/serializers.py:224: FutureWarning: is_categorical_dtype is deprecated and will be removed in a future version. Use isinstance(dtype, CategoricalDtype) instead\n",
      "/Users/kenanhancer/Documents/projects/python-projects-kenanhancer/python_pyspark_demo/.venv/lib/python3.10/site-packages/pyspark/python/lib/pyspark.zip/pyspark/sql/pandas/serializers.py:224: FutureWarning: is_categorical_dtype is deprecated and will be removed in a future version. Use isinstance(dtype, CategoricalDtype) instead\n"
     ]
    }
   ],
   "source": [
    "@pandas_udf('int', PandasUDFType.GROUPED_AGG)\n",
    "def min_udf(v):\n",
    "    return v.min()\n",
    "\n",
    "\n",
    "peopleV2.groupby('name').agg(min_udf(peopleV2.age).alias('min_age')).sort('name').show()"
   ],
   "metadata": {
    "collapsed": false,
    "ExecuteTime": {
     "end_time": "2023-11-08T09:12:57.350814Z",
     "start_time": "2023-11-08T09:12:56.630068Z"
    }
   },
   "id": "417f18eac0dce4b8"
  },
  {
   "cell_type": "code",
   "execution_count": 6,
   "outputs": [],
   "source": [],
   "metadata": {
    "collapsed": false,
    "ExecuteTime": {
     "end_time": "2023-11-08T09:10:10.214517Z",
     "start_time": "2023-11-08T09:10:10.212972Z"
    }
   },
   "id": "ed9bcdc95135455d"
  }
 ],
 "metadata": {
  "kernelspec": {
   "display_name": "Python 3",
   "language": "python",
   "name": "python3"
  },
  "language_info": {
   "codemirror_mode": {
    "name": "ipython",
    "version": 2
   },
   "file_extension": ".py",
   "mimetype": "text/x-python",
   "name": "python",
   "nbconvert_exporter": "python",
   "pygments_lexer": "ipython2",
   "version": "2.7.6"
  }
 },
 "nbformat": 4,
 "nbformat_minor": 5
}
