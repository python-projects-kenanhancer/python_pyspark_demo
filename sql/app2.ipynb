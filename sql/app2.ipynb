{
 "cells": [
  {
   "cell_type": "code",
   "execution_count": null,
   "id": "initial_id",
   "metadata": {
    "ExecuteTime": {
     "end_time": "2023-11-11T22:21:39.536903Z",
     "start_time": "2023-11-11T22:21:38.105338Z"
    },
    "collapsed": true
   },
   "outputs": [
    {
     "name": "stderr",
     "output_type": "stream",
     "text": [
      "WARNING: Using incubator modules: jdk.incubator.vector\n",
      "Using Spark's default log4j profile: org/apache/spark/log4j2-defaults.properties\n",
      "25/10/14 23:18:04 WARN Utils: Your hostname, kenans-MacBook-Pro.local, resolves to a loopback address: 127.0.0.1; using 192.168.1.102 instead (on interface en0)\n",
      "25/10/14 23:18:04 WARN Utils: Set SPARK_LOCAL_IP if you need to bind to another address\n",
      "Using Spark's default log4j profile: org/apache/spark/log4j2-defaults.properties\n",
      "Setting default log level to \"WARN\".\n",
      "To adjust logging level use sc.setLogLevel(newLevel). For SparkR, use setLogLevel(newLevel).\n",
      "25/10/14 23:18:04 WARN NativeCodeLoader: Unable to load native-hadoop library for your platform... using builtin-java classes where applicable\n",
      "25/10/14 23:18:04 WARN Utils: Service 'SparkUI' could not bind on port 4040. Attempting port 4041.\n",
      "25/10/14 23:18:04 WARN Utils: Service 'SparkUI' could not bind on port 4041. Attempting port 4042.\n",
      "25/10/14 23:18:04 WARN Utils: Service 'SparkUI' could not bind on port 4042. Attempting port 4043.\n",
      "25/10/14 23:18:04 WARN Utils: Service 'SparkUI' could not bind on port 4043. Attempting port 4044.\n",
      "25/10/14 23:18:04 WARN Utils: Service 'SparkUI' could not bind on port 4044. Attempting port 4045.\n",
      "25/10/14 23:18:04 WARN Utils: Service 'SparkUI' could not bind on port 4045. Attempting port 4046.\n"
     ]
    }
   ],
   "source": [
    "from pyspark.sql import Row, SparkSession\n",
    "from pyspark.sql.functions import col, count, max, min\n",
    "from pyspark.sql.pandas.functions import PandasUDFType, pandas_udf\n",
    "\n",
    "# from pyspark.sql import functions as sf\n",
    "\n",
    "spark = SparkSession.builder.appName(\"sql2\").getOrCreate()"
   ]
  },
  {
   "cell_type": "code",
   "execution_count": null,
   "id": "d88445d221491b5b",
   "metadata": {
    "ExecuteTime": {
     "end_time": "2023-11-08T09:10:03.243709Z",
     "start_time": "2023-11-08T09:09:54.132122Z"
    },
    "collapsed": false
   },
   "outputs": [
    {
     "name": "stderr",
     "output_type": "stream",
     "text": [
      "[Stage 0:>                                                        (0 + 16) / 16]\r"
     ]
    },
    {
     "name": "stdout",
     "output_type": "stream",
     "text": [
      "+------+-----+\n",
      "|  name|count|\n",
      "+------+-----+\n",
      "| Alice|    3|\n",
      "|   Bob|    3|\n",
      "| james|    2|\n",
      "| Cathy|    2|\n",
      "|andrew|    1|\n",
      "|   ann|    1|\n",
      "+------+-----+\n",
      "\n"
     ]
    },
    {
     "name": "stderr",
     "output_type": "stream",
     "text": [
      "                                                                                \r"
     ]
    }
   ],
   "source": [
    "peopleV2 = spark.createDataFrame(\n",
    "    [\n",
    "        Row(name=\"andrew\", age=32),\n",
    "        Row(name=\"james\", age=23),\n",
    "        Row(name=\"james\", age=4),\n",
    "        Row(name=\"ann\", age=12),\n",
    "        Row(name=\"Alice\", age=2),\n",
    "        Row(name=\"Alice\", age=3),\n",
    "        Row(name=\"Alice\", age=6),\n",
    "        Row(name=\"Bob\", age=5),\n",
    "        Row(name=\"Bob\", age=10),\n",
    "        Row(name=\"Bob\", age=12),\n",
    "        Row(name=\"Cathy\", age=7),\n",
    "        Row(name=\"Cathy\", age=8),\n",
    "    ]\n",
    ")\n",
    "\n",
    "peopleV2.groupby(\"name\").agg(count(\"*\").alias(\"count\")).sort(col(\"count\").desc()).show()"
   ]
  },
  {
   "cell_type": "code",
   "execution_count": null,
   "id": "35770392b038649e",
   "metadata": {
    "ExecuteTime": {
     "end_time": "2023-11-08T09:10:05.242004Z",
     "start_time": "2023-11-08T09:10:03.243597Z"
    },
    "collapsed": false
   },
   "outputs": [
    {
     "name": "stdout",
     "output_type": "stream",
     "text": [
      "+------+-----+\n",
      "|  name|count|\n",
      "+------+-----+\n",
      "|andrew|    1|\n",
      "|   ann|    1|\n",
      "| james|    2|\n",
      "| Cathy|    2|\n",
      "| Alice|    3|\n",
      "|   Bob|    3|\n",
      "+------+-----+\n",
      "\n"
     ]
    }
   ],
   "source": [
    "peopleV2.groupby(\"name\").agg({\"*\": \"count\"}).withColumnRenamed(\"count(1)\", \"count\").sort(\"count\", ascending=True).show()"
   ]
  },
  {
   "cell_type": "code",
   "execution_count": null,
   "id": "d23dd7aae826efd4",
   "metadata": {
    "ExecuteTime": {
     "end_time": "2023-11-08T09:10:06.493797Z",
     "start_time": "2023-11-08T09:10:05.242127Z"
    },
    "collapsed": false
   },
   "outputs": [
    {
     "name": "stdout",
     "output_type": "stream",
     "text": [
      "+------+-----+\n",
      "|  name|count|\n",
      "+------+-----+\n",
      "|andrew|    1|\n",
      "|   ann|    1|\n",
      "| james|    2|\n",
      "| Cathy|    2|\n",
      "| Alice|    3|\n",
      "|   Bob|    3|\n",
      "+------+-----+\n",
      "\n"
     ]
    }
   ],
   "source": [
    "peopleV2.groupby(\"name\").agg(count(\"*\").alias(\"count\")).sort(col(\"count\").asc()).show()"
   ]
  },
  {
   "cell_type": "code",
   "execution_count": null,
   "id": "d3c0c91df65765dd",
   "metadata": {
    "ExecuteTime": {
     "end_time": "2023-11-08T09:10:07.658860Z",
     "start_time": "2023-11-08T09:10:06.494321Z"
    },
    "collapsed": false
   },
   "outputs": [
    {
     "name": "stdout",
     "output_type": "stream",
     "text": [
      "+------+-------+-------+\n",
      "|  name|min_age|max_age|\n",
      "+------+-------+-------+\n",
      "| Alice|      2|      6|\n",
      "| james|      4|     23|\n",
      "|   Bob|      5|     12|\n",
      "| Cathy|      7|      8|\n",
      "|   ann|     12|     12|\n",
      "|andrew|     32|     32|\n",
      "+------+-------+-------+\n",
      "\n"
     ]
    }
   ],
   "source": [
    "peopleV2.groupby(\"name\").agg(min(\"age\").alias(\"min_age\"), max(\"age\").alias(\"max_age\")).sort(col(\"min_age\").asc()).show()"
   ]
  },
  {
   "cell_type": "code",
   "execution_count": null,
   "id": "417f18eac0dce4b8",
   "metadata": {
    "ExecuteTime": {
     "end_time": "2023-11-08T09:12:57.350814Z",
     "start_time": "2023-11-08T09:12:56.630068Z"
    },
    "collapsed": false
   },
   "outputs": [
    {
     "name": "stderr",
     "output_type": "stream",
     "text": [
      "/Users/kenanhancer/Documents/projects/python-projects-kenanhancer/python_pyspark_demo/.venv/lib/python3.13/site-packages/pyspark/sql/pandas/functions.py:446: UserWarning: In Python 3.6+ and Spark 3.0+, it is preferred to specify type hints for pandas UDF instead of specifying pandas UDF type which will be deprecated in the future releases. See SPARK-28264 for more details.\n",
      "  warnings.warn(\n"
     ]
    },
    {
     "name": "stdout",
     "output_type": "stream",
     "text": [
      "+------+-------+\n",
      "|  name|min_age|\n",
      "+------+-------+\n",
      "| Alice|      2|\n",
      "|   Bob|      5|\n",
      "| Cathy|      7|\n",
      "|andrew|     32|\n",
      "|   ann|     12|\n",
      "| james|      4|\n",
      "+------+-------+\n",
      "\n"
     ]
    },
    {
     "name": "stderr",
     "output_type": "stream",
     "text": [
      "                                                                                \r"
     ]
    }
   ],
   "source": [
    "@pandas_udf(\"int\", PandasUDFType.GROUPED_AGG)\n",
    "def min_udf(v):\n",
    "    return v.min()\n",
    "\n",
    "\n",
    "peopleV2.groupby(\"name\").agg(min_udf(peopleV2.age).alias(\"min_age\")).sort(\"name\").show()"
   ]
  }
 ],
 "metadata": {
  "kernelspec": {
   "display_name": ".venv",
   "language": "python",
   "name": "python3"
  },
  "language_info": {
   "codemirror_mode": {
    "name": "ipython",
    "version": 3
   },
   "file_extension": ".py",
   "mimetype": "text/x-python",
   "name": "python",
   "nbconvert_exporter": "python",
   "pygments_lexer": "ipython3",
   "version": "3.13.6"
  }
 },
 "nbformat": 4,
 "nbformat_minor": 5
}
