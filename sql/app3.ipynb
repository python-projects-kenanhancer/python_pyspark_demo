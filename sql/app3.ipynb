{
 "cells": [
  {
   "cell_type": "code",
   "execution_count": 3,
   "outputs": [],
   "source": [
    "from pyspark.sql import SparkSession\n",
    "from pyspark.sql.functions import col, udf\n",
    "from pyspark.sql.types import IntegerType\n",
    "\n",
    "spark = SparkSession.builder \\\n",
    "    .appName('sql') \\\n",
    "    .getOrCreate()"
   ],
   "metadata": {
    "collapsed": false,
    "ExecuteTime": {
     "end_time": "2023-11-11T01:08:44.826575Z",
     "start_time": "2023-11-11T01:08:44.785109Z"
    }
   },
   "id": "c3cab52f056c7a83"
  },
  {
   "cell_type": "code",
   "execution_count": 4,
   "outputs": [
    {
     "name": "stdout",
     "output_type": "stream",
     "text": [
      "+-----+---+\n",
      "| name|age|\n",
      "+-----+---+\n",
      "|Alice|  2|\n",
      "|  Bob|  5|\n",
      "+-----+---+\n"
     ]
    }
   ],
   "source": [
    "df = spark.createDataFrame([(2, 'Alice'), (5, 'Bob')], ['age', 'name'])\n",
    "df.select(df.name, df.age).show()"
   ],
   "metadata": {
    "collapsed": false,
    "ExecuteTime": {
     "end_time": "2023-11-11T01:08:47.098145Z",
     "start_time": "2023-11-11T01:08:44.794523Z"
    }
   },
   "id": "485afd0ce172cee4"
  },
  {
   "cell_type": "code",
   "execution_count": 5,
   "outputs": [
    {
     "name": "stdout",
     "output_type": "stream",
     "text": [
      "+-----+---+---------+\n",
      "| name|age|(age + 1)|\n",
      "+-----+---+---------+\n",
      "|Alice|  2|        3|\n",
      "|  Bob|  5|        6|\n",
      "+-----+---+---------+\n"
     ]
    }
   ],
   "source": [
    "df = spark.createDataFrame([(2, 'Alice'), (5, 'Bob')], ['age', 'name'])\n",
    "df.select(df.name, df.age, df.age + 1).show()"
   ],
   "metadata": {
    "collapsed": false,
    "ExecuteTime": {
     "end_time": "2023-11-11T01:08:47.934748Z",
     "start_time": "2023-11-11T01:08:47.094809Z"
    }
   },
   "id": "9765a0837c7cda3f"
  },
  {
   "cell_type": "code",
   "execution_count": 6,
   "outputs": [
    {
     "name": "stdout",
     "output_type": "stream",
     "text": [
      "+-----+---+----------+\n",
      "| name|age|agePlusOne|\n",
      "+-----+---+----------+\n",
      "|Alice|  2|         3|\n",
      "|  Bob|  5|         6|\n",
      "+-----+---+----------+\n"
     ]
    }
   ],
   "source": [
    "df = spark.createDataFrame([(2, 'Alice'), (5, 'Bob')], ['age', 'name'])\n",
    "df.select(df.name, df.age, (df.age + 1).alias('agePlusOne')).show()"
   ],
   "metadata": {
    "collapsed": false,
    "ExecuteTime": {
     "end_time": "2023-11-11T01:08:48.560784Z",
     "start_time": "2023-11-11T01:08:47.931310Z"
    }
   },
   "id": "fd1f7df189db3b"
  },
  {
   "cell_type": "code",
   "execution_count": 7,
   "outputs": [
    {
     "name": "stdout",
     "output_type": "stream",
     "text": [
      "+----+---+----------+\n",
      "|name|age|agePlusOne|\n",
      "+----+---+----------+\n",
      "| Bob|  5|         6|\n",
      "+----+---+----------+\n"
     ]
    }
   ],
   "source": [
    "df = spark.createDataFrame([(2, 'Alice'), (5, 'Bob')], ['age', 'name'])\n",
    "df.select(\n",
    "    df.name,\n",
    "    df.age,\n",
    "    (df.age + 1).alias('agePlusOne')\n",
    ").filter(df.age > 3).show()"
   ],
   "metadata": {
    "collapsed": false,
    "ExecuteTime": {
     "end_time": "2023-11-11T01:08:49.178514Z",
     "start_time": "2023-11-11T01:08:48.553736Z"
    }
   },
   "id": "66e5391c5701d6e0"
  },
  {
   "cell_type": "code",
   "execution_count": 8,
   "outputs": [
    {
     "name": "stdout",
     "output_type": "stream",
     "text": [
      "Bob is 5 years old, and will be 6 years old next year\n"
     ]
    }
   ],
   "source": [
    "df = spark.createDataFrame([(2, 'Alice'), (5, 'Bob')], ['age', 'name'])\n",
    "df_filtered = df.select(\n",
    "    df.name,\n",
    "    df.age,\n",
    "    (df.age + 1).alias('agePlusOne')\n",
    ").filter(df.age > 3).collect()\n",
    "\n",
    "for row in df_filtered:\n",
    "    print(f'{row.name} is {row.age} years old, and will be {row.agePlusOne} years old next year')"
   ],
   "metadata": {
    "collapsed": false,
    "ExecuteTime": {
     "end_time": "2023-11-11T01:08:49.691295Z",
     "start_time": "2023-11-11T01:08:49.175814Z"
    }
   },
   "id": "97e7027109e726c4"
  },
  {
   "cell_type": "code",
   "execution_count": 9,
   "outputs": [
    {
     "name": "stdout",
     "output_type": "stream",
     "text": [
      "Bob is 5 years old, and will be 6 years old next year\n"
     ]
    }
   ],
   "source": [
    "df = spark.createDataFrame([(2, 'Alice'), (5, 'Bob')], ['age', 'name'])\n",
    "df_filtered = df.select(\n",
    "    df.name,\n",
    "    df.age,\n",
    "    (df.age + 1).alias('agePlusOne')\n",
    ").filter(df.age > 3).collect()\n",
    "rows = map(lambda r: f'{r.name} is {r.age} years old, and will be {r.agePlusOne} years old next year',\n",
    "           df_filtered)\n",
    "\n",
    "for row in rows:\n",
    "    print(row)"
   ],
   "metadata": {
    "collapsed": false,
    "ExecuteTime": {
     "end_time": "2023-11-11T01:08:49.960109Z",
     "start_time": "2023-11-11T01:08:49.688867Z"
    }
   },
   "id": "32db59f067c0af6b"
  },
  {
   "cell_type": "code",
   "execution_count": 10,
   "outputs": [
    {
     "name": "stdout",
     "output_type": "stream",
     "text": [
      "{'name': 'Bob', 'age': 5, 'agePlusOne': 6}\n",
      "Bob is 5 years old, and will be 6 years old next year\n"
     ]
    }
   ],
   "source": [
    "df = spark.createDataFrame([(2, 'Alice'), (5, 'Bob')], ['age', 'name'])\n",
    "df_filtered = df.select(\n",
    "    df.name,\n",
    "    df.age,\n",
    "    (df.age + 1).alias('agePlusOne')\n",
    ").filter(df.age > 3).collect()\n",
    "rows_dict = map(lambda r: r.asDict(), df_filtered)\n",
    "\n",
    "for row in rows_dict:\n",
    "    print(row)\n",
    "    print(f'{row[\"name\"]} is {row[\"age\"]} years old, and will be {row[\"agePlusOne\"]} years old next year')"
   ],
   "metadata": {
    "collapsed": false,
    "ExecuteTime": {
     "end_time": "2023-11-11T01:08:50.258727Z",
     "start_time": "2023-11-11T01:08:49.957778Z"
    }
   },
   "id": "98205f96b0712444"
  },
  {
   "cell_type": "code",
   "execution_count": 11,
   "outputs": [
    {
     "name": "stdout",
     "output_type": "stream",
     "text": [
      "Bob is 5 years old, and will be 6 years old next year\n"
     ]
    }
   ],
   "source": [
    "def print_person_details(person):\n",
    "    return f'{person.name} is {person.age} years old, and will be {person.agePlusOne} years old next year'\n",
    "\n",
    "\n",
    "df = spark.createDataFrame([(2, 'Alice'), (5, 'Bob')], ['age', 'name'])\n",
    "df_filtered = df.select(\n",
    "    df.name,\n",
    "    df.age,\n",
    "    (df.age + 1).alias('agePlusOne')\n",
    ").filter(df.age > 3).collect()\n",
    "rows = map(lambda r: print_person_details(r), df_filtered)\n",
    "\n",
    "for row in rows:\n",
    "    print(row)"
   ],
   "metadata": {
    "collapsed": false,
    "ExecuteTime": {
     "end_time": "2023-11-11T01:08:50.509510Z",
     "start_time": "2023-11-11T01:08:50.256121Z"
    }
   },
   "id": "7ac156ab29a32961"
  },
  {
   "cell_type": "code",
   "execution_count": 18,
   "outputs": [
    {
     "name": "stdout",
     "output_type": "stream",
     "text": [
      "{'name': 'Bob', 'age': 5, 'agePlusOne': 6}\n",
      "Bob is 5 years old, and will be 6 years old next year\n"
     ]
    }
   ],
   "source": [
    "def print_person_details(person):\n",
    "    return f'{person[\"name\"]} is {person[\"age\"]} years old, and will be {person[\"agePlusOne\"]} years old next year'\n",
    "\n",
    "\n",
    "df = spark.createDataFrame([(2, 'Alice'), (5, 'Bob')], ['age', 'name'])\n",
    "df_filtered = df.select(\n",
    "    df.name,\n",
    "    df.age,\n",
    "    (col('age') + 1).alias('agePlusOne')\n",
    ").filter(col('age') > 3).collect()\n",
    "\n",
    "rows = map(lambda r: r.asDict(), df_filtered)\n",
    "\n",
    "for row in rows:\n",
    "    print(row)\n",
    "    print(print_person_details(row))"
   ],
   "metadata": {
    "collapsed": false,
    "ExecuteTime": {
     "end_time": "2023-11-11T01:09:32.212231Z",
     "start_time": "2023-11-11T01:09:32.003639Z"
    }
   },
   "id": "1ad58a291a884425"
  },
  {
   "cell_type": "code",
   "execution_count": 13,
   "outputs": [
    {
     "name": "stdout",
     "output_type": "stream",
     "text": [
      "+---+-----+----------+\n",
      "|age| name|agePlusOne|\n",
      "+---+-----+----------+\n",
      "|  2|Alice|         3|\n",
      "|  5|  Bob|         6|\n",
      "+---+-----+----------+\n"
     ]
    }
   ],
   "source": [
    "df = spark.createDataFrame([(2, 'Alice'), (5, 'Bob')], ['age', 'name'])\n",
    "\n",
    "age_plus_one_udf = udf(lambda age: age + 1, IntegerType())\n",
    "\n",
    "df.withColumn('agePlusOne', age_plus_one_udf(df.age)).show()"
   ],
   "metadata": {
    "collapsed": false,
    "ExecuteTime": {
     "end_time": "2023-11-11T01:08:51.786921Z",
     "start_time": "2023-11-11T01:08:50.781010Z"
    }
   },
   "id": "4de744bd714bfe47"
  },
  {
   "cell_type": "code",
   "execution_count": 14,
   "outputs": [
    {
     "name": "stdout",
     "output_type": "stream",
     "text": [
      "+----+---+----------+\n",
      "|name|age|agePlusOne|\n",
      "+----+---+----------+\n",
      "| Bob|  5|         6|\n",
      "+----+---+----------+\n",
      "+---+----+----------+\n",
      "|age|name|agePlusOne|\n",
      "+---+----+----------+\n",
      "|  5| Bob|         6|\n",
      "+---+----+----------+\n"
     ]
    }
   ],
   "source": [
    "df = spark.createDataFrame([(2, 'Alice'), (5, 'Bob')], ['age', 'name'])\n",
    "\n",
    "age_plus_one_udf = udf(lambda age: age + 1, IntegerType())\n",
    "\n",
    "# V1\n",
    "df.select(\n",
    "    df.name,\n",
    "    df.age,\n",
    "    age_plus_one_udf(df.age).alias('agePlusOne')\n",
    ").filter(df.age > 3).show()\n",
    "\n",
    "# V2\n",
    "df.filter(df.age > 3).withColumn('agePlusOne', age_plus_one_udf(df.age)).show()"
   ],
   "metadata": {
    "collapsed": false,
    "ExecuteTime": {
     "end_time": "2023-11-11T01:08:53.300099Z",
     "start_time": "2023-11-11T01:08:51.784289Z"
    }
   },
   "id": "839229214bd5634"
  },
  {
   "cell_type": "code",
   "execution_count": 15,
   "outputs": [
    {
     "name": "stdout",
     "output_type": "stream",
     "text": [
      "{'age': 5, 'name': 'Bob', 'agePlusOne': 6}\n",
      "Bob is 5 years old, and will be 6 years old next year\n"
     ]
    }
   ],
   "source": [
    "df = spark.createDataFrame([(2, 'Alice'), (5, 'Bob')], ['age', 'name'])\n",
    "\n",
    "age_plus_one_udf = udf(lambda age: age + 1, IntegerType())\n",
    "\n",
    "df_filtered = df \\\n",
    "    .withColumn('agePlusOne', age_plus_one_udf(df.age)) \\\n",
    "    .filter(df.age > 3) \\\n",
    "    .collect()\n",
    "\n",
    "rows = [row.asDict() for row in df_filtered]\n",
    "\n",
    "for row in rows:\n",
    "    print(row)\n",
    "    print(f'{row[\"name\"]} is {row[\"age\"]} years old, and will be {row[\"agePlusOne\"]} years old next year')"
   ],
   "metadata": {
    "collapsed": false,
    "ExecuteTime": {
     "end_time": "2023-11-11T01:08:53.711499Z",
     "start_time": "2023-11-11T01:08:53.297624Z"
    }
   },
   "id": "71d995e9c7a6817a"
  },
  {
   "cell_type": "code",
   "execution_count": 16,
   "outputs": [
    {
     "name": "stdout",
     "output_type": "stream",
     "text": [
      "{'age': 5, 'name': 'Bob', 'agePlusOne': 6}\n",
      "Bob is 5 years old, and will be 6 years old next year\n"
     ]
    }
   ],
   "source": [
    "df = spark.createDataFrame([(2, 'Alice'), (5, 'Bob')], ['age', 'name'])\n",
    "\n",
    "age_plus_one_udf = udf(lambda age: age + 1, IntegerType())\n",
    "\n",
    "df_filtered = df \\\n",
    "    .withColumn('agePlusOne', age_plus_one_udf(col('age'))) \\\n",
    "    .filter(col('age') > 3) \\\n",
    "    .collect()\n",
    "\n",
    "rows = [row.asDict() for row in df_filtered]\n",
    "\n",
    "for row in rows:\n",
    "    print(row)\n",
    "    print(f'{row[\"name\"]} is {row[\"age\"]} years old, and will be {row[\"agePlusOne\"]} years old next year')"
   ],
   "metadata": {
    "collapsed": false,
    "ExecuteTime": {
     "end_time": "2023-11-11T01:08:54.047489Z",
     "start_time": "2023-11-11T01:08:53.711183Z"
    }
   },
   "id": "146897aa1db139a7"
  },
  {
   "cell_type": "code",
   "execution_count": 16,
   "outputs": [],
   "source": [],
   "metadata": {
    "collapsed": false,
    "ExecuteTime": {
     "end_time": "2023-11-11T01:08:54.047628Z",
     "start_time": "2023-11-11T01:08:54.043776Z"
    }
   },
   "id": "492e3b38e20c649c"
  }
 ],
 "metadata": {
  "kernelspec": {
   "display_name": "Python 3",
   "language": "python",
   "name": "python3"
  },
  "language_info": {
   "codemirror_mode": {
    "name": "ipython",
    "version": 2
   },
   "file_extension": ".py",
   "mimetype": "text/x-python",
   "name": "python",
   "nbconvert_exporter": "python",
   "pygments_lexer": "ipython2",
   "version": "2.7.6"
  }
 },
 "nbformat": 4,
 "nbformat_minor": 5
}
